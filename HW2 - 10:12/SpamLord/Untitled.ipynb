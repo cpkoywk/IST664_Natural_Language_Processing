{
 "cells": [
  {
   "cell_type": "code",
   "execution_count": 10,
   "metadata": {},
   "outputs": [
    {
     "ename": "FileNotFoundError",
     "evalue": "[Errno 2] No such file or directory: '-f'",
     "output_type": "error",
     "traceback": [
      "\u001b[0;31m---------------------------------------------------------------------------\u001b[0m",
      "\u001b[0;31mFileNotFoundError\u001b[0m                         Traceback (most recent call last)",
      "\u001b[0;32m<ipython-input-10-ac1574ce9d57>\u001b[0m in \u001b[0;36m<module>\u001b[0;34m()\u001b[0m\n\u001b[1;32m    152\u001b[0m         \u001b[0mprint\u001b[0m \u001b[0;34m(\u001b[0m\u001b[0;34m'usage:\\tSpamLord.py <data_dir> <gold_file>'\u001b[0m\u001b[0;34m)\u001b[0m\u001b[0;34m\u001b[0m\u001b[0m\n\u001b[1;32m    153\u001b[0m         \u001b[0msys\u001b[0m\u001b[0;34m.\u001b[0m\u001b[0mexit\u001b[0m\u001b[0;34m(\u001b[0m\u001b[0;36m0\u001b[0m\u001b[0;34m)\u001b[0m\u001b[0;34m\u001b[0m\u001b[0m\n\u001b[0;32m--> 154\u001b[0;31m     \u001b[0mmain\u001b[0m\u001b[0;34m(\u001b[0m\u001b[0msys\u001b[0m\u001b[0;34m.\u001b[0m\u001b[0margv\u001b[0m\u001b[0;34m[\u001b[0m\u001b[0;36m1\u001b[0m\u001b[0;34m]\u001b[0m\u001b[0;34m,\u001b[0m\u001b[0msys\u001b[0m\u001b[0;34m.\u001b[0m\u001b[0margv\u001b[0m\u001b[0;34m[\u001b[0m\u001b[0;36m2\u001b[0m\u001b[0;34m]\u001b[0m\u001b[0;34m)\u001b[0m\u001b[0;34m\u001b[0m\u001b[0m\n\u001b[0m",
      "\u001b[0;32m<ipython-input-10-ac1574ce9d57>\u001b[0m in \u001b[0;36mmain\u001b[0;34m(data_path, gold_path)\u001b[0m\n\u001b[1;32m    139\u001b[0m \"\"\"\n\u001b[1;32m    140\u001b[0m \u001b[0;32mdef\u001b[0m \u001b[0mmain\u001b[0m\u001b[0;34m(\u001b[0m\u001b[0mdata_path\u001b[0m\u001b[0;34m,\u001b[0m \u001b[0mgold_path\u001b[0m\u001b[0;34m)\u001b[0m\u001b[0;34m:\u001b[0m\u001b[0;34m\u001b[0m\u001b[0m\n\u001b[0;32m--> 141\u001b[0;31m     \u001b[0mguess_list\u001b[0m \u001b[0;34m=\u001b[0m \u001b[0mprocess_dir\u001b[0m\u001b[0;34m(\u001b[0m\u001b[0mdata_path\u001b[0m\u001b[0;34m)\u001b[0m\u001b[0;34m\u001b[0m\u001b[0m\n\u001b[0m\u001b[1;32m    142\u001b[0m     \u001b[0mgold_list\u001b[0m \u001b[0;34m=\u001b[0m  \u001b[0mget_gold\u001b[0m\u001b[0;34m(\u001b[0m\u001b[0mgold_path\u001b[0m\u001b[0;34m)\u001b[0m\u001b[0;34m\u001b[0m\u001b[0m\n\u001b[1;32m    143\u001b[0m     \u001b[0mscore\u001b[0m\u001b[0;34m(\u001b[0m\u001b[0mguess_list\u001b[0m\u001b[0;34m,\u001b[0m \u001b[0mgold_list\u001b[0m\u001b[0;34m)\u001b[0m\u001b[0;34m\u001b[0m\u001b[0m\n",
      "\u001b[0;32m<ipython-input-10-ac1574ce9d57>\u001b[0m in \u001b[0;36mprocess_dir\u001b[0;34m(data_path)\u001b[0m\n\u001b[1;32m     81\u001b[0m     \u001b[0;31m# get candidates\u001b[0m\u001b[0;34m\u001b[0m\u001b[0;34m\u001b[0m\u001b[0m\n\u001b[1;32m     82\u001b[0m     \u001b[0mguess_list\u001b[0m \u001b[0;34m=\u001b[0m \u001b[0;34m[\u001b[0m\u001b[0;34m]\u001b[0m\u001b[0;34m\u001b[0m\u001b[0m\n\u001b[0;32m---> 83\u001b[0;31m     \u001b[0;32mfor\u001b[0m \u001b[0mfname\u001b[0m \u001b[0;32min\u001b[0m \u001b[0mos\u001b[0m\u001b[0;34m.\u001b[0m\u001b[0mlistdir\u001b[0m\u001b[0;34m(\u001b[0m\u001b[0mdata_path\u001b[0m\u001b[0;34m)\u001b[0m\u001b[0;34m:\u001b[0m\u001b[0;34m\u001b[0m\u001b[0m\n\u001b[0m\u001b[1;32m     84\u001b[0m         \u001b[0;32mif\u001b[0m \u001b[0mfname\u001b[0m\u001b[0;34m[\u001b[0m\u001b[0;36m0\u001b[0m\u001b[0;34m]\u001b[0m \u001b[0;34m==\u001b[0m \u001b[0;34m'.'\u001b[0m\u001b[0;34m:\u001b[0m\u001b[0;34m\u001b[0m\u001b[0m\n\u001b[1;32m     85\u001b[0m             \u001b[0;32mcontinue\u001b[0m\u001b[0;34m\u001b[0m\u001b[0m\n",
      "\u001b[0;31mFileNotFoundError\u001b[0m: [Errno 2] No such file or directory: '-f'"
     ]
    }
   ],
   "source": [
    "\"\"\"\n",
    "This program was adapted from the Stanford NLP class SpamLord homework assignment.\n",
    "Please do not make this code or the data public.\n",
    "This version has no patterns, but has two patterns suggested in comments.\n",
    "\"\"\"\n",
    "import sys\n",
    "import os\n",
    "import re\n",
    "import pprint\n",
    "\n",
    "\"\"\"\n",
    "TODO\n",
    "For Part 1 of our assignment, add to these two lists of patterns to match\n",
    "examples of obscured email addresses and phone numbers in the text.\n",
    "For optional Part 3, you may need to add other lists of patterns.\n",
    "\"\"\"\n",
    "# email .edu patterns\n",
    "\n",
    "# each regular expression pattern should have exactly two sets of parentheses.\n",
    "#   the first parenthesis should be around the someone part\n",
    "#   the second parenthesis should be around the somewhere part\n",
    "#   in an email address whose standard form is someone@somewhere.edu\n",
    "epatterns = []\n",
    "epatterns.append('([A-Za-z.]+)@([A-Za-z.]+)\\.edu')\n",
    "epatterns.append('([A-Za-z.]+)\\s@\\s([A-Za-z.]+)\\.edu')\n",
    "\n",
    "\n",
    "\n",
    "# phone patterns\n",
    "# each regular expression pattern should have exactly three sets of parentheses.\n",
    "#   the first parenthesis should be around the area code part XXX\n",
    "#   the second parenthesis should be around the exchange part YYY\n",
    "#   the third parenthesis should be around the number part ZZZZ\n",
    "#   in a phone number whose standard form is XXX-YYY-ZZZZ\n",
    "ppatterns = []\n",
    "#ppatterns.append('(\\d{3})-(\\d{3})-(\\d{4})')\n",
    "\n",
    "\n",
    "\"\"\" \n",
    "This function takes in a filename along with the file object and\n",
    "scans its contents against regex patterns. It returns a list of\n",
    "(filename, type, value) tuples where type is either an 'e' or a 'p'\n",
    "for e-mail or phone, and value is the formatted phone number or e-mail.\n",
    "The canonical formats are:\n",
    "     (name, 'p', '###-###-#####')\n",
    "     (name, 'e', 'someone@something')\n",
    "If the numbers you submit are formatted differently they will not\n",
    "match the gold answers\n",
    "\n",
    "TODO\n",
    "For Part 3, if you have added other lists, you may should add\n",
    "additional for loops that match the patterns in those lists\n",
    "and produce correctly formatted results to append to the res list.\n",
    "\"\"\"\n",
    "def process_file(name, f):\n",
    "    # note that debug info should be printed to stderr\n",
    "    # sys.stderr.write('[process_file]\\tprocessing file: %s\\n' % (path))\n",
    "    res = []\n",
    "    for line in f:\n",
    "        for epat in epatterns:\n",
    "            # each epat has 2 sets of parentheses so each match will have 2 items in a list\n",
    "            matches = re.findall(epat,line)\n",
    "            for m in matches:\n",
    "                # string formatting operator % takes elements of list m\n",
    "                #   and inserts them in place of each %s in the result string \n",
    "                email = '%s@%s.edu' % m\n",
    "                res.append((name,'e',email))\n",
    "\n",
    "        for ppat in ppatterns:\n",
    "            # each ppat has 3 sets of parentheses so each match will have 3 items in a list\n",
    "            matches = re.findall(ppat,line)\n",
    "            for m in matches:\n",
    "                phone = '%s-%s-%s' % m\n",
    "                res.append((name,'p',phone))\n",
    "    return res\n",
    "\n",
    "\"\"\"\n",
    "You should not edit this function.\n",
    "\"\"\"\n",
    "def process_dir(data_path):\n",
    "    # get candidates\n",
    "    guess_list = []\n",
    "    for fname in os.listdir(data_path):\n",
    "        if fname[0] == '.':\n",
    "            continue\n",
    "        path = os.path.join(data_path,fname)\n",
    "        f = open(path,'r', encoding='latin-1')\n",
    "        f_guesses = process_file(fname, f)\n",
    "        guess_list.extend(f_guesses)\n",
    "    return guess_list\n",
    "\n",
    "\"\"\"\n",
    "You should not edit this function.\n",
    "Given a path to a tsv file of gold e-mails and phone numbers\n",
    "this function returns a list of tuples of the canonical form:\n",
    "(filename, type, value)\n",
    "\"\"\"\n",
    "def get_gold(gold_path):\n",
    "    # get gold answers\n",
    "    gold_list = []\n",
    "    f_gold = open(gold_path,'r')\n",
    "    for line in f_gold:\n",
    "        gold_list.append(tuple(line.strip().split('\\t')))\n",
    "    return gold_list\n",
    "\n",
    "\"\"\"\n",
    "You should not edit this function.\n",
    "Given a list of guessed contacts and gold contacts, this function\n",
    "computes the intersection and set differences, to compute the true\n",
    "positives, false positives and false negatives.  Importantly, it\n",
    "converts all of the values to lower case before comparing\n",
    "\"\"\"\n",
    "def score(guess_list, gold_list):\n",
    "    guess_list = [(fname, _type, value.lower()) for (fname, _type, value) in guess_list]\n",
    "    gold_list = [(fname, _type, value.lower()) for (fname, _type, value) in gold_list]\n",
    "    guess_set = set(guess_list)\n",
    "    gold_set = set(gold_list)\n",
    "\n",
    "    tp = guess_set.intersection(gold_set)\n",
    "    fp = guess_set - gold_set\n",
    "    fn = gold_set - guess_set\n",
    "\n",
    "    pp = pprint.PrettyPrinter()\n",
    "    #print 'Guesses (%d): ' % len(guess_set)\n",
    "    #pp.pprint(guess_set)\n",
    "    #print 'Gold (%d): ' % len(gold_set)\n",
    "    #pp.pprint(gold_set)\n",
    "    print ('True Positives (%d): ' % len(tp))\n",
    "    pp.pprint(tp)\n",
    "    print ('False Positives (%d): ' % len(fp))\n",
    "    pp.pprint(fp)\n",
    "    print ('False Negatives (%d): ' % len(fn))\n",
    "    pp.pprint(fn)\n",
    "    print ('Summary: tp=%d, fp=%d, fn=%d' % (len(tp),len(fp),len(fn)))\n",
    "\n",
    "\"\"\"\n",
    "You should not edit this function.\n",
    "It takes in the string path to the data directory and the gold file\n",
    "\"\"\"\n",
    "def main(data_path, gold_path):\n",
    "    guess_list = process_dir(data_path)\n",
    "    gold_list =  get_gold(gold_path)\n",
    "    score(guess_list, gold_list)\n",
    "\n",
    "\"\"\"\n",
    "commandline interface takes a directory name and gold file.\n",
    "It then processes each file within that directory and extracts any\n",
    "matching e-mails or phone numbers and compares them to the gold file\n",
    "\"\"\"\n",
    "if __name__ == '__main__':\n",
    "    if (len(sys.argv) != 3):\n",
    "        print ('usage:\\tSpamLord.py <data_dir> <gold_file>')\n",
    "        sys.exit(0)\n",
    "    main(sys.argv[1],sys.argv[2])\n"
   ]
  },
  {
   "cell_type": "code",
   "execution_count": null,
   "metadata": {
    "collapsed": true
   },
   "outputs": [],
   "source": []
  },
  {
   "cell_type": "markdown",
   "metadata": {},
   "source": [
    "cwd = os.getcwd()"
   ]
  },
  {
   "cell_type": "code",
   "execution_count": 9,
   "metadata": {},
   "outputs": [
    {
     "name": "stdout",
     "output_type": "stream",
     "text": [
      "Files in '/Users/cpkoywk/Python/IST664/HW2 - 10:12/SpamLord': ['.DS_Store', '.ipynb_checkpoints', 'data', 'SpamLord.base.py', 'SpamLord.py', 'untitled', 'Untitled.ipynb']\n"
     ]
    }
   ],
   "source": [
    "files = os.listdir()  # Get all the files in that directory\n",
    "print(\"Files in '%s': %s\" % (cwd, files))"
   ]
  },
  {
   "cell_type": "code",
   "execution_count": null,
   "metadata": {
    "collapsed": true
   },
   "outputs": [],
   "source": []
  }
 ],
 "metadata": {
  "kernelspec": {
   "display_name": "Python 3",
   "language": "python",
   "name": "python3"
  },
  "language_info": {
   "codemirror_mode": {
    "name": "ipython",
    "version": 3
   },
   "file_extension": ".py",
   "mimetype": "text/x-python",
   "name": "python",
   "nbconvert_exporter": "python",
   "pygments_lexer": "ipython3",
   "version": "3.6.1"
  },
  "toc": {
   "nav_menu": {},
   "number_sections": true,
   "sideBar": true,
   "skip_h1_title": false,
   "toc_cell": false,
   "toc_position": {},
   "toc_section_display": "block",
   "toc_window_display": false
  },
  "varInspector": {
   "cols": {
    "lenName": 16,
    "lenType": 16,
    "lenVar": 40
   },
   "kernels_config": {
    "python": {
     "delete_cmd_postfix": "",
     "delete_cmd_prefix": "del ",
     "library": "var_list.py",
     "varRefreshCmd": "print(var_dic_list())"
    },
    "r": {
     "delete_cmd_postfix": ") ",
     "delete_cmd_prefix": "rm(",
     "library": "var_list.r",
     "varRefreshCmd": "cat(var_dic_list()) "
    }
   },
   "types_to_exclude": [
    "module",
    "function",
    "builtin_function_or_method",
    "instance",
    "_Feature"
   ],
   "window_display": true
  }
 },
 "nbformat": 4,
 "nbformat_minor": 2
}
