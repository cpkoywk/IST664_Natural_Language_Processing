{
  "cells": [
    {
      "cell_type": "markdown",
      "source": [
        "**Try it out:\n",
        "\n",
        "Pick a different file number for the Gutenberg books, change the variable fileno to this number and rerun the steps to create a frequency distribution, FreqDist , for this book.\n",
        "\n",
        "Steps:\n",
        "- get the text with nltk.corpus.gutenberg.raw()\n",
        "- get the tokens with nltk.word_tokenize()\n",
        "- get the words by using w.lower() to lowercase the tokens\n",
        "- make the frequency distribution with FreqDist\n",
        "- get the 30 top frequency words with most_common(30) and print the word,\n",
        "frequency pairs\n",
        "\n",
        "Save the list of top words and their frequencies to put in a post for this week.\n",
        "\n",
        "** Exercise to submit this week:\n",
        "\n",
        "Go to Blackboard and find the Discussion for the first week exercises. Create a post in which you:\n",
        "\n",
        "• Make a post with the title giving the text that you used for a frequency distribution\n",
        "\n• In the body of the post, give the top 30 frequency words from the text that you chose in the “try it out” section."
      ],
      "metadata": {}
    },
    {
      "cell_type": "code",
      "source": [
        "'''\n",
        "Steps:\n",
        "get the text with nltk.corpus.gutenberg.raw()\n",
        "get the tokens with nltk.word_tokenize()\n",
        "get the words by using w.lower() to lowercase the tokens\n",
        "make the frequency distribution with FreqDist\n",
        "get the 30 top frequency words with most_common(30) and print the word, frequency pairs\n",
        "'''\n",
        "#Import required modules\n",
        "import nltk\n",
        "from nltk import FreqDist\n",
        "from nltk.corpus import brown\n",
        "\n",
        "#check what file they've got in gutenberg\n",
        "nltk.corpus.gutenberg.fileids()\n",
        "\n",
        "#I will pick 'shakespeare-hamlet.txt'\n",
        "file0 = nltk.corpus.gutenberg.fileids()[-3] \n",
        "#file0 = 'shakespeare-hamlet.txt'\n",
        "\n",
        "#1. get the text with nltk.corpus.gutenberg.raw()\n",
        "hamlettext=nltk.corpus.gutenberg.raw(file0)\n",
        "\n",
        "#2. Get the tokens with nltk.word_tokenize()\n",
        "hamlettokens = nltk.word_tokenize(hamlettext)\n",
        "\n",
        "#3. Get the words by using w.lower() to lowercase the tokens\n",
        "hamletwords = [w.lower() for w in hamlettokens]\n",
        "\n",
        "#4. make the frequency distribution with FreqDist\n",
        "fdist = FreqDist(hamletwords)\n",
        "fdistkeys=list(fdist.keys())\n",
        "\n",
        "#5. get the 30 top frequency words with most_common(30) and print the word, frequency pairs\n",
        "top30keys=fdist.most_common(30)\n",
        "for pair in top30keys:\n",
        "    print (pair)\n"
      ],
      "outputs": [
        {
          "output_type": "stream",
          "name": "stdout",
          "text": [
            "(',', 2892)\n",
            "('.', 1879)\n",
            "('the', 993)\n",
            "('and', 862)\n",
            "('to', 683)\n",
            "('of', 610)\n",
            "(':', 566)\n",
            "('i', 560)\n",
            "('you', 522)\n",
            "('my', 502)\n",
            "('a', 497)\n",
            "('?', 459)\n",
            "('it', 419)\n",
            "('in', 388)\n",
            "('that', 376)\n",
            "('is', 372)\n",
            "('ham', 337)\n",
            "('not', 327)\n",
            "(';', 298)\n",
            "('his', 285)\n",
            "('this', 275)\n",
            "('with', 254)\n",
            "('your', 253)\n",
            "('but', 249)\n",
            "('for', 243)\n",
            "('me', 228)\n",
            "('what', 211)\n",
            "('lord', 211)\n",
            "('as', 205)\n",
            "('he', 202)\n"
          ]
        }
      ],
      "execution_count": 1,
      "metadata": {
        "inputHidden": false,
        "outputHidden": false
      }
    },
    {
      "cell_type": "code",
      "source": [
        "nltk.corpus.gutenberg.fileids()[-3]\n"
      ],
      "outputs": [
        {
          "output_type": "execute_result",
          "execution_count": 5,
          "data": {
            "text/plain": [
              "'shakespeare-hamlet.txt'"
            ]
          },
          "metadata": {}
        }
      ],
      "execution_count": 5,
      "metadata": {}
    },
    {
      "cell_type": "markdown",
      "source": [
        "Do you just need an ordered sequence of items? Go for a **list**.  \n",
        "Do you just need to know whether or not you've already got a particular value, but without ordering (and you don't need to store duplicates)? Use a **set**.  \n",
        "Do you need to associate values with keys, so you can look them up efficiently (by key) later on? Use a **dictionary**.  \n"
      ],
      "metadata": {
        "collapsed": true
      }
    },
    {
      "cell_type": "code",
      "source": [],
      "outputs": [],
      "execution_count": null,
      "metadata": {
        "collapsed": true
      }
    }
  ],
  "metadata": {
    "kernel_info": {
      "name": "python3"
    },
    "kernelspec": {
      "name": "python3",
      "language": "python",
      "display_name": "Python 3"
    },
    "language_info": {
      "name": "python",
      "version": "3.6.1",
      "mimetype": "text/x-python",
      "codemirror_mode": {
        "name": "ipython",
        "version": 3
      },
      "pygments_lexer": "ipython3",
      "nbconvert_exporter": "python",
      "file_extension": ".py"
    },
    "nteract": {
      "version": "0.2.0"
    },
    "toc": {
      "nav_menu": {},
      "number_sections": true,
      "sideBar": true,
      "skip_h1_title": false,
      "toc_cell": false,
      "toc_position": {},
      "toc_section_display": "block",
      "toc_window_display": false
    },
    "varInspector": {
      "cols": {
        "lenName": 16,
        "lenType": 16,
        "lenVar": 40
      },
      "kernels_config": {
        "python": {
          "delete_cmd_postfix": "",
          "delete_cmd_prefix": "del ",
          "library": "var_list.py",
          "varRefreshCmd": "print(var_dic_list())"
        },
        "r": {
          "delete_cmd_postfix": ") ",
          "delete_cmd_prefix": "rm(",
          "library": "var_list.r",
          "varRefreshCmd": "cat(var_dic_list()) "
        }
      },
      "types_to_exclude": [
        "module",
        "function",
        "builtin_function_or_method",
        "instance",
        "_Feature"
      ],
      "window_display": true
    }
  },
  "nbformat": 4,
  "nbformat_minor": 4
}