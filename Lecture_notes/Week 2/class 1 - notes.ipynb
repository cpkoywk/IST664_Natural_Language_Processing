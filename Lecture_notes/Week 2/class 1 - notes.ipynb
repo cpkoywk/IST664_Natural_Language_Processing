{
 "cells": [
  {
   "cell_type": "markdown",
   "metadata": {},
   "source": [
    "## What is corpus statistics\n",
    "\n",
    "- the corpus is a collection of text: which utilizes a representative sample of machine-readable text of a language or particular variety of text or language\n",
    "- statistical analysis: word frequencies\n",
    "\n",
    "- we usually take out the \"stop words\"\n",
    "\n",
    "#### bigrams: any two words that occur together\n",
    "bigram frqeunct: percentage occurrence of the bigram in the corpus\n",
    "\n",
    "\n",
    "Mutual Information: The more strongly connected 2 items are, the higher will be their MI value\n",
    "\n",
    "language modeling: n-gram text\n",
    "the goal of a language model is to assign a prob of a sentence would occur in natural language use\n",
    "\n",
    "Computing sentence probabilities:\n",
    "```P(I want to eat Chinese food) =\n",
    "P(I | <S>) P(want | I) P(to | want) P(eat | to)\n",
    "P(Chinese | eat) P(food | Chinese)```\n",
    "\n",
    "### Smoothing:\n",
    "\n",
    "### Language modeling toolkit\n"
   ]
  },
  {
   "cell_type": "code",
   "execution_count": 5,
   "metadata": {},
   "outputs": [
    {
     "data": {
      "text/plain": [
       "[('For', 'we'),\n",
       " ('we', 'the'),\n",
       " ('the', 'people'),\n",
       " ('people', 'understand'),\n",
       " ('understand', 'that'),\n",
       " ('that', 'our'),\n",
       " ('our', 'country')]"
      ]
     },
     "execution_count": 5,
     "metadata": {},
     "output_type": "execute_result"
    }
   ],
   "source": [
    "#generate a fucking bigram\n",
    "\n",
    "input_list = ['For','we','the','people','understand','that','our','country']\n",
    "\n",
    "def find_bigrams(input_list):\n",
    "    bigram_list = []\n",
    "    for i in range(len(input_list)-1):\n",
    "        bigram_list.append((input_list[i], input_list[i+1]))\n",
    "    return bigram_list\n",
    "\n",
    "find_bigrams(input_list)\n",
    "\n",
    "    "
   ]
  },
  {
   "cell_type": "code",
   "execution_count": null,
   "metadata": {
    "collapsed": true
   },
   "outputs": [],
   "source": []
  }
 ],
 "metadata": {
  "kernelspec": {
   "display_name": "Python 3",
   "language": "python",
   "name": "python3"
  },
  "language_info": {
   "codemirror_mode": {
    "name": "ipython",
    "version": 3
   },
   "file_extension": ".py",
   "mimetype": "text/x-python",
   "name": "python",
   "nbconvert_exporter": "python",
   "pygments_lexer": "ipython3",
   "version": "3.6.1"
  },
  "toc": {
   "nav_menu": {},
   "number_sections": true,
   "sideBar": true,
   "skip_h1_title": false,
   "toc_cell": false,
   "toc_position": {},
   "toc_section_display": "block",
   "toc_window_display": false
  },
  "varInspector": {
   "cols": {
    "lenName": 16,
    "lenType": 16,
    "lenVar": 40
   },
   "kernels_config": {
    "python": {
     "delete_cmd_postfix": "",
     "delete_cmd_prefix": "del ",
     "library": "var_list.py",
     "varRefreshCmd": "print(var_dic_list())"
    },
    "r": {
     "delete_cmd_postfix": ") ",
     "delete_cmd_prefix": "rm(",
     "library": "var_list.r",
     "varRefreshCmd": "cat(var_dic_list()) "
    }
   },
   "types_to_exclude": [
    "module",
    "function",
    "builtin_function_or_method",
    "instance",
    "_Feature"
   ],
   "window_display": false
  }
 },
 "nbformat": 4,
 "nbformat_minor": 2
}
