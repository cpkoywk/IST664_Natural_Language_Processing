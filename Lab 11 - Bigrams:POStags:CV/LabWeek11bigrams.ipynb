{
 "cells": [
  {
   "cell_type": "code",
   "execution_count": 2,
   "metadata": {
    "button": false,
    "collapsed": true,
    "deletable": true,
    "new_sheet": false,
    "run_control": {
     "read_only": false
    }
   },
   "outputs": [],
   "source": [
    "import nltk\n",
    "# movie review sentences\n",
    "from nltk.corpus import sentence_polarity\n",
    "import random"
   ]
  },
  {
   "cell_type": "code",
   "execution_count": 3,
   "metadata": {
    "button": false,
    "collapsed": true,
    "deletable": true,
    "new_sheet": false,
    "run_control": {
     "read_only": false
    }
   },
   "outputs": [],
   "source": [
    "## repeat the setup of the movie review sentences for classification\n",
    "# for each sentence(document), get its words and category (positive/negative)\n",
    "documents = [(sent, cat) for cat in sentence_polarity.categories() \n",
    "    for sent in sentence_polarity.sents(categories=cat)]\n",
    "random.shuffle(documents)"
   ]
  },
  {
   "cell_type": "code",
   "execution_count": 4,
   "metadata": {
    "button": false,
    "collapsed": false,
    "deletable": true,
    "new_sheet": false,
    "run_control": {
     "read_only": false
    }
   },
   "outputs": [
    {
     "name": "stdout",
     "output_type": "stream",
     "text": [
      "21401\n"
     ]
    }
   ],
   "source": [
    "# get all words from all movie_reviews and put into a frequency distribution\n",
    "#   note lowercase, but no stemming or stopwords\n",
    "all_words_list = [word for (sent,cat) in documents for word in sent]\n",
    "all_words = nltk.FreqDist(all_words_list)\n",
    "print(len(all_words))"
   ]
  },
  {
   "cell_type": "code",
   "execution_count": 5,
   "metadata": {
    "button": false,
    "collapsed": true,
    "deletable": true,
    "new_sheet": false,
    "run_control": {
     "read_only": false
    }
   },
   "outputs": [],
   "source": [
    "# get the 1500 most frequently appearing keywords in the corpus\n",
    "word_items = all_words.most_common(1500)\n",
    "word_features = [word for (word,count) in word_items]"
   ]
  },
  {
   "cell_type": "code",
   "execution_count": 6,
   "metadata": {
    "button": false,
    "collapsed": true,
    "deletable": true,
    "new_sheet": false,
    "run_control": {
     "read_only": false
    }
   },
   "outputs": [],
   "source": [
    "# define features (keywords) of a document for a BOW/unigram baseline\n",
    "# each feature is 'contains(keyword)' and is true or false depending\n",
    "# on whether that keyword is in the document\n",
    "def document_features(document, word_features):\n",
    "    document_words = set(document)\n",
    "    features = {}\n",
    "    for word in word_features:\n",
    "        features['contains({})'.format(word)] = (word in document_words)\n",
    "    return features"
   ]
  },
  {
   "cell_type": "code",
   "execution_count": 7,
   "metadata": {
    "button": false,
    "collapsed": false,
    "deletable": true,
    "new_sheet": false,
    "run_control": {
     "read_only": false
    }
   },
   "outputs": [
    {
     "data": {
      "text/plain": [
       "0.754"
      ]
     },
     "execution_count": 7,
     "metadata": {},
     "output_type": "execute_result"
    }
   ],
   "source": [
    "# get features sets for a document, including keyword features and category feature\n",
    "featuresets = [(document_features(d, word_features), c) for (d, c) in documents]\n",
    "\n",
    "# training using naive Baysian classifier, training set is 90% of data\n",
    "train_set, test_set = featuresets[1000:], featuresets[:1000]\n",
    "classifier = nltk.NaiveBayesClassifier.train(train_set)\n",
    "\n",
    "# evaluate the accuracy of the classifier\n",
    "nltk.classify.accuracy(classifier, test_set)"
   ]
  },
  {
   "cell_type": "code",
   "execution_count": 10,
   "metadata": {
    "button": false,
    "collapsed": false,
    "deletable": true,
    "new_sheet": false,
    "run_control": {
     "read_only": false
    }
   },
   "outputs": [
    {
     "name": "stdout",
     "output_type": "stream",
     "text": [
      "({'contains(.)': True, 'contains(the)': True, 'contains(,)': True, 'contains(a)': False, 'contains(and)': True, 'contains(of)': True, 'contains(to)': False, 'contains(is)': False, 'contains(in)': False, 'contains(that)': False, 'contains(it)': False, 'contains(as)': False, 'contains(but)': False, 'contains(with)': False, 'contains(film)': False, 'contains(this)': False, 'contains(for)': False, 'contains(its)': False, 'contains(an)': True, 'contains(movie)': False, \"contains(it's)\": False, 'contains(be)': False, 'contains(on)': False, 'contains(you)': False, 'contains(not)': False, 'contains(by)': False, 'contains(about)': False, 'contains(more)': False, 'contains(one)': False, 'contains(like)': False, 'contains(has)': False, 'contains(are)': False, 'contains(at)': False, 'contains(from)': False, 'contains(than)': False, 'contains(\")': False, 'contains(all)': False, 'contains(--)': False, 'contains(his)': False, 'contains(have)': False, 'contains(so)': False, 'contains(if)': False, 'contains(or)': True, 'contains(story)': False, 'contains(i)': False, 'contains(too)': False, 'contains(just)': False, 'contains(who)': False, 'contains(into)': False, 'contains(what)': False, 'contains(most)': False, 'contains(out)': False, 'contains(no)': False, 'contains(much)': True, 'contains(even)': False, 'contains(good)': False, 'contains(up)': False, 'contains(will)': False, 'contains(comedy)': False, 'contains(time)': False, 'contains(can)': False, 'contains(some)': False, 'contains(characters)': False, 'contains(only)': True, 'contains(little)': False, 'contains(way)': False, 'contains(their)': False, 'contains(funny)': False, 'contains(make)': False, 'contains(enough)': False, 'contains(been)': False, 'contains(very)': False, 'contains(your)': False, 'contains(never)': False, 'contains(when)': False, 'contains(makes)': False, 'contains(there)': False, 'contains(may)': False, 'contains(which)': False, 'contains(us)': False, 'contains(work)': False, 'contains(best)': False, 'contains(he)': False, 'contains(bad)': False, 'contains(director)': False, \"contains(doesn't)\": False, 'contains())': False, 'contains(any)': False, 'contains(?)': False, 'contains(()': False, 'contains(love)': False, 'contains(would)': False, 'contains(life)': False, 'contains(they)': False, 'contains(while)': False, 'contains(:)': False, 'contains(we)': False, 'contains(was)': False, \"contains(there's)\": False, 'contains(movies)': False, 'contains(well)': False, 'contains(her)': False, 'contains(new)': False, 'contains(through)': False, 'contains(could)': False, 'contains(something)': False, 'contains(really)': False, 'contains(how)': False, 'contains(made)': False, 'contains(them)': False, 'contains(performances)': False, 'contains(does)': False, 'contains(own)': False, 'contains(should)': False, 'contains(drama)': False, \"contains(that's)\": False, 'contains(many)': False, 'contains(those)': False, 'contains(plot)': False, 'contains(look)': False, 'contains(films)': False, 'contains(still)': False, 'contains(see)': False, \"contains(isn't)\": False, 'contains(every)': False, 'contains(two)': False, 'contains(nothing)': False, 'contains(people)': False, 'contains(better)': False, 'contains(without)': True, 'contains(long)': False, 'contains(other)': False, 'contains(fun)': False, 'contains(off)': False, 'contains(get)': False, 'contains(action)': False, 'contains(being)': False, 'contains(both)': False, 'contains(great)': False, 'contains(though)': False, 'contains(might)': False, 'contains(big)': False, \"contains(')\": False, 'contains(also)': False, 'contains(cast)': False, 'contains(another)': False, 'contains(do)': False, 'contains(humor)': False, 'contains(between)': False, 'contains(audience)': False, 'contains(kind)': False, 'contains(first)': False, 'contains(sense)': False, 'contains(over)': False, 'contains(such)': False, 'contains(character)': False, 'contains(ever)': False, \"contains(don't)\": False, 'contains(feels)': False, 'contains(performance)': False, 'contains(;)': False, 'contains(few)': False, 'contains(script)': False, 'contains(because)': False, \"contains(film's)\": False, 'contains(here)': False, 'contains(far)': False, 'contains(often)': False, 'contains(thing)': False, 'contains(less)': False, 'contains(seems)': False, 'contains(real)': False, 'contains(minutes)': False, 'contains(feel)': False, 'contains(world)': False, 'contains(picture)': False, 'contains(thriller)': False, 'contains(almost)': False, 'contains(tale)': False, \"contains(can't)\": False, 'contains(quite)': False, 'contains(down)': False, 'contains(documentary)': False, 'contains(yet)': False, 'contains(interesting)': False, 'contains(!)': False, 'contains(these)': False, 'contains(entertaining)': False, 'contains(rather)': False, 'contains(my)': False, \"contains(you're)\": False, 'contains(screen)': False, 'contains(end)': False, 'contains(itself)': False, 'contains(take)': False, 'contains(full)': False, 'contains(seen)': False, 'contains(hollywood)': False, 'contains(watching)': False, 'contains(go)': False, 'contains(ultimately)': False, 'contains(hard)': False, 'contains(heart)': False, 'contains(romantic)': False, 'contains(comes)': False, 'contains(moments)': False, 'contains(de)': False, 'contains(lot)': False, 'contains(despite)': False, 'contains(american)': False, 'contains(were)': False, 'contains(where)': False, 'contains(me)': False, 'contains(after)': False, 'contains(acting)': False, 'contains(before)': False, 'contains(family)': False, 'contains(had)': False, 'contains(old)': False, 'contains(original)': False, 'contains(then)': False, 'contains(find)': False, 'contains(right)': False, 'contains(human)': False, 'contains(worth)': False, 'contains(gets)': False, 'contains(same)': False, 'contains(takes)': False, 'contains(things)': False, 'contains(come)': False, 'contains(times)': False, 'contains(dialogue)': False, 'contains(man)': False, 'contains(scenes)': False, 'contains(back)': False, 'contains(actors)': False, 'contains(watch)': False, 'contains(our)': False, 'contains(material)': False, 'contains(compelling)': False, 'contains(once)': False, 'contains(young)': False, 'contains(music)': False, 'contains(works)': False, 'contains(years)': False, 'contains(think)': False, 'contains(emotional)': False, 'contains(seem)': False, 'contains(anyone)': False, 'contains(want)': False, 'contains(gives)': False, 'contains(going)': False, 'contains(know)': False, 'contains(least)': False, 'contains(part)': False, 'contains(say)': False, 'contains(again)': False, 'contains(sometimes)': False, 'contains(piece)': False, 'contains(cinematic)': False, 'contains(entertainment)': False, 'contains(give)': False, 'contains(pretty)': False, 'contains(kids)': False, 'contains(point)': False, 'contains(last)': False, 'contains(subject)': False, \"contains(you'll)\": False, 'contains(keep)': False, 'contains(making)': False, 'contains(bit)': False, 'contains(special)': False, 'contains(dull)': False, 'contains(why)': False, 'contains(cinema)': False, 'contains(together)': False, 'contains(whole)': False, 'contains(fascinating)': False, 'contains(fans)': False, 'contains(anything)': False, 'contains(year)': False, 'contains(moving)': False, 'contains(since)': False, 'contains(away)': False, 'contains(-)': False, 'contains(need)': False, 'contains(manages)': False, 'contains(style)': False, 'contains(show)': False, 'contains(true)': False, 'contains(star)': False, 'contains(laughs)': False, 'contains(clever)': False, 'contains(history)': False, 'contains(offers)': False, 'contains(always)': False, 'contains(sweet)': False, 'contains(experience)': False, 'contains(high)': False, 'contains(simply)': False, 'contains(direction)': False, 'contains(mr)': False, 'contains(instead)': False, 'contains(dark)': False, 'contains(silly)': False, 'contains(whose)': False, 'contains(actually)': False, 'contains(charm)': False, 'contains(care)': False, 'contains(him)': False, 'contains(predictable)': False, 'contains(nearly)': False, 'contains(everything)': False, 'contains(art)': False, 'contains(visual)': False, 'contains(flick)': False, 'contains(title)': False, 'contains(around)': False, 'contains(series)': False, 'contains(matter)': False, 'contains(comic)': False, 'contains(place)': False, 'contains(video)': False, 'contains(idea)': False, \"contains(he's)\": False, 'contains(narrative)': False, 'contains(short)': False, 'contains(screenplay)': False, 'contains(war)': False, 'contains(goes)': False, 'contains(trying)': False, 'contains(done)': False, 'contains(women)': False, 'contains(probably)': False, 'contains(now)': False, 'contains(genre)': False, \"contains(movie's)\": False, 'contains(familiar)': False, 'contains(premise)': False, 'contains(under)': False, 'contains(plays)': False, 'contains(turns)': False, 'contains(enjoyable)': False, 'contains(horror)': False, 'contains(becomes)': False, 'contains(filmmakers)': False, 'contains(she)': False, 'contains(although)': False, 'contains(lacks)': False, 'contains(engaging)': False, 'contains(home)': False, 'contains(three)': False, 'contains(set)': False, 'contains(smart)': False, 'contains(feeling)': False, 'contains(feature)': False, 'contains(worst)': False, \"contains(won't)\": False, 'contains(effects)': False, 'contains(enjoy)': False, 'contains(power)': False, 'contains(study)': False, 'contains(charming)': False, 'contains(especially)': False, 'contains(amusing)': False, 'contains(effort)': False, 'contains(strong)': False, 'contains(intelligent)': False, 'contains(day)': False, 'contains(ending)': False, 'contains(half)': False, 'contains(likely)': False, 'contains(boring)': False, 'contains(debut)': False, 'contains(theater)': False, 'contains(lack)': False, 'contains(john)': False, 'contains(each)': False, 'contains(portrait)': False, 'contains(romance)': False, 'contains(men)': False, 'contains(sort)': False, 'contains(else)': False, 'contains(put)': False, 'contains(version)': False, 'contains(certainly)': False, 'contains(mostly)': False, \"contains(what's)\": False, 'contains(beautiful)': False, 'contains(beautifully)': False, 'contains(become)': False, 'contains(surprisingly)': False, 'contains(easy)': False, 'contains(message)': False, 'contains(problem)': False, 'contains(looking)': False, \"contains(you've)\": False, 'contains(next)': False, 'contains(level)': False, 'contains(lives)': False, 'contains(rare)': False, 'contains(solid)': False, 'contains(exercise)': False, 'contains(play)': False, 'contains(quirky)': False, 'contains(fine)': False, 'contains(hours)': False, 'contains(along)': False, 'contains(wit)': False, 'contains(mind)': False, 'contains(face)': False, 'contains(looks)': False, 'contains(mess)': False, 'contains(sure)': False, 'contains(leave)': False, 'contains(whether)': False, 'contains(obvious)': False, 'contains(directed)': False, 'contains(ideas)': False, 'contains(fresh)': False, 'contains(energy)': True, 'contains(interest)': False, 'contains(either)': False, 'contains(completely)': False, 'contains(modern)': False, 'contains(powerful)': False, 'contains(french)': False, 'contains(past)': False, 'contains(melodrama)': False, 'contains(viewers)': False, 'contains(dramatic)': False, 'contains(classic)': False, 'contains(neither)': False, 'contains(shot)': False, 'contains(reason)': False, 'contains(fact)': False, 'contains(beyond)': False, 'contains(shows)': False, 'contains(suspense)': False, 'contains(recent)': False, 'contains(fails)': False, \"contains(didn't)\": False, 'contains(stuff)': False, 'contains(delivers)': False, 'contains(filmmaking)': False, 'contains(children)': False, 'contains(tone)': False, 'contains(everyone)': False, 'contains(truly)': False, \"contains(i'm)\": False, 'contains(intriguing)': False, 'contains(slow)': False, 'contains(culture)': False, 'contains(believe)': False, 'contains(left)': False, 'contains(deeply)': False, 'contains(serious)': False, 'contains(ends)': False, 'contains(himself)': False, 'contains(actor)': False, 'contains(death)': False, 'contains(jokes)': False, 'contains(black)': False, 'contains(ride)': False, 'contains(book)': False, 'contains(tries)': False, 'contains(light)': False, 'contains(audiences)': False, 'contains(production)': False, 'contains(tv)': False, 'contains(touching)': False, 'contains(small)': False, 'contains(sad)': False, 'contains(occasionally)': False, 'contains(spirit)': False, 'contains(proves)': False, 'contains(satisfying)': False, 'contains(passion)': False, 'contains(exactly)': False, 'contains(terrific)': False, 'contains(hilarious)': False, 'contains(remains)': False, 'contains(camera)': False, 'contains(opera)': False, 'contains(role)': False, 'contains(adventure)': False, 'contains(formula)': False, 'contains(reality)': False, 'contains(storytelling)': False, 'contains(dumb)': False, 'contains(got)': False, 'contains(nor)': False, 'contains(scene)': False, 'contains(must)': False, 'contains(filmmaker)': False, 'contains(impossible)': False, 'contains(line)': False, 'contains(already)': False, 'contains(project)': False, 'contains(seeing)': False, 'contains(talent)': False, 'contains(stories)': False, 'contains(different)': False, 'contains(images)': False, 'contains(above)': False, 'contains(girl)': False, 'contains(personal)': False, 'contains(gags)': False, 'contains(simple)': False, 'contains(easily)': False, 'contains(particularly)': False, 'contains(perfect)': False, 'contains(journey)': False, 'contains(attempt)': False, 'contains(honest)': False, 'contains(psychological)': False, 'contains(pretentious)': False, 'contains(close)': False, 'contains(against)': False, 'contains(given)': False, 'contains(turn)': False, 'contains(animation)': False, 'contains(pleasure)': False, 'contains(summer)': False, 'contains(sex)': False, 'contains(complex)': False, 'contains(intelligence)': False, 'contains(found)': False, 'contains(difficult)': False, 'contains(falls)': False, 'contains(earnest)': False, 'contains(hour)': False, 'contains(ways)': False, 'contains(did)': False, 'contains(flat)': False, 'contains(michael)': False, 'contains(case)': False, 'contains(thought)': False, 'contains(sequel)': False, 'contains(mystery)': False, 'contains(visually)': False, 'contains(head)': False, 'contains(cliches)': False, 'contains(getting)': False, 'contains(leaves)': False, 'contains(political)': False, 'contains(social)': False, 'contains(coming-of-age)': False, 'contains(game)': False, 'contains(crime)': False, 'contains(uses)': False, 'contains(que)': False, 'contains(memorable)': False, 'contains(writing)': False, 'contains(none)': False, 'contains(written)': False, 'contains(violence)': False, 'contains(tell)': False, 'contains(satire)': False, 'contains(side)': False, 'contains(job)': False, 'contains(live)': False, 'contains(rich)': False, 'contains(overall)': False, 'contains(finally)': False, 'contains(wrong)': False, 'contains(told)': False, 'contains(brilliant)': False, 'contains(laugh)': False, 'contains(keeps)': False, 'contains(gone)': False, 'contains(help)': False, 'contains(barely)': False, 'contains(cool)': False, 'contains(days)': False, 'contains(elements)': False, 'contains(rarely)': False, 'contains(otherwise)': False, 'contains(contrived)': False, 'contains(needs)': False, 'contains(novel)': False, 'contains(boy)': False, 'contains(cold)': False, 'contains(lost)': False, 'contains(second)': False, 'contains(spy)': False, 'contains(appeal)': False, 'contains(entirely)': False, 'contains(thoughtful)': False, 'contains(possible)': False, 'contains(several)': False, 'contains(imagine)': False, 'contains(acted)': False, 'contains(during)': False, 'contains(final)': False, 'contains(taste)': False, 'contains(nature)': False, 'contains(starts)': False, 'contains(approach)': False, 'contains(o)': False, 'contains(having)': False, 'contains(guys)': False, 'contains(eyes)': False, 'contains(wild)': False, 'contains(excellent)': False, 'contains(wonderful)': False, 'contains(act)': False, 'contains(fairly)': False, 'contains(y)': False, 'contains(moral)': False, 'contains(creepy)': False, 'contains(lead)': False, 'contains(running)': False, 'contains(perhaps)': False, 'contains(concept)': False, 'contains(insight)': False, 'contains(mood)': False, 'contains(soap)': False, 'contains(truth)': False, 'contains(surprising)': False, 'contains(tragedy)': False, 'contains(warm)': False, 'contains(themselves)': False, 'contains(entire)': False, 'contains(hero)': False, 'contains(attention)': False, 'contains(expect)': False, 'contains(among)': False, 'contains(result)': False, 'contains(viewer)': False, \"contains(they're)\": False, 'contains(tedious)': False, 'contains(comedies)': False, 'contains(quality)': False, 'contains(adults)': False, 'contains(emotionally)': False, 'contains(david)': False, 'contains(remarkable)': False, 'contains(others)': False, 'contains(behind)': False, 'contains(imagination)': False, 'contains(bring)': False, 'contains(form)': False, 'contains(call)': False, 'contains(engrossing)': False, 'contains(thoroughly)': False, 'contains(usual)': False, 'contains(quiet)': False, 'contains(change)': False, 'contains(add)': False, 'contains(sci-fi)': False, 'contains(moment)': False, 'contains(animated)': False, 'contains(four)': False, 'contains(teen)': False, 'contains(rock)': False, 'contains(la)': False, 'contains(latest)': False, \"contains(you'd)\": False, 'contains(genuine)': False, 'contains(start)': False, 'contains(\\x96)': False, 'contains(nice)': False, 'contains(bland)': False, 'contains(disney)': False, \"contains(i've)\": False, 'contains(adaptation)': False, 'contains(witty)': False, 'contains(gorgeous)': False, 'contains(sharp)': False, 'contains(remake)': False, 'contains(perfectly)': False, 'contains(tired)': False, 'contains(strange)': False, 'contains(future)': False, 'contains(knows)': False, 'contains(epic)': False, 'contains(vision)': False, 'contains(begins)': False, 'contains(merely)': False, 'contains(plenty)': False, 'contains(parents)': False, 'contains(worse)': False, 'contains(gentle)': False, 'contains(hope)': False, 'contains(dead)': False, 'contains(taking)': False, 'contains(offer)': False, 'contains(wonder)': False, 'contains(effective)': False, 'contains(until)': False, 'contains(impressive)': False, 'contains(somewhat)': False, 'contains(thanks)': False, 'contains(depth)': False, 'contains(appealing)': False, 'contains(events)': False, 'contains(points)': False, 'contains(maybe)': False, 'contains(beauty)': False, 'contains(deep)': False, 'contains(period)': False, 'contains(worthy)': False, 'contains(stupid)': False, 'contains(surprise)': False, 'contains(hit)': False, 'contains(provides)': False, 'contains(woman)': False, 'contains(straight)': False, \"contains(year's)\": False, 'contains(captures)': False, 'contains(definitely)': False, 'contains(lots)': False, 'contains(fantasy)': False, 'contains(writer-director)': False, 'contains(emotions)': False, 'contains(career)': False, 'contains(air)': False, 'contains(doing)': False, 'contains(awful)': False, 'contains(sit)': False, 'contains(age)': False, 'contains(unfortunately)': False, 'contains(important)': False, 'contains(someone)': False, 'contains(pure)': False, 'contains(try)': False, 'contains(decent)': False, 'contains(guy)': False, 'contains(however)': False, 'contains(ambitious)': False, 'contains(clear)': False, 'contains(welcome)': False, 'contains(view)': False, 'contains(inside)': False, 'contains(exciting)': False, 'contains(suffers)': False, 'contains(pictures)': False, 'contains(ii)': False, 'contains(robert)': False, 'contains(highly)': False, 'contains(scary)': False, 'contains(subtle)': False, 'contains(run)': False, 'contains(sequences)': False, 'contains(school)': False, 'contains(execution)': False, 'contains(thin)': False, 'contains(pace)': False, 'contains(utterly)': False, 'contains(magic)': False, 'contains(able)': False, 'contains(throughout)': False, 'contains(brings)': False, 'contains(historical)': False, 'contains(sound)': False, 'contains(ugly)': False, 'contains(relationship)': False, 'contains(examination)': False, 'contains(female)': False, 'contains(alone)': False, 'contains(fire)': False, 'contains(deserves)': False, 'contains(process)': False, 'contains(sexual)': False, 'contains(sustain)': False, 'contains(certain)': False, 'contains(lovely)': False, 'contains(ensemble)': False, 'contains(read)': False, 'contains(provocative)': False, 'contains(cheap)': False, 'contains(coming)': False, 'contains(creative)': False, 'contains(based)': False, 'contains(tension)': True, 'contains(city)': False, 'contains(low)': False, 'contains(potential)': False, 'contains(question)': False, 'contains(chemistry)': False, 'contains(major)': False, 'contains(middle)': False, 'contains(hand)': False, 'contains(memory)': False, 'contains(flaws)': False, 'contains(wants)': False, 'contains(cute)': False, 'contains(working)': False, 'contains(across)': False, 'contains(felt)': False, 'contains(delightful)': False, 'contains(upon)': False, 'contains(used)': False, 'contains(cartoon)': False, 'contains(playing)': False, 'contains(quickly)': False, 'contains(poignant)': False, 'contains(impact)': False, 'contains(words)': False, 'contains(single)': False, 'contains(use)': False, 'contains(deal)': False, 'contains(except)': False, 'contains(touch)': False, 'contains(sentimental)': False, 'contains(situation)': False, 'contains(filled)': False, 'contains(creates)': False, 'contains(success)': False, 'contains(stand)': False, 'contains(talented)': False, 'contains(winning)': False, 'contains(odd)': False, 'contains(master)': False, 'contains(2)': False, 'contains(taken)': False, 'contains(generic)': False, 'contains(sensitive)': False, 'contains(force)': False, 'contains(bond)': False, 'contains(cultural)': False, 'contains(mediocre)': False, 'contains(loud)': False, 'contains(flawed)': False, 'contains(actress)': False, 'contains(yes)': False, 'contains(rest)': False, 'contains(waste)': False, 'contains(unfunny)': False, 'contains(unexpected)': False, 'contains(puts)': False, 'contains(murder)': False, 'contains(lacking)': False, 'contains(hell)': False, 'contains(country)': False, 'contains(slightly)': False, 'contains(formulaic)': False, 'contains(hold)': False, 'contains(remember)': False, 'contains(saw)': False, 'contains(sincere)': False, 'contains(hardly)': False, 'contains(watchable)': False, 'contains(issues)': False, 'contains(ultimate)': False, 'contains(surprises)': False, 'contains(create)': False, 'contains(ability)': False, 'contains(weird)': False, 'contains(extremely)': False, 'contains(relationships)': False, 'contains(era)': False, 'contains(cut)': False, 'contains(eye)': False, 'contains(dog)': False, 'contains(college)': False, 'contains(heavy)': False, 'contains(class)': False, 'contains(*)': False, 'contains(routine)': False, 'contains(apart)': False, 'contains(unsettling)': False, 'contains(seriously)': False, 'contains(melodramatic)': False, 'contains(mildly)': False, 'contains(cannot)': False, 'contains(mark)': False, 'contains(supposed)': False, 'contains(ago)': False, 'contains(slight)': False, 'contains(giving)': False, 'contains(house)': False, 'contains(previous)': False, 'contains(reveals)': False, 'contains(convincing)': False, 'contains(joke)': False, 'contains(ones)': False, 'contains(indeed)': False, 'contains(extreme)': False, 'contains(pleasant)': False, 'contains(casting)': False, 'contains(gripping)': False, 'contains(thrills)': False, 'contains(twists)': False, 'contains(largely)': False, 'contains(crush)': False, 'contains(living)': False, 'contains(five)': False, 'contains(e)': False, 'contains(artist)': False, 'contains(money)': False, 'contains(grant)': False, 'contains(pacing)': False, 'contains(intimate)': False, 'contains(steven)': False, 'contains(plain)': False, 'contains(succeeds)': False, \"contains(aren't)\": False, 'contains(crazy)': False, 'contains(date)': False, 'contains(episode)': False, 'contains(sets)': False, 'contains(tragic)': False, 'contains(involved)': False, 'contains(finds)': False, 'contains(old-fashioned)': False, 'contains(amount)': False, 'contains(terms)': False, 'contains(fully)': False, 'contains(inventive)': False, 'contains(contemporary)': False, 'contains(thinking)': False, 'contains(stylish)': False, 'contains(trouble)': False, 'contains(stars)': False, 'contains(leads)': False, 'contains(focus)': False, 'contains(course)': False, 'contains(treat)': False, 'contains(attempts)': False, 'contains(george)': False, 'contains(mix)': False, 'contains(forgettable)': False, 'contains(road)': False, 'contains(pop)': False, 'contains(uneven)': False, 'contains(grace)': False, 'contains(heaven)': False, 'contains(yourself)': False, 'contains(couple)': False, 'contains(presents)': False, 'contains(problems)': False, 'contains(happy)': False, 'contains(absolutely)': False, 'contains(runs)': False, 'contains(happens)': False, 'contains(missing)': False, 'contains(unique)': False, 'contains(masterpiece)': False, 'contains(york)': False, 'contains(es)': False, 'contains(friendship)': False, 'contains(called)': False, 'contains(drag)': False, 'contains(water)': False, 'contains(complete)': False, 'contains(disturbing)': False, 'contains(appears)': False, 'contains(involving)': False, 'contains(badly)': False, 'contains(goofy)': False, 'contains(considerable)': False, 'contains(williams)': False, 'contains(colorful)': False, 'contains(recommend)': False, 'contains(soundtrack)': False, 'contains(business)': False, 'contains(substance)': False, 'contains(promise)': False, 'contains(poetry)': False, 'contains(painful)': False, 'contains(successful)': False, \"contains(she's)\": False, \"contains(we've)\": False, 'contains(themes)': False, 'contains(gay)': False, 'contains(skin)': False, 'contains(oscar)': False, 'contains(viewing)': False, 'contains(urban)': False, 'contains(bizarre)': False, 'contains(interested)': False, 'contains(equally)': False, 'contains(soul)': False, 'contains(politics)': False, 'contains(meditation)': False, 'contains(imax)': False, 'contains(strangely)': False, 'contains(blend)': False, 'contains(share)': False, 'contains(played)': False, 'contains(evil)': False, 'contains(mean)': False, 'contains(situations)': False, 'contains(tom)': False, 'contains(somehow)': False, 'contains(effect)': False, 'contains(terrible)': False, 'contains(triumph)': False, 'contains(absorbing)': False, 'contains(typical)': False, 'contains(sentimentality)': False, 'contains(british)': False, 'contains(bright)': False, 'contains(person)': False, 'contains(flicks)': False, 'contains([a])': False, 'contains(loses)': False, 'contains(forced)': False, 'contains(parts)': False, 'contains(originality)': False, 'contains(forget)': False, 'contains(wanted)': False, 'contains(hits)': False, 'contains(pieces)': False, \"contains(couldn't)\": False, 'contains(refreshing)': False, 'contains(target)': False, 'contains(manner)': False, \"contains(man's)\": False, 'contains(crafted)': False, 'contains(poor)': False, 'contains(general)': False, 'contains(whatever)': False, 'contains(obviously)': False, 'contains(television)': False, 'contains(derivative)': False, 'contains(word)': False, 'contains(stunning)': False, 'contains(loss)': False, 'contains(battle)': False, 'contains(frame)': False, 'contains(sophisticated)': False, 'contains(franchise)': False, 'contains(dry)': False, 'contains(night)': False, 'contains(created)': False, 'contains(twist)': False, 'contains(grief)': False, 'contains(jackson)': False, 'contains(said)': False, 'contains(virtually)': False, 'contains(average)': False, 'contains(sexy)': False, 'contains(dream)': False, 'contains(means)': False, 'contains(fast)': False, 'contains(doubt)': False, 'contains(tells)': False, 'contains(company)': False, 'contains(depressing)': False, \"contains(director's)\": False, 'contains(understand)': False, 'contains(conflict)': False, 'contains(alive)': False, 'contains(well-acted)': False, 'contains(somewhere)': False, 'contains(central)': False, 'contains(90)': False, 'contains(lame)': False, 'contains(setting)': False, 'contains(name)': False, 'contains(liked)': False, 'contains(questions)': False, 'contains(please)': False, 'contains(el)': False, 'contains(eventually)': False, 'contains(clichés)': False, 'contains(fare)': False, 'contains(hate)': False, 'contains(miss)': False, 'contains(standard)': False, 'contains(fan)': False, 'contains(report)': False, 'contains(haunting)': False, 'contains(energetic)': False, 'contains(monster)': False, 'contains(painfully)': False, 'contains(white)': False, 'contains(heavy-handed)': False, 'contains(amazing)': False, 'contains(worthwhile)': False, 'contains(deliver)': False, 'contains(price)': False, 'contains(edge)': False, 'contains(lets)': False, 'contains(niro)': False, 'contains(places)': False, 'contains(refreshingly)': False, 'contains(allows)': False, 'contains(red)': False, 'contains(let)': False, 'contains(footage)': False, 'contains(toward)': False, 'contains(imaginative)': False, 'contains(blue)': False, 'contains(slapstick)': False, 'contains(tough)': False, 'contains(weak)': False, 'contains(thought-provoking)': False, 'contains(brain)': False, 'contains(una)': False, 'contains(superficial)': False, 'contains(match)': False, 'contains(possibly)': False, 'contains(excitement)': False, 'contains(sitting)': False, 'contains(genuinely)': False, 'contains(finish)': False, 'contains(room)': False, 'contains(japanese)': False, 'contains(popcorn)': False, 'contains(insightful)': False, 'contains(generally)': False, 'contains(unlike)': False, 'contains(essentially)': False, 'contains(inspired)': False, 'contains(ms)': False, 'contains(boys)': False, 'contains(lines)': False, 'contains(warmth)': False, 'contains(riveting)': False, 'contains(opportunity)': False, 'contains(fat)': False, 'contains(holds)': False, 'contains(affecting)': False, 'contains(break)': False, 'contains(clearly)': False, 'contains(remarkably)': False, 'contains(atmosphere)': False, 'contains(treasure)': False, 'contains(conventional)': False, 'contains(wedding)': False, 'contains(faith)': False, 'contains(huge)': False, 'contains(girls)': False, 'contains(vivid)': False, 'contains(simplistic)': False, 'contains(intended)': False, 'contains(trip)': False, 'contains(particular)': False, 'contains(charisma)': False, 'contains(balance)': False, 'contains(believable)': False, 'contains(humanity)': False, 'contains(minor)': False, 'contains(usually)': False, 'contains(murphy)': False, 'contains(wish)': False, 'contains(slice)': False, 'contains(efforts)': False, 'contains(car)': False, 'contains(2002)': False, 'contains(large)': False, 'contains(fit)': False, 'contains(needed)': False, 'contains(kid)': False, \"contains(we're)\": False, 'contains(peter)': False, 'contains(guilty)': False, 'contains(wait)': False, 'contains(ice)': False, 'contains(aside)': False, 'contains(spectacle)': False, 'contains(spielberg)': False, 'contains(equivalent)': False, 'contains(wildly)': False, 'contains(fiction)': False, 'contains(crowd)': False, 'contains(shallow)': False, 'contains(pay)': False, 'contains(unusual)': False, 'contains(delicate)': False, 'contains(affair)': False, 'contains(lazy)': False, 'contains(x)': False, 'contains(heartfelt)': False, 'contains(filmed)': False, 'contains(purpose)': False, 'contains(core)': False, 'contains(within)': False, 'contains(powers)': False, \"contains(hasn't)\": False, 'contains(green)': False, 'contains(writer)': False, 'contains(america)': False, 'contains(s)': False, 'contains(treatment)': False, 'contains(damned)': False, 'contains(vehicle)': False, 'contains(mesmerizing)': False, 'contains(skill)': False, 'contains(bears)': False, 'contains(fashion)': False, 'contains(editing)': False, 'contains(sequence)': False, 'contains(sounds)': False, 'contains(festival)': False, 'contains(sea)': False, 'contains(funnier)': False, 'contains(empty)': False, 'contains(meaning)': False, 'contains(poorly)': False, 'contains(open)': False, 'contains(decades)': False, 'contains(sports)': False, 'contains(space)': False, 'contains(motion)': False, 'contains(mindless)': False, 'contains(universal)': False, 'contains(god)': False, 'contains(figure)': False, 'contains(stale)': False, 'contains(spectacular)': False, 'contains(indie)': False, 'contains(greatest)': False, 'contains(devoid)': False, 'contains(telling)': False, \"contains(wasn't)\": False, 'contains(gangster)': False, 'contains(realistic)': False, 'contains(further)': False, 'contains(party)': False, 'contains(sum)': False, 'contains(ridiculous)': False, 'contains(directorial)': False, 'contains(fear)': False, 'contains(longer)': False, 'contains(promising)': False, 'contains(directors)': False, 'contains(delight)': False, 'contains(natural)': False, 'contains(wife)': False, 'contains(theme)': False, 'contains(revenge)': False, 'contains(offering)': False, 'contains(score)': False, 'contains(detail)': False, 'contains(exhilarating)': False, 'contains(talk)': False, 'contains(dreams)': False, 'contains(quietly)': False, 'contains(spiritual)': False, 'contains(combination)': False, 'contains(deeper)': False, 'contains(deftly)': False, 'contains(stay)': False, \"contains(i'd)\": False, 'contains(extraordinary)': False, \"contains(who's)\": False, \"contains(wouldn't)\": False, 'contains(credits)': False, 'contains(blade)': True, 'contains(performers)': False, 'contains(holes)': False, 'contains(complicated)': False, 'contains(release)': False, 'contains(values)': False, 'contains(gem)': False, 'contains(results)': False, 'contains(perspective)': False, 'contains(public)': False, 'contains(frequently)': False, 'contains(endearing)': False, 'contains(paced)': False, 'contains(value)': False, 'contains(irritating)': False, 'contains(martin)': False, 'contains(members)': False, 'contains(stage)': False, 'contains(gross-out)': False, 'contains(affection)': False, 'contains(sight)': False, 'contains(intense)': False, 'contains(count)': False, 'contains(\\x97)': False, 'contains(represents)': False, 'contains(behavior)': False, 'contains(identity)': False, 'contains(talking)': False, 'contains(move)': False, 'contains(shots)': False, 'contains(justice)': False, 'contains(oddly)': False, 'contains(chase)': False, 'contains(number)': False, 'contains(surface)': False, 'contains(avoid)': False, 'contains(crimes)': False, 'contains(striking)': False, 'contains(provide)': False, 'contains(pleasures)': False, 'contains(strength)': False, 'contains(development)': False, 'contains(win)': False, 'contains(prove)': False, 'contains(disguise)': False, 'contains(consider)': False, 'contains(society)': False, 'contains(10)': False, 'contains(cinematography)': False, 'contains(achieves)': False, 'contains(reading)': False, 'contains(turned)': False, 'contains(desire)': False, 'contains(exploration)': False, 'contains(dreary)': False, 'contains(manipulative)': False, 'contains(profound)': False, 'contains(century)': False, 'contains(awkward)': False, 'contains(constructed)': False, 'contains(pointless)': False, 'contains(farce)': False, 'contains(daring)': False, 'contains(kevin)': False, 'contains(visuals)': False, 'contains(free)': False, 'contains(overly)': False, 'contains(king)': False, 'contains(credit)': False, 'contains(poetic)': False, 'contains(stunts)': False, \"contains(haven't)\": False, 'contains(repetitive)': False, 'contains(expected)': False, 'contains(james)': False, 'contains(roger)': False, 'contains(accessible)': False, 'contains(shame)': False, 'contains(generation)': False, 'contains(allen)': False, 'contains(j)': False, 'contains(presence)': False, 'contains(folks)': False, 'contains(designed)': False, 'contains(friends)': False, 'contains(diverting)': False, 'contains(ring)': False, 'contains(predecessor)': False, 'contains(yarn)': False, 'contains(weight)': False, 'contains(stands)': False, 'contains(imagery)': False, 'contains(songs)': False, 'contains(shake)': False, 'contains(bits)': False, 'contains(enjoyed)': False, 'contains(community)': False, 'contains(numbers)': False, 'contains(admirable)': False, 'contains(save)': False, 'contains(glimpse)': False, 'contains(walk)': False, 'contains(adam)': False, 'contains(raw)': False, 'contains(waiting)': False, \"contains(story's)\": False, 'contains(intentions)': False, 'contains(um)': False, 'contains(serves)': False, 'contains(emerges)': False, 'contains(killer)': False, 'contains(necessary)': False, 'contains(determined)': False, 'contains(brown)': False, 'contains(moviemaking)': False, 'contains(nonsense)': False, 'contains(fears)': False, 'contains(frustrating)': False, 'contains(wise)': False, 'contains(unless)': False, 'contains(ghost)': False, 'contains(marks)': False, 'contains(clumsy)': False, 'contains(machine)': False, 'contains(hot)': False, 'contains(chilling)': False, 'contains(musical)': False, 'contains(delivered)': False, 'contains(beneath)': False, 'contains(artistic)': False, 'contains(screenwriter)': False, 'contains(courage)': False, 'contains(beat)': False, 'contains(tribute)': False, 'contains(pulls)': False, 'contains(offensive)': False, 'contains(using)': False, 'contains(overcome)': False, 'contains(concerned)': False, 'contains(hackneyed)': False, 'contains(blood)': False, 'contains(follow)': False, 'contains(nicely)': False, 'contains(group)': False, 'contains(thinks)': False, 'contains(produced)': False, 'contains(example)': False, 'contains(structure)': False, 'contains(games)': False, 'contains(friday)': False, 'contains(challenging)': False, 'contains(loved)': False, 'contains(intrigue)': False, 'contains(del)': False, 'contains(incredibly)': False, 'contains(giant)': False, 'contains(return)': False, 'contains(voice)': False, 'contains(commercial)': False, 'contains(subjects)': False, 'contains(top)': False, 'contains(attraction)': False, 'contains(ground)': False, 'contains(trifle)': False, 'contains(happen)': False, 'contains(ages)': False, 'contains(failure)': False, 'contains(main)': False, 'contains(levels)': False, 'contains(buy)': False, 'contains(damn)': False, 'contains(tiresome)': False, 'contains(nowhere)': False, 'contains(struggle)': False, 'contains(chance)': False, 'contains(team)': False, 'contains(broad)': False, 'contains(annoying)': False, 'contains(chinese)': False, 'contains(seat)': False, 'contains(adult)': False, 'contains(meandering)': False, 'contains(disappointing)': False, \"contains(i'll)\": False, 'contains(mainstream)': False, 'contains(today)': False, 'contains(favor)': False, 'contains(wry)': False, 'contains(eight)': False, 'contains(chris)': False, 'contains(industry)': False, 'contains(excuse)': False, 'contains(digital)': False, 'contains(emotion)': False, 'contains(reach)': False, 'contains(jones)': False, 'contains(damage)': False, 'contains(directing)': False, 'contains(document)': False, 'contains(tender)': False, 'contains(violent)': False, 'contains(superior)': False, 'contains(vs)': False, 'contains(storyline)': False, 'contains(modest)': False, 'contains(mike)': False, 'contains(monty)': False, 'contains(unpleasant)': False, 'contains(father)': False, 'contains(winds)': False, 'contains(fall)': False, 'contains(spend)': False, 'contains(overwrought)': False, 'contains(budget)': False, 'contains(adolescent)': False, 'contains(maudlin)': False, 'contains(hip-hop)': False, 'contains(talents)': False, 'contains(sheer)': False, 'contains(scenario)': False, 'contains(roles)': False, 'contains(vibrant)': False, 'contains(humorous)': False, 'contains(first-time)': False, 'contains(moviegoers)': False, 'contains(present)': False, 'contains(comedic)': False, 'contains(fair)': False, 'contains(bore)': False, 'contains(un)': False, \"contains(world's)\": False, 'contains(authentic)': False, 'contains(search)': False, 'contains(bittersweet)': False, 'contains(well-made)': False, 'contains(standards)': False, 'contains(stock)': False, 'contains(jason)': False, 'contains(apparently)': False, 'contains(deserve)': False, 'contains(studio)': False, 'contains(body)': False, 'contains(inspiring)': False, 'contains(twice)': False, 'contains(bunch)': False, 'contains(dance)': False, 'contains(accomplished)': False, 'contains(funniest)': False, 'contains(grows)': False, \"contains(characters')\": False, 'contains(creating)': False, 'contains(delivery)': False, 'contains(precious)': False, \"contains('the)\": False, 'contains(b-movie)': False, 'contains(sappy)': False, 'contains(land)': False}, 'neg')\n"
     ]
    }
   ],
   "source": [
    "print(featuresets[0])"
   ]
  },
  {
   "cell_type": "code",
   "execution_count": 11,
   "metadata": {
    "button": false,
    "collapsed": true,
    "deletable": true,
    "new_sheet": false,
    "run_control": {
     "read_only": false
    }
   },
   "outputs": [],
   "source": [
    "####   adding Bigram features   ####\n",
    "# set up for using bigrams\n",
    "from nltk.collocations import *\n",
    "bigram_measures = nltk.collocations.BigramAssocMeasures()"
   ]
  },
  {
   "cell_type": "code",
   "execution_count": 12,
   "metadata": {
    "button": false,
    "collapsed": false,
    "deletable": true,
    "new_sheet": false,
    "run_control": {
     "read_only": false
    }
   },
   "outputs": [
    {
     "name": "stdout",
     "output_type": "stream",
     "text": [
      "['an', 'amalgam', 'of', 'the', 'fugitive', ',', 'blade', 'runner', ',', 'and', 'total', 'recall', ',', 'only', 'without', 'much', 'energy', 'or', 'tension', '.', 'if', 'the', 'idea', 'of', 'the', 'white', 'man', 'arriving', 'on', 'foreign', 'shores', 'to', 'show', 'wary', 'natives', 'the', 'true', 'light', 'is', 'abhorrent', 'to', 'you', ',', 'the', 'simplistic', 'heaven', 'will', 'quite', 'likely', 'be']\n"
     ]
    }
   ],
   "source": [
    "# create the bigram finder on all the words in sequence\n",
    "print(all_words_list[:50])\n",
    "finder = BigramCollocationFinder.from_words(all_words_list)"
   ]
  },
  {
   "cell_type": "code",
   "execution_count": 13,
   "metadata": {
    "button": false,
    "collapsed": false,
    "deletable": true,
    "new_sheet": false,
    "run_control": {
     "read_only": false
    }
   },
   "outputs": [
    {
     "name": "stdout",
     "output_type": "stream",
     "text": [
      "[('.', '.'), ('.', 'the'), ('.', 'a'), ('of', 'the'), (',', 'but'), (',', 'and'), ('in', 'the'), ('the', 'film'), ('is', 'a'), ('.', \"it's\"), (',', 'the'), ('of', 'a'), ('to', 'the'), ('and', 'the'), ('to', 'be'), ('the', 'movie'), ('.', 'this'), ('.', 'it'), ('for', 'the'), ('it', 'is'), ('.', 'an'), ('with', 'a'), ('as', 'a'), ('in', 'a'), ('on', 'the'), ('one', 'of'), ('and', 'a'), ('this', 'is'), ('a', 'movie'), (\"it's\", 'a'), (',', 'it'), ('.', 'if'), ('with', 'the'), ('film', 'is'), ('like', 'a'), (',', 'a'), ('for', 'a'), ('it', '.'), ('the', 'most'), ('.', 'but'), ('film', '.'), ('but', 'it'), ('of', 'its'), ('movie', '.'), (',', \"it's\"), (',', 'this'), ('a', 'film'), ('as', 'the'), ('.', 'i'), ('from', 'the')]\n"
     ]
    }
   ],
   "source": [
    "# define the top 500 bigrams using the chi squared measure\n",
    "bigram_features = finder.nbest(bigram_measures.raw_freq, 500)\n",
    "print(bigram_features[:50])"
   ]
  },
  {
   "cell_type": "code",
   "execution_count": 14,
   "metadata": {
    "button": false,
    "collapsed": false,
    "deletable": true,
    "new_sheet": false,
    "run_control": {
     "read_only": false
    }
   },
   "outputs": [
    {
     "name": "stdout",
     "output_type": "stream",
     "text": [
      "[('Arthur', 'carefully'), ('carefully', 'rode'), ('rode', 'the'), ('the', 'brown'), ('brown', 'horse'), ('horse', 'around'), ('around', 'the'), ('the', 'castle')]\n"
     ]
    }
   ],
   "source": [
    "# examples to demonstrate the bigram feature function definition\n",
    "sent = ['Arthur','carefully','rode','the','brown','horse','around','the','castle']\n",
    "sentbigrams = list(nltk.bigrams(sent))\n",
    "print(sentbigrams)"
   ]
  },
  {
   "cell_type": "code",
   "execution_count": 13,
   "metadata": {
    "button": false,
    "collapsed": false,
    "deletable": true,
    "new_sheet": false,
    "run_control": {
     "read_only": false
    }
   },
   "outputs": [
    {
     "name": "stdout",
     "output_type": "stream",
     "text": [
      "True\n",
      "bigram(brown horse)\n"
     ]
    }
   ],
   "source": [
    "# for a single bigram, test if it's in the sentence bigrams and format the feature name\n",
    "bigram = ('brown','horse')\n",
    "print(bigram in sentbigrams)\n",
    "print('bigram({} {})'.format(bigram[0], bigram[1]))"
   ]
  },
  {
   "cell_type": "code",
   "execution_count": 17,
   "metadata": {
    "button": false,
    "collapsed": true,
    "deletable": true,
    "new_sheet": false,
    "run_control": {
     "read_only": false
    }
   },
   "outputs": [],
   "source": [
    "# define features that include words as before \n",
    "# add the most frequent significant bigrams\n",
    "# this function takes the list of words in a document as an argument and returns a feature dictionary\n",
    "# it depends on the variables word_features and bigram_features\n",
    "def bigram_document_features(document, word_features, bigram_features):\n",
    "    document_words = set(document)\n",
    "    document_bigrams = nltk.bigrams(document)\n",
    "    features = {}\n",
    "    for word in word_features:\n",
    "        features['contains({})'.format(word)] = (word in document_words)\n",
    "    for bigram in bigram_features:\n",
    "        features['bigram({} {})'.format(bigram[0], bigram[1])] = (bigram in document_bigrams)    \n",
    "    return features"
   ]
  },
  {
   "cell_type": "code",
   "execution_count": 18,
   "metadata": {
    "button": false,
    "collapsed": false,
    "deletable": true,
    "new_sheet": false,
    "run_control": {
     "read_only": false
    }
   },
   "outputs": [
    {
     "name": "stdout",
     "output_type": "stream",
     "text": [
      "2000\n",
      "{'contains(.)': True, 'contains(the)': True, 'contains(,)': True, 'contains(a)': False, 'contains(and)': True, 'contains(of)': True, 'contains(to)': False, 'contains(is)': False, 'contains(in)': False, 'contains(that)': False, 'contains(it)': False, 'contains(as)': False, 'contains(but)': False, 'contains(with)': False, 'contains(film)': False, 'contains(this)': False, 'contains(for)': False, 'contains(its)': False, 'contains(an)': True, 'contains(movie)': False, \"contains(it's)\": False, 'contains(be)': False, 'contains(on)': False, 'contains(you)': False, 'contains(not)': False, 'contains(by)': False, 'contains(about)': False, 'contains(more)': False, 'contains(one)': False, 'contains(like)': False, 'contains(has)': False, 'contains(are)': False, 'contains(at)': False, 'contains(from)': False, 'contains(than)': False, 'contains(\")': False, 'contains(all)': False, 'contains(--)': False, 'contains(his)': False, 'contains(have)': False, 'contains(so)': False, 'contains(if)': False, 'contains(or)': True, 'contains(story)': False, 'contains(i)': False, 'contains(too)': False, 'contains(just)': False, 'contains(who)': False, 'contains(into)': False, 'contains(what)': False, 'contains(most)': False, 'contains(out)': False, 'contains(no)': False, 'contains(much)': True, 'contains(even)': False, 'contains(good)': False, 'contains(up)': False, 'contains(will)': False, 'contains(comedy)': False, 'contains(time)': False, 'contains(can)': False, 'contains(some)': False, 'contains(characters)': False, 'contains(only)': True, 'contains(little)': False, 'contains(way)': False, 'contains(their)': False, 'contains(funny)': False, 'contains(make)': False, 'contains(enough)': False, 'contains(been)': False, 'contains(very)': False, 'contains(your)': False, 'contains(never)': False, 'contains(when)': False, 'contains(makes)': False, 'contains(there)': False, 'contains(may)': False, 'contains(which)': False, 'contains(us)': False, 'contains(work)': False, 'contains(best)': False, 'contains(he)': False, 'contains(bad)': False, 'contains(director)': False, \"contains(doesn't)\": False, 'contains())': False, 'contains(any)': False, 'contains(?)': False, 'contains(()': False, 'contains(love)': False, 'contains(would)': False, 'contains(life)': False, 'contains(they)': False, 'contains(while)': False, 'contains(:)': False, 'contains(we)': False, 'contains(was)': False, \"contains(there's)\": False, 'contains(movies)': False, 'contains(well)': False, 'contains(her)': False, 'contains(new)': False, 'contains(through)': False, 'contains(could)': False, 'contains(something)': False, 'contains(really)': False, 'contains(how)': False, 'contains(made)': False, 'contains(them)': False, 'contains(performances)': False, 'contains(does)': False, 'contains(own)': False, 'contains(should)': False, 'contains(drama)': False, \"contains(that's)\": False, 'contains(many)': False, 'contains(those)': False, 'contains(plot)': False, 'contains(look)': False, 'contains(films)': False, 'contains(still)': False, 'contains(see)': False, \"contains(isn't)\": False, 'contains(every)': False, 'contains(two)': False, 'contains(nothing)': False, 'contains(people)': False, 'contains(better)': False, 'contains(without)': True, 'contains(long)': False, 'contains(other)': False, 'contains(fun)': False, 'contains(off)': False, 'contains(get)': False, 'contains(action)': False, 'contains(being)': False, 'contains(both)': False, 'contains(great)': False, 'contains(though)': False, 'contains(might)': False, 'contains(big)': False, \"contains(')\": False, 'contains(also)': False, 'contains(cast)': False, 'contains(another)': False, 'contains(do)': False, 'contains(humor)': False, 'contains(between)': False, 'contains(audience)': False, 'contains(kind)': False, 'contains(first)': False, 'contains(sense)': False, 'contains(over)': False, 'contains(such)': False, 'contains(character)': False, 'contains(ever)': False, \"contains(don't)\": False, 'contains(feels)': False, 'contains(performance)': False, 'contains(;)': False, 'contains(few)': False, 'contains(script)': False, 'contains(because)': False, \"contains(film's)\": False, 'contains(here)': False, 'contains(far)': False, 'contains(often)': False, 'contains(thing)': False, 'contains(less)': False, 'contains(seems)': False, 'contains(real)': False, 'contains(minutes)': False, 'contains(feel)': False, 'contains(world)': False, 'contains(picture)': False, 'contains(thriller)': False, 'contains(almost)': False, 'contains(tale)': False, \"contains(can't)\": False, 'contains(quite)': False, 'contains(down)': False, 'contains(documentary)': False, 'contains(yet)': False, 'contains(interesting)': False, 'contains(!)': False, 'contains(these)': False, 'contains(entertaining)': False, 'contains(rather)': False, 'contains(my)': False, \"contains(you're)\": False, 'contains(screen)': False, 'contains(end)': False, 'contains(itself)': False, 'contains(take)': False, 'contains(full)': False, 'contains(seen)': False, 'contains(hollywood)': False, 'contains(watching)': False, 'contains(go)': False, 'contains(ultimately)': False, 'contains(hard)': False, 'contains(heart)': False, 'contains(romantic)': False, 'contains(comes)': False, 'contains(moments)': False, 'contains(de)': False, 'contains(lot)': False, 'contains(despite)': False, 'contains(american)': False, 'contains(were)': False, 'contains(where)': False, 'contains(me)': False, 'contains(after)': False, 'contains(acting)': False, 'contains(before)': False, 'contains(family)': False, 'contains(had)': False, 'contains(old)': False, 'contains(original)': False, 'contains(then)': False, 'contains(find)': False, 'contains(right)': False, 'contains(human)': False, 'contains(worth)': False, 'contains(gets)': False, 'contains(same)': False, 'contains(takes)': False, 'contains(things)': False, 'contains(come)': False, 'contains(times)': False, 'contains(dialogue)': False, 'contains(man)': False, 'contains(scenes)': False, 'contains(back)': False, 'contains(actors)': False, 'contains(watch)': False, 'contains(our)': False, 'contains(material)': False, 'contains(compelling)': False, 'contains(once)': False, 'contains(young)': False, 'contains(music)': False, 'contains(works)': False, 'contains(years)': False, 'contains(think)': False, 'contains(emotional)': False, 'contains(seem)': False, 'contains(anyone)': False, 'contains(want)': False, 'contains(gives)': False, 'contains(going)': False, 'contains(know)': False, 'contains(least)': False, 'contains(part)': False, 'contains(say)': False, 'contains(again)': False, 'contains(sometimes)': False, 'contains(piece)': False, 'contains(cinematic)': False, 'contains(entertainment)': False, 'contains(give)': False, 'contains(pretty)': False, 'contains(kids)': False, 'contains(point)': False, 'contains(last)': False, 'contains(subject)': False, \"contains(you'll)\": False, 'contains(keep)': False, 'contains(making)': False, 'contains(bit)': False, 'contains(special)': False, 'contains(dull)': False, 'contains(why)': False, 'contains(cinema)': False, 'contains(together)': False, 'contains(whole)': False, 'contains(fascinating)': False, 'contains(fans)': False, 'contains(anything)': False, 'contains(year)': False, 'contains(moving)': False, 'contains(since)': False, 'contains(away)': False, 'contains(-)': False, 'contains(need)': False, 'contains(manages)': False, 'contains(style)': False, 'contains(show)': False, 'contains(true)': False, 'contains(star)': False, 'contains(laughs)': False, 'contains(clever)': False, 'contains(history)': False, 'contains(offers)': False, 'contains(always)': False, 'contains(sweet)': False, 'contains(experience)': False, 'contains(high)': False, 'contains(simply)': False, 'contains(direction)': False, 'contains(mr)': False, 'contains(instead)': False, 'contains(dark)': False, 'contains(silly)': False, 'contains(whose)': False, 'contains(actually)': False, 'contains(charm)': False, 'contains(care)': False, 'contains(him)': False, 'contains(predictable)': False, 'contains(nearly)': False, 'contains(everything)': False, 'contains(art)': False, 'contains(visual)': False, 'contains(flick)': False, 'contains(title)': False, 'contains(around)': False, 'contains(series)': False, 'contains(matter)': False, 'contains(comic)': False, 'contains(place)': False, 'contains(video)': False, 'contains(idea)': False, \"contains(he's)\": False, 'contains(narrative)': False, 'contains(short)': False, 'contains(screenplay)': False, 'contains(war)': False, 'contains(goes)': False, 'contains(trying)': False, 'contains(done)': False, 'contains(women)': False, 'contains(probably)': False, 'contains(now)': False, 'contains(genre)': False, \"contains(movie's)\": False, 'contains(familiar)': False, 'contains(premise)': False, 'contains(under)': False, 'contains(plays)': False, 'contains(turns)': False, 'contains(enjoyable)': False, 'contains(horror)': False, 'contains(becomes)': False, 'contains(filmmakers)': False, 'contains(she)': False, 'contains(although)': False, 'contains(lacks)': False, 'contains(engaging)': False, 'contains(home)': False, 'contains(three)': False, 'contains(set)': False, 'contains(smart)': False, 'contains(feeling)': False, 'contains(feature)': False, 'contains(worst)': False, \"contains(won't)\": False, 'contains(effects)': False, 'contains(enjoy)': False, 'contains(power)': False, 'contains(study)': False, 'contains(charming)': False, 'contains(especially)': False, 'contains(amusing)': False, 'contains(effort)': False, 'contains(strong)': False, 'contains(intelligent)': False, 'contains(day)': False, 'contains(ending)': False, 'contains(half)': False, 'contains(likely)': False, 'contains(boring)': False, 'contains(debut)': False, 'contains(theater)': False, 'contains(lack)': False, 'contains(john)': False, 'contains(each)': False, 'contains(portrait)': False, 'contains(romance)': False, 'contains(men)': False, 'contains(sort)': False, 'contains(else)': False, 'contains(put)': False, 'contains(version)': False, 'contains(certainly)': False, 'contains(mostly)': False, \"contains(what's)\": False, 'contains(beautiful)': False, 'contains(beautifully)': False, 'contains(become)': False, 'contains(surprisingly)': False, 'contains(easy)': False, 'contains(message)': False, 'contains(problem)': False, 'contains(looking)': False, \"contains(you've)\": False, 'contains(next)': False, 'contains(level)': False, 'contains(lives)': False, 'contains(rare)': False, 'contains(solid)': False, 'contains(exercise)': False, 'contains(play)': False, 'contains(quirky)': False, 'contains(fine)': False, 'contains(hours)': False, 'contains(along)': False, 'contains(wit)': False, 'contains(mind)': False, 'contains(face)': False, 'contains(looks)': False, 'contains(mess)': False, 'contains(sure)': False, 'contains(leave)': False, 'contains(whether)': False, 'contains(obvious)': False, 'contains(directed)': False, 'contains(ideas)': False, 'contains(fresh)': False, 'contains(energy)': True, 'contains(interest)': False, 'contains(either)': False, 'contains(completely)': False, 'contains(modern)': False, 'contains(powerful)': False, 'contains(french)': False, 'contains(past)': False, 'contains(melodrama)': False, 'contains(viewers)': False, 'contains(dramatic)': False, 'contains(classic)': False, 'contains(neither)': False, 'contains(shot)': False, 'contains(reason)': False, 'contains(fact)': False, 'contains(beyond)': False, 'contains(shows)': False, 'contains(suspense)': False, 'contains(recent)': False, 'contains(fails)': False, \"contains(didn't)\": False, 'contains(stuff)': False, 'contains(delivers)': False, 'contains(filmmaking)': False, 'contains(children)': False, 'contains(tone)': False, 'contains(everyone)': False, 'contains(truly)': False, \"contains(i'm)\": False, 'contains(intriguing)': False, 'contains(slow)': False, 'contains(culture)': False, 'contains(believe)': False, 'contains(left)': False, 'contains(deeply)': False, 'contains(serious)': False, 'contains(ends)': False, 'contains(himself)': False, 'contains(actor)': False, 'contains(death)': False, 'contains(jokes)': False, 'contains(black)': False, 'contains(ride)': False, 'contains(book)': False, 'contains(tries)': False, 'contains(light)': False, 'contains(audiences)': False, 'contains(production)': False, 'contains(tv)': False, 'contains(touching)': False, 'contains(small)': False, 'contains(sad)': False, 'contains(occasionally)': False, 'contains(spirit)': False, 'contains(proves)': False, 'contains(satisfying)': False, 'contains(passion)': False, 'contains(exactly)': False, 'contains(terrific)': False, 'contains(hilarious)': False, 'contains(remains)': False, 'contains(camera)': False, 'contains(opera)': False, 'contains(role)': False, 'contains(adventure)': False, 'contains(formula)': False, 'contains(reality)': False, 'contains(storytelling)': False, 'contains(dumb)': False, 'contains(got)': False, 'contains(nor)': False, 'contains(scene)': False, 'contains(must)': False, 'contains(filmmaker)': False, 'contains(impossible)': False, 'contains(line)': False, 'contains(already)': False, 'contains(project)': False, 'contains(seeing)': False, 'contains(talent)': False, 'contains(stories)': False, 'contains(different)': False, 'contains(images)': False, 'contains(above)': False, 'contains(girl)': False, 'contains(personal)': False, 'contains(gags)': False, 'contains(simple)': False, 'contains(easily)': False, 'contains(particularly)': False, 'contains(perfect)': False, 'contains(journey)': False, 'contains(attempt)': False, 'contains(honest)': False, 'contains(psychological)': False, 'contains(pretentious)': False, 'contains(close)': False, 'contains(against)': False, 'contains(given)': False, 'contains(turn)': False, 'contains(animation)': False, 'contains(pleasure)': False, 'contains(summer)': False, 'contains(sex)': False, 'contains(complex)': False, 'contains(intelligence)': False, 'contains(found)': False, 'contains(difficult)': False, 'contains(falls)': False, 'contains(earnest)': False, 'contains(hour)': False, 'contains(ways)': False, 'contains(did)': False, 'contains(flat)': False, 'contains(michael)': False, 'contains(case)': False, 'contains(thought)': False, 'contains(sequel)': False, 'contains(mystery)': False, 'contains(visually)': False, 'contains(head)': False, 'contains(cliches)': False, 'contains(getting)': False, 'contains(leaves)': False, 'contains(political)': False, 'contains(social)': False, 'contains(coming-of-age)': False, 'contains(game)': False, 'contains(crime)': False, 'contains(uses)': False, 'contains(que)': False, 'contains(memorable)': False, 'contains(writing)': False, 'contains(none)': False, 'contains(written)': False, 'contains(violence)': False, 'contains(tell)': False, 'contains(satire)': False, 'contains(side)': False, 'contains(job)': False, 'contains(live)': False, 'contains(rich)': False, 'contains(overall)': False, 'contains(finally)': False, 'contains(wrong)': False, 'contains(told)': False, 'contains(brilliant)': False, 'contains(laugh)': False, 'contains(keeps)': False, 'contains(gone)': False, 'contains(help)': False, 'contains(barely)': False, 'contains(cool)': False, 'contains(days)': False, 'contains(elements)': False, 'contains(rarely)': False, 'contains(otherwise)': False, 'contains(contrived)': False, 'contains(needs)': False, 'contains(novel)': False, 'contains(boy)': False, 'contains(cold)': False, 'contains(lost)': False, 'contains(second)': False, 'contains(spy)': False, 'contains(appeal)': False, 'contains(entirely)': False, 'contains(thoughtful)': False, 'contains(possible)': False, 'contains(several)': False, 'contains(imagine)': False, 'contains(acted)': False, 'contains(during)': False, 'contains(final)': False, 'contains(taste)': False, 'contains(nature)': False, 'contains(starts)': False, 'contains(approach)': False, 'contains(o)': False, 'contains(having)': False, 'contains(guys)': False, 'contains(eyes)': False, 'contains(wild)': False, 'contains(excellent)': False, 'contains(wonderful)': False, 'contains(act)': False, 'contains(fairly)': False, 'contains(y)': False, 'contains(moral)': False, 'contains(creepy)': False, 'contains(lead)': False, 'contains(running)': False, 'contains(perhaps)': False, 'contains(concept)': False, 'contains(insight)': False, 'contains(mood)': False, 'contains(soap)': False, 'contains(truth)': False, 'contains(surprising)': False, 'contains(tragedy)': False, 'contains(warm)': False, 'contains(themselves)': False, 'contains(entire)': False, 'contains(hero)': False, 'contains(attention)': False, 'contains(expect)': False, 'contains(among)': False, 'contains(result)': False, 'contains(viewer)': False, \"contains(they're)\": False, 'contains(tedious)': False, 'contains(comedies)': False, 'contains(quality)': False, 'contains(adults)': False, 'contains(emotionally)': False, 'contains(david)': False, 'contains(remarkable)': False, 'contains(others)': False, 'contains(behind)': False, 'contains(imagination)': False, 'contains(bring)': False, 'contains(form)': False, 'contains(call)': False, 'contains(engrossing)': False, 'contains(thoroughly)': False, 'contains(usual)': False, 'contains(quiet)': False, 'contains(change)': False, 'contains(add)': False, 'contains(sci-fi)': False, 'contains(moment)': False, 'contains(animated)': False, 'contains(four)': False, 'contains(teen)': False, 'contains(rock)': False, 'contains(la)': False, 'contains(latest)': False, \"contains(you'd)\": False, 'contains(genuine)': False, 'contains(start)': False, 'contains(\\x96)': False, 'contains(nice)': False, 'contains(bland)': False, 'contains(disney)': False, \"contains(i've)\": False, 'contains(adaptation)': False, 'contains(witty)': False, 'contains(gorgeous)': False, 'contains(sharp)': False, 'contains(remake)': False, 'contains(perfectly)': False, 'contains(tired)': False, 'contains(strange)': False, 'contains(future)': False, 'contains(knows)': False, 'contains(epic)': False, 'contains(vision)': False, 'contains(begins)': False, 'contains(merely)': False, 'contains(plenty)': False, 'contains(parents)': False, 'contains(worse)': False, 'contains(gentle)': False, 'contains(hope)': False, 'contains(dead)': False, 'contains(taking)': False, 'contains(offer)': False, 'contains(wonder)': False, 'contains(effective)': False, 'contains(until)': False, 'contains(impressive)': False, 'contains(somewhat)': False, 'contains(thanks)': False, 'contains(depth)': False, 'contains(appealing)': False, 'contains(events)': False, 'contains(points)': False, 'contains(maybe)': False, 'contains(beauty)': False, 'contains(deep)': False, 'contains(period)': False, 'contains(worthy)': False, 'contains(stupid)': False, 'contains(surprise)': False, 'contains(hit)': False, 'contains(provides)': False, 'contains(woman)': False, 'contains(straight)': False, \"contains(year's)\": False, 'contains(captures)': False, 'contains(definitely)': False, 'contains(lots)': False, 'contains(fantasy)': False, 'contains(writer-director)': False, 'contains(emotions)': False, 'contains(career)': False, 'contains(air)': False, 'contains(doing)': False, 'contains(awful)': False, 'contains(sit)': False, 'contains(age)': False, 'contains(unfortunately)': False, 'contains(important)': False, 'contains(someone)': False, 'contains(pure)': False, 'contains(try)': False, 'contains(decent)': False, 'contains(guy)': False, 'contains(however)': False, 'contains(ambitious)': False, 'contains(clear)': False, 'contains(welcome)': False, 'contains(view)': False, 'contains(inside)': False, 'contains(exciting)': False, 'contains(suffers)': False, 'contains(pictures)': False, 'contains(ii)': False, 'contains(robert)': False, 'contains(highly)': False, 'contains(scary)': False, 'contains(subtle)': False, 'contains(run)': False, 'contains(sequences)': False, 'contains(school)': False, 'contains(execution)': False, 'contains(thin)': False, 'contains(pace)': False, 'contains(utterly)': False, 'contains(magic)': False, 'contains(able)': False, 'contains(throughout)': False, 'contains(brings)': False, 'contains(historical)': False, 'contains(sound)': False, 'contains(ugly)': False, 'contains(relationship)': False, 'contains(examination)': False, 'contains(female)': False, 'contains(alone)': False, 'contains(fire)': False, 'contains(deserves)': False, 'contains(process)': False, 'contains(sexual)': False, 'contains(sustain)': False, 'contains(certain)': False, 'contains(lovely)': False, 'contains(ensemble)': False, 'contains(read)': False, 'contains(provocative)': False, 'contains(cheap)': False, 'contains(coming)': False, 'contains(creative)': False, 'contains(based)': False, 'contains(tension)': True, 'contains(city)': False, 'contains(low)': False, 'contains(potential)': False, 'contains(question)': False, 'contains(chemistry)': False, 'contains(major)': False, 'contains(middle)': False, 'contains(hand)': False, 'contains(memory)': False, 'contains(flaws)': False, 'contains(wants)': False, 'contains(cute)': False, 'contains(working)': False, 'contains(across)': False, 'contains(felt)': False, 'contains(delightful)': False, 'contains(upon)': False, 'contains(used)': False, 'contains(cartoon)': False, 'contains(playing)': False, 'contains(quickly)': False, 'contains(poignant)': False, 'contains(impact)': False, 'contains(words)': False, 'contains(single)': False, 'contains(use)': False, 'contains(deal)': False, 'contains(except)': False, 'contains(touch)': False, 'contains(sentimental)': False, 'contains(situation)': False, 'contains(filled)': False, 'contains(creates)': False, 'contains(success)': False, 'contains(stand)': False, 'contains(talented)': False, 'contains(winning)': False, 'contains(odd)': False, 'contains(master)': False, 'contains(2)': False, 'contains(taken)': False, 'contains(generic)': False, 'contains(sensitive)': False, 'contains(force)': False, 'contains(bond)': False, 'contains(cultural)': False, 'contains(mediocre)': False, 'contains(loud)': False, 'contains(flawed)': False, 'contains(actress)': False, 'contains(yes)': False, 'contains(rest)': False, 'contains(waste)': False, 'contains(unfunny)': False, 'contains(unexpected)': False, 'contains(puts)': False, 'contains(murder)': False, 'contains(lacking)': False, 'contains(hell)': False, 'contains(country)': False, 'contains(slightly)': False, 'contains(formulaic)': False, 'contains(hold)': False, 'contains(remember)': False, 'contains(saw)': False, 'contains(sincere)': False, 'contains(hardly)': False, 'contains(watchable)': False, 'contains(issues)': False, 'contains(ultimate)': False, 'contains(surprises)': False, 'contains(create)': False, 'contains(ability)': False, 'contains(weird)': False, 'contains(extremely)': False, 'contains(relationships)': False, 'contains(era)': False, 'contains(cut)': False, 'contains(eye)': False, 'contains(dog)': False, 'contains(college)': False, 'contains(heavy)': False, 'contains(class)': False, 'contains(*)': False, 'contains(routine)': False, 'contains(apart)': False, 'contains(unsettling)': False, 'contains(seriously)': False, 'contains(melodramatic)': False, 'contains(mildly)': False, 'contains(cannot)': False, 'contains(mark)': False, 'contains(supposed)': False, 'contains(ago)': False, 'contains(slight)': False, 'contains(giving)': False, 'contains(house)': False, 'contains(previous)': False, 'contains(reveals)': False, 'contains(convincing)': False, 'contains(joke)': False, 'contains(ones)': False, 'contains(indeed)': False, 'contains(extreme)': False, 'contains(pleasant)': False, 'contains(casting)': False, 'contains(gripping)': False, 'contains(thrills)': False, 'contains(twists)': False, 'contains(largely)': False, 'contains(crush)': False, 'contains(living)': False, 'contains(five)': False, 'contains(e)': False, 'contains(artist)': False, 'contains(money)': False, 'contains(grant)': False, 'contains(pacing)': False, 'contains(intimate)': False, 'contains(steven)': False, 'contains(plain)': False, 'contains(succeeds)': False, \"contains(aren't)\": False, 'contains(crazy)': False, 'contains(date)': False, 'contains(episode)': False, 'contains(sets)': False, 'contains(tragic)': False, 'contains(involved)': False, 'contains(finds)': False, 'contains(old-fashioned)': False, 'contains(amount)': False, 'contains(terms)': False, 'contains(fully)': False, 'contains(inventive)': False, 'contains(contemporary)': False, 'contains(thinking)': False, 'contains(stylish)': False, 'contains(trouble)': False, 'contains(stars)': False, 'contains(leads)': False, 'contains(focus)': False, 'contains(course)': False, 'contains(treat)': False, 'contains(attempts)': False, 'contains(george)': False, 'contains(mix)': False, 'contains(forgettable)': False, 'contains(road)': False, 'contains(pop)': False, 'contains(uneven)': False, 'contains(grace)': False, 'contains(heaven)': False, 'contains(yourself)': False, 'contains(couple)': False, 'contains(presents)': False, 'contains(problems)': False, 'contains(happy)': False, 'contains(absolutely)': False, 'contains(runs)': False, 'contains(happens)': False, 'contains(missing)': False, 'contains(unique)': False, 'contains(masterpiece)': False, 'contains(york)': False, 'contains(es)': False, 'contains(friendship)': False, 'contains(called)': False, 'contains(drag)': False, 'contains(water)': False, 'contains(complete)': False, 'contains(disturbing)': False, 'contains(appears)': False, 'contains(involving)': False, 'contains(badly)': False, 'contains(goofy)': False, 'contains(considerable)': False, 'contains(williams)': False, 'contains(colorful)': False, 'contains(recommend)': False, 'contains(soundtrack)': False, 'contains(business)': False, 'contains(substance)': False, 'contains(promise)': False, 'contains(poetry)': False, 'contains(painful)': False, 'contains(successful)': False, \"contains(she's)\": False, \"contains(we've)\": False, 'contains(themes)': False, 'contains(gay)': False, 'contains(skin)': False, 'contains(oscar)': False, 'contains(viewing)': False, 'contains(urban)': False, 'contains(bizarre)': False, 'contains(interested)': False, 'contains(equally)': False, 'contains(soul)': False, 'contains(politics)': False, 'contains(meditation)': False, 'contains(imax)': False, 'contains(strangely)': False, 'contains(blend)': False, 'contains(share)': False, 'contains(played)': False, 'contains(evil)': False, 'contains(mean)': False, 'contains(situations)': False, 'contains(tom)': False, 'contains(somehow)': False, 'contains(effect)': False, 'contains(terrible)': False, 'contains(triumph)': False, 'contains(absorbing)': False, 'contains(typical)': False, 'contains(sentimentality)': False, 'contains(british)': False, 'contains(bright)': False, 'contains(person)': False, 'contains(flicks)': False, 'contains([a])': False, 'contains(loses)': False, 'contains(forced)': False, 'contains(parts)': False, 'contains(originality)': False, 'contains(forget)': False, 'contains(wanted)': False, 'contains(hits)': False, 'contains(pieces)': False, \"contains(couldn't)\": False, 'contains(refreshing)': False, 'contains(target)': False, 'contains(manner)': False, \"contains(man's)\": False, 'contains(crafted)': False, 'contains(poor)': False, 'contains(general)': False, 'contains(whatever)': False, 'contains(obviously)': False, 'contains(television)': False, 'contains(derivative)': False, 'contains(word)': False, 'contains(stunning)': False, 'contains(loss)': False, 'contains(battle)': False, 'contains(frame)': False, 'contains(sophisticated)': False, 'contains(franchise)': False, 'contains(dry)': False, 'contains(night)': False, 'contains(created)': False, 'contains(twist)': False, 'contains(grief)': False, 'contains(jackson)': False, 'contains(said)': False, 'contains(virtually)': False, 'contains(average)': False, 'contains(sexy)': False, 'contains(dream)': False, 'contains(means)': False, 'contains(fast)': False, 'contains(doubt)': False, 'contains(tells)': False, 'contains(company)': False, 'contains(depressing)': False, \"contains(director's)\": False, 'contains(understand)': False, 'contains(conflict)': False, 'contains(alive)': False, 'contains(well-acted)': False, 'contains(somewhere)': False, 'contains(central)': False, 'contains(90)': False, 'contains(lame)': False, 'contains(setting)': False, 'contains(name)': False, 'contains(liked)': False, 'contains(questions)': False, 'contains(please)': False, 'contains(el)': False, 'contains(eventually)': False, 'contains(clichés)': False, 'contains(fare)': False, 'contains(hate)': False, 'contains(miss)': False, 'contains(standard)': False, 'contains(fan)': False, 'contains(report)': False, 'contains(haunting)': False, 'contains(energetic)': False, 'contains(monster)': False, 'contains(painfully)': False, 'contains(white)': False, 'contains(heavy-handed)': False, 'contains(amazing)': False, 'contains(worthwhile)': False, 'contains(deliver)': False, 'contains(price)': False, 'contains(edge)': False, 'contains(lets)': False, 'contains(niro)': False, 'contains(places)': False, 'contains(refreshingly)': False, 'contains(allows)': False, 'contains(red)': False, 'contains(let)': False, 'contains(footage)': False, 'contains(toward)': False, 'contains(imaginative)': False, 'contains(blue)': False, 'contains(slapstick)': False, 'contains(tough)': False, 'contains(weak)': False, 'contains(thought-provoking)': False, 'contains(brain)': False, 'contains(una)': False, 'contains(superficial)': False, 'contains(match)': False, 'contains(possibly)': False, 'contains(excitement)': False, 'contains(sitting)': False, 'contains(genuinely)': False, 'contains(finish)': False, 'contains(room)': False, 'contains(japanese)': False, 'contains(popcorn)': False, 'contains(insightful)': False, 'contains(generally)': False, 'contains(unlike)': False, 'contains(essentially)': False, 'contains(inspired)': False, 'contains(ms)': False, 'contains(boys)': False, 'contains(lines)': False, 'contains(warmth)': False, 'contains(riveting)': False, 'contains(opportunity)': False, 'contains(fat)': False, 'contains(holds)': False, 'contains(affecting)': False, 'contains(break)': False, 'contains(clearly)': False, 'contains(remarkably)': False, 'contains(atmosphere)': False, 'contains(treasure)': False, 'contains(conventional)': False, 'contains(wedding)': False, 'contains(faith)': False, 'contains(huge)': False, 'contains(girls)': False, 'contains(vivid)': False, 'contains(simplistic)': False, 'contains(intended)': False, 'contains(trip)': False, 'contains(particular)': False, 'contains(charisma)': False, 'contains(balance)': False, 'contains(believable)': False, 'contains(humanity)': False, 'contains(minor)': False, 'contains(usually)': False, 'contains(murphy)': False, 'contains(wish)': False, 'contains(slice)': False, 'contains(efforts)': False, 'contains(car)': False, 'contains(2002)': False, 'contains(large)': False, 'contains(fit)': False, 'contains(needed)': False, 'contains(kid)': False, \"contains(we're)\": False, 'contains(peter)': False, 'contains(guilty)': False, 'contains(wait)': False, 'contains(ice)': False, 'contains(aside)': False, 'contains(spectacle)': False, 'contains(spielberg)': False, 'contains(equivalent)': False, 'contains(wildly)': False, 'contains(fiction)': False, 'contains(crowd)': False, 'contains(shallow)': False, 'contains(pay)': False, 'contains(unusual)': False, 'contains(delicate)': False, 'contains(affair)': False, 'contains(lazy)': False, 'contains(x)': False, 'contains(heartfelt)': False, 'contains(filmed)': False, 'contains(purpose)': False, 'contains(core)': False, 'contains(within)': False, 'contains(powers)': False, \"contains(hasn't)\": False, 'contains(green)': False, 'contains(writer)': False, 'contains(america)': False, 'contains(s)': False, 'contains(treatment)': False, 'contains(damned)': False, 'contains(vehicle)': False, 'contains(mesmerizing)': False, 'contains(skill)': False, 'contains(bears)': False, 'contains(fashion)': False, 'contains(editing)': False, 'contains(sequence)': False, 'contains(sounds)': False, 'contains(festival)': False, 'contains(sea)': False, 'contains(funnier)': False, 'contains(empty)': False, 'contains(meaning)': False, 'contains(poorly)': False, 'contains(open)': False, 'contains(decades)': False, 'contains(sports)': False, 'contains(space)': False, 'contains(motion)': False, 'contains(mindless)': False, 'contains(universal)': False, 'contains(god)': False, 'contains(figure)': False, 'contains(stale)': False, 'contains(spectacular)': False, 'contains(indie)': False, 'contains(greatest)': False, 'contains(devoid)': False, 'contains(telling)': False, \"contains(wasn't)\": False, 'contains(gangster)': False, 'contains(realistic)': False, 'contains(further)': False, 'contains(party)': False, 'contains(sum)': False, 'contains(ridiculous)': False, 'contains(directorial)': False, 'contains(fear)': False, 'contains(longer)': False, 'contains(promising)': False, 'contains(directors)': False, 'contains(delight)': False, 'contains(natural)': False, 'contains(wife)': False, 'contains(theme)': False, 'contains(revenge)': False, 'contains(offering)': False, 'contains(score)': False, 'contains(detail)': False, 'contains(exhilarating)': False, 'contains(talk)': False, 'contains(dreams)': False, 'contains(quietly)': False, 'contains(spiritual)': False, 'contains(combination)': False, 'contains(deeper)': False, 'contains(deftly)': False, 'contains(stay)': False, \"contains(i'd)\": False, 'contains(extraordinary)': False, \"contains(who's)\": False, \"contains(wouldn't)\": False, 'contains(credits)': False, 'contains(blade)': True, 'contains(performers)': False, 'contains(holes)': False, 'contains(complicated)': False, 'contains(release)': False, 'contains(values)': False, 'contains(gem)': False, 'contains(results)': False, 'contains(perspective)': False, 'contains(public)': False, 'contains(frequently)': False, 'contains(endearing)': False, 'contains(paced)': False, 'contains(value)': False, 'contains(irritating)': False, 'contains(martin)': False, 'contains(members)': False, 'contains(stage)': False, 'contains(gross-out)': False, 'contains(affection)': False, 'contains(sight)': False, 'contains(intense)': False, 'contains(count)': False, 'contains(\\x97)': False, 'contains(represents)': False, 'contains(behavior)': False, 'contains(identity)': False, 'contains(talking)': False, 'contains(move)': False, 'contains(shots)': False, 'contains(justice)': False, 'contains(oddly)': False, 'contains(chase)': False, 'contains(number)': False, 'contains(surface)': False, 'contains(avoid)': False, 'contains(crimes)': False, 'contains(striking)': False, 'contains(provide)': False, 'contains(pleasures)': False, 'contains(strength)': False, 'contains(development)': False, 'contains(win)': False, 'contains(prove)': False, 'contains(disguise)': False, 'contains(consider)': False, 'contains(society)': False, 'contains(10)': False, 'contains(cinematography)': False, 'contains(achieves)': False, 'contains(reading)': False, 'contains(turned)': False, 'contains(desire)': False, 'contains(exploration)': False, 'contains(dreary)': False, 'contains(manipulative)': False, 'contains(profound)': False, 'contains(century)': False, 'contains(awkward)': False, 'contains(constructed)': False, 'contains(pointless)': False, 'contains(farce)': False, 'contains(daring)': False, 'contains(kevin)': False, 'contains(visuals)': False, 'contains(free)': False, 'contains(overly)': False, 'contains(king)': False, 'contains(credit)': False, 'contains(poetic)': False, 'contains(stunts)': False, \"contains(haven't)\": False, 'contains(repetitive)': False, 'contains(expected)': False, 'contains(james)': False, 'contains(roger)': False, 'contains(accessible)': False, 'contains(shame)': False, 'contains(generation)': False, 'contains(allen)': False, 'contains(j)': False, 'contains(presence)': False, 'contains(folks)': False, 'contains(designed)': False, 'contains(friends)': False, 'contains(diverting)': False, 'contains(ring)': False, 'contains(predecessor)': False, 'contains(yarn)': False, 'contains(weight)': False, 'contains(stands)': False, 'contains(imagery)': False, 'contains(songs)': False, 'contains(shake)': False, 'contains(bits)': False, 'contains(enjoyed)': False, 'contains(community)': False, 'contains(numbers)': False, 'contains(admirable)': False, 'contains(save)': False, 'contains(glimpse)': False, 'contains(walk)': False, 'contains(adam)': False, 'contains(raw)': False, 'contains(waiting)': False, \"contains(story's)\": False, 'contains(intentions)': False, 'contains(um)': False, 'contains(serves)': False, 'contains(emerges)': False, 'contains(killer)': False, 'contains(necessary)': False, 'contains(determined)': False, 'contains(brown)': False, 'contains(moviemaking)': False, 'contains(nonsense)': False, 'contains(fears)': False, 'contains(frustrating)': False, 'contains(wise)': False, 'contains(unless)': False, 'contains(ghost)': False, 'contains(marks)': False, 'contains(clumsy)': False, 'contains(machine)': False, 'contains(hot)': False, 'contains(chilling)': False, 'contains(musical)': False, 'contains(delivered)': False, 'contains(beneath)': False, 'contains(artistic)': False, 'contains(screenwriter)': False, 'contains(courage)': False, 'contains(beat)': False, 'contains(tribute)': False, 'contains(pulls)': False, 'contains(offensive)': False, 'contains(using)': False, 'contains(overcome)': False, 'contains(concerned)': False, 'contains(hackneyed)': False, 'contains(blood)': False, 'contains(follow)': False, 'contains(nicely)': False, 'contains(group)': False, 'contains(thinks)': False, 'contains(produced)': False, 'contains(example)': False, 'contains(structure)': False, 'contains(games)': False, 'contains(friday)': False, 'contains(challenging)': False, 'contains(loved)': False, 'contains(intrigue)': False, 'contains(del)': False, 'contains(incredibly)': False, 'contains(giant)': False, 'contains(return)': False, 'contains(voice)': False, 'contains(commercial)': False, 'contains(subjects)': False, 'contains(top)': False, 'contains(attraction)': False, 'contains(ground)': False, 'contains(trifle)': False, 'contains(happen)': False, 'contains(ages)': False, 'contains(failure)': False, 'contains(main)': False, 'contains(levels)': False, 'contains(buy)': False, 'contains(damn)': False, 'contains(tiresome)': False, 'contains(nowhere)': False, 'contains(struggle)': False, 'contains(chance)': False, 'contains(team)': False, 'contains(broad)': False, 'contains(annoying)': False, 'contains(chinese)': False, 'contains(seat)': False, 'contains(adult)': False, 'contains(meandering)': False, 'contains(disappointing)': False, \"contains(i'll)\": False, 'contains(mainstream)': False, 'contains(today)': False, 'contains(favor)': False, 'contains(wry)': False, 'contains(eight)': False, 'contains(chris)': False, 'contains(industry)': False, 'contains(excuse)': False, 'contains(digital)': False, 'contains(emotion)': False, 'contains(reach)': False, 'contains(jones)': False, 'contains(damage)': False, 'contains(directing)': False, 'contains(document)': False, 'contains(tender)': False, 'contains(violent)': False, 'contains(superior)': False, 'contains(vs)': False, 'contains(storyline)': False, 'contains(modest)': False, 'contains(mike)': False, 'contains(monty)': False, 'contains(unpleasant)': False, 'contains(father)': False, 'contains(winds)': False, 'contains(fall)': False, 'contains(spend)': False, 'contains(overwrought)': False, 'contains(budget)': False, 'contains(adolescent)': False, 'contains(maudlin)': False, 'contains(hip-hop)': False, 'contains(talents)': False, 'contains(sheer)': False, 'contains(scenario)': False, 'contains(roles)': False, 'contains(vibrant)': False, 'contains(humorous)': False, 'contains(first-time)': False, 'contains(moviegoers)': False, 'contains(present)': False, 'contains(comedic)': False, 'contains(fair)': False, 'contains(bore)': False, 'contains(un)': False, \"contains(world's)\": False, 'contains(authentic)': False, 'contains(search)': False, 'contains(bittersweet)': False, 'contains(well-made)': False, 'contains(standards)': False, 'contains(stock)': False, 'contains(jason)': False, 'contains(apparently)': False, 'contains(deserve)': False, 'contains(studio)': False, 'contains(body)': False, 'contains(inspiring)': False, 'contains(twice)': False, 'contains(bunch)': False, 'contains(dance)': False, 'contains(accomplished)': False, 'contains(funniest)': False, 'contains(grows)': False, \"contains(characters')\": False, 'contains(creating)': False, 'contains(delivery)': False, 'contains(precious)': False, \"contains('the)\": False, 'contains(b-movie)': False, 'contains(sappy)': False, 'contains(land)': False, 'bigram(. .)': False, 'bigram(. the)': False, 'bigram(. a)': False, 'bigram(of the)': False, 'bigram(, but)': False, 'bigram(, and)': False, 'bigram(in the)': False, 'bigram(the film)': False, 'bigram(is a)': False, \"bigram(. it's)\": False, 'bigram(, the)': False, 'bigram(of a)': False, 'bigram(to the)': False, 'bigram(and the)': False, 'bigram(to be)': False, 'bigram(the movie)': False, 'bigram(. this)': False, 'bigram(. it)': False, 'bigram(for the)': False, 'bigram(it is)': False, 'bigram(. an)': False, 'bigram(with a)': False, 'bigram(as a)': False, 'bigram(in a)': False, 'bigram(on the)': False, 'bigram(one of)': False, 'bigram(and a)': False, 'bigram(this is)': False, 'bigram(a movie)': False, \"bigram(it's a)\": False, 'bigram(, it)': False, 'bigram(. if)': False, 'bigram(with the)': False, 'bigram(film is)': False, 'bigram(like a)': False, 'bigram(, a)': False, 'bigram(for a)': False, 'bigram(it .)': False, 'bigram(the most)': False, 'bigram(. but)': False, 'bigram(film .)': False, 'bigram(but it)': False, 'bigram(of its)': False, 'bigram(movie .)': False, \"bigram(, it's)\": False, 'bigram(, this)': False, 'bigram(a film)': False, 'bigram(as the)': False, 'bigram(. i)': False, 'bigram(from the)': False, 'bigram(at the)': False, 'bigram(all the)': False, 'bigram(by the)': False, 'bigram(movie is)': False, 'bigram(but the)': False, 'bigram(in its)': False, 'bigram(is the)': False, 'bigram(more than)': False, 'bigram(kind of)': False, 'bigram(about the)': False, 'bigram(that is)': False, 'bigram(, with)': False, 'bigram(film that)': False, 'bigram(movie ,)': False, 'bigram(. as)': False, 'bigram(film ,)': False, \"bigram(the film's)\": False, 'bigram(the story)': False, 'bigram(to a)': False, 'bigram(this movie)': False, 'bigram(has a)': False, 'bigram(have been)': False, 'bigram(movie that)': False, 'bigram(that it)': False, 'bigram(to make)': False, 'bigram(that the)': False, 'bigram(. what)': False, 'bigram(into the)': False, 'bigram(out of)': False, 'bigram(. in)': False, 'bigram(in this)': False, 'bigram(the best)': False, 'bigram(, as)': False, 'bigram(as it)': False, 'bigram(a good)': False, 'bigram(, is)': False, \"bigram(. there's)\": False, 'bigram(. \")': False, \"bigram(. ')\": False, 'bigram(. while)': False, \"bigram(but it's)\": False, 'bigram(. one)': False, 'bigram(if you)': False, 'bigram(its own)': False, 'bigram(. there)': False, 'bigram(sense of)': False, 'bigram(this film)': False, 'bigram(the same)': False, 'bigram(enough to)': False, 'bigram(is an)': False, 'bigram(be a)': False, 'bigram(into a)': False, 'bigram(is that)': False, 'bigram(to see)': False, 'bigram(a lot)': False, 'bigram(is so)': False, 'bigram(is not)': False, 'bigram(, which)': False, 'bigram(-- and)': False, 'bigram(. for)': False, 'bigram(, in)': False, 'bigram(. like)': False, 'bigram(comedy .)': False, 'bigram(than a)': False, 'bigram(the first)': False, 'bigram(time .)': False, 'bigram(. you)': False, 'bigram(a few)': False, 'bigram(look at)': False, 'bigram(a little)': False, 'bigram(on a)': False, 'bigram(the characters)': False, 'bigram(the end)': False, 'bigram(of this)': False, 'bigram(. and)': False, 'bigram(from a)': False, 'bigram(of an)': False, 'bigram(than the)': False, 'bigram(. with)': False, 'bigram(may be)': False, 'bigram(the way)': False, 'bigram(, you)': False, 'bigram(there is)': False, 'bigram(. not)': False, 'bigram(funny ,)': False, \"bigram(it's not)\": False, 'bigram(story .)': False, 'bigram(a great)': False, 'bigram(and ,)': False, 'bigram(by a)': False, 'bigram(of his)': False, 'bigram(mr .)': False, 'bigram(. even)': False, 'bigram(the kind)': False, 'bigram(you can)': False, 'bigram(, i)': False, 'bigram(not a)': False, 'bigram(there are)': False, 'bigram(hard to)': False, 'bigram(like the)': False, 'bigram(so much)': False, 'bigram(to watch)': False, 'bigram(most of)': False, 'bigram(them .)': False, 'bigram(, even)': False, 'bigram(, if)': False, 'bigram(is one)': False, 'bigram(, who)': False, 'bigram(. though)': False, 'bigram(about a)': False, 'bigram(manages to)': False, 'bigram(of those)': False, 'bigram(would be)': False, 'bigram(for its)': False, 'bigram(romantic comedy)': False, 'bigram(want to)': False, 'bigram(and his)': False, 'bigram(such a)': False, 'bigram(the audience)': False, 'bigram(, or)': False, 'bigram(at least)': False, 'bigram(to have)': False, 'bigram(work .)': False, 'bigram(, not)': False, 'bigram(a very)': False, 'bigram(could have)': False, 'bigram(much of)': False, 'bigram(. despite)': False, 'bigram(it ,)': False, 'bigram(it has)': False, 'bigram(story ,)': False, 'bigram(with an)': False, 'bigram(as an)': False, 'bigram(have a)': False, 'bigram(in which)': False, 'bigram(that ,)': False, 'bigram(the plot)': False, 'bigram(through the)': False, 'bigram(trying to)': False, 'bigram(full of)': False, 'bigram(if the)': False, 'bigram(some of)': False, 'bigram(to get)': False, 'bigram(as if)': False, 'bigram(in his)': False, \"bigram(the movie's)\": False, 'bigram(with its)': False, 'bigram(and its)': False, 'bigram(characters .)': False, \"bigram(if you're)\": False, 'bigram(of it)': False, 'bigram(should be)': False, 'bigram(will be)': False, 'bigram(. is)': False, 'bigram(and an)': False, 'bigram(can be)': False, 'bigram(is ,)': False, \"bigram(it doesn't)\": False, 'bigram(lot of)': False, 'bigram(one .)': False, 'bigram(seems to)': False, 'bigram(up to)': False, 'bigram(if it)': False, 'bigram(on its)': False, \"bigram(that it's)\": False, 'bigram(too much)': False, 'bigram(would have)': False, 'bigram(. too)': False, 'bigram(life .)': False, 'bigram(portrait of)': False, 'bigram(sort of)': False, 'bigram(the only)': False, 'bigram(. at)': False, 'bigram(a bad)': False, 'bigram(a story)': False, 'bigram(as well)': False, 'bigram(characters ,)': False, 'bigram(piece of)': False, 'bigram(, \")': False, 'bigram(, so)': False, 'bigram(, though)': False, 'bigram(. just)': False, 'bigram(a bit)': False, 'bigram(this one)': False, 'bigram(. its)': False, 'bigram(of all)': False, 'bigram(rather than)': False, 'bigram(the whole)': False, 'bigram(when it)': False, 'bigram(\" is)': False, 'bigram(, that)': False, 'bigram(at times)': False, 'bigram(drama .)': False, 'bigram(has the)': False, 'bigram(it was)': False, 'bigram(lack of)': False, 'bigram(not only)': False, 'bigram(. although)': False, 'bigram(. has)': False, 'bigram(be the)': False, 'bigram(funny .)': False, \"bigram(it's the)\": False, 'bigram(to say)': False, 'bigram(, like)': False, 'bigram(. all)': False, 'bigram(and it)': False, 'bigram(even if)': False, 'bigram(for all)': False, 'bigram(has been)': False, 'bigram(is just)': False, 'bigram(the script)': False, 'bigram(to do)': False, 'bigram(. no)': False, 'bigram(at a)': False, 'bigram(end ,)': False, 'bigram(film about)': False, 'bigram(have to)': False, 'bigram(in an)': False, 'bigram(the big)': False, 'bigram(the original)': False, 'bigram(the year)': False, \"bigram(there's no)\": False, 'bigram(to keep)': False, 'bigram(. so)': False, 'bigram(at its)': False, 'bigram(fun .)': False, 'bigram(it all)': False, 'bigram(it would)': False, 'bigram(just a)': False, 'bigram(tale of)': False, 'bigram(that makes)': False, 'bigram(the screen)': False, 'bigram(way .)': False, 'bigram(while the)': False, 'bigram(\" the)': False, 'bigram() ,)': False, 'bigram(. director)': False, 'bigram(feels like)': False, 'bigram(is as)': False, 'bigram(is more)': False, 'bigram(it does)': False, 'bigram(that you)': False, 'bigram(the worst)': False, 'bigram(, no)': False, 'bigram(, one)': False, \"bigram(and it's)\": False, 'bigram(going to)': False, 'bigram(over the)': False, 'bigram(the last)': False, 'bigram(. that)': False, 'bigram(. when)': False, 'bigram(comedy that)': False, 'bigram(instead of)': False, 'bigram(may not)': False, 'bigram(screen .)': False, 'bigram(the performances)': False, 'bigram(those who)': False, 'bigram(to find)': False, 'bigram(to its)': False, 'bigram(, at)': False, 'bigram(, its)': False, 'bigram(, then)': False, 'bigram(-- but)': False, 'bigram(but not)': False, 'bigram(funny and)': False, 'bigram(not to)': False, 'bigram(that will)': False, 'bigram(the picture)': False, 'bigram(the right)': False, 'bigram(the time)': False, 'bigram(year .)': False, 'bigram(, an)': False, 'bigram(all of)': False, 'bigram(and even)': False, 'bigram(be .)': False, 'bigram(better than)': False, 'bigram(documentary .)': False, 'bigram(film with)': False, 'bigram(is .)': False, 'bigram(is in)': False, 'bigram(it may)': False, 'bigram(the cast)': False, 'bigram(too many)': False, 'bigram(way to)': False, 'bigram(which is)': False, 'bigram(( and)': False, 'bigram(, to)': False, 'bigram(, too)': False, 'bigram(a fascinating)': False, 'bigram(a long)': False, 'bigram(but a)': False, 'bigram(humor .)': False, 'bigram(might have)': False, 'bigram(story is)': False, 'bigram(the filmmakers)': False, 'bigram(the theater)': False, 'bigram(time ,)': False, 'bigram(when the)': False, 'bigram(, while)': False, 'bigram(a new)': False, 'bigram(all its)': False, 'bigram(and more)': False, 'bigram(and not)': False, 'bigram(audience .)': False, 'bigram(is to)': False, 'bigram(is too)': False, 'bigram(makes the)': False, \"bigram(there's a)\": False, 'bigram(to take)': False, 'bigram(version of)': False, 'bigram(what is)': False, 'bigram(as much)': False, 'bigram(by its)': False, 'bigram(characters and)': False, 'bigram(comedy ,)': False, 'bigram(fails to)': False, \"bigram(it's hard)\": False, 'bigram(make a)': False, 'bigram(make it)': False, 'bigram(movie with)': False, 'bigram(of their)': False, 'bigram(off the)': False, 'bigram(performances .)': False, 'bigram(plays like)': False, 'bigram(should have)': False, 'bigram(the director)': False, 'bigram(work of)': False, 'bigram(, for)': False, 'bigram(, we)': False, 'bigram(. by)': False, 'bigram(. to)': False, 'bigram(a real)': False, 'bigram(but this)': False, 'bigram(exercise in)': False, 'bigram(people who)': False, 'bigram(the fact)': False, 'bigram(the other)': False, 'bigram(the world)': False, 'bigram(well as)': False, 'bigram(, more)': False, 'bigram(-- the)': False, 'bigram(. some)': False, 'bigram(a big)': False, 'bigram(and then)': False, 'bigram(because it)': False, 'bigram(film has)': False, 'bigram(of these)': False, 'bigram(out to)': False, 'bigram(part of)': False, 'bigram(special effects)': False, 'bigram(than it)': False, 'bigram(the more)': False, 'bigram(the very)': False, 'bigram(times ,)': False, 'bigram(, especially)': False, 'bigram(. more)': False, 'bigram(a way)': False, 'bigram(about as)': False, 'bigram(but also)': False, 'bigram(characters are)': False, 'bigram(despite its)': False, 'bigram(even the)': False, 'bigram(far more)': False, 'bigram(good ,)': False, 'bigram(here .)': False, 'bigram(it a)': False, \"bigram(it's also)\": False, \"bigram(it's just)\": False, 'bigram(just as)': False, 'bigram(might be)': False, 'bigram(none of)': False, 'bigram(of what)': False, 'bigram(see it)': False, 'bigram(story and)': False, 'bigram(subject matter)': False, 'bigram(thriller .)': False, 'bigram(you have)': False, \"bigram(, ')\": False, 'bigram(-- a)': False, 'bigram(a more)': False, 'bigram(fact that)': False, 'bigram(film of)': False, 'bigram(here ,)': False, 'bigram(his own)': False, 'bigram(is about)': False, 'bigram(it makes)': False, 'bigram(it to)': False, \"bigram(it's an)\": False, 'bigram(minutes .)': False, 'bigram(moments of)': False, \"bigram(that doesn't)\": False, 'bigram(that has)': False, 'bigram(the actors)': False, 'bigram(tries to)': False, 'bigram(way ,)': False, 'bigram(what it)': False, 'bigram(. we)': False, 'bigram(a comedy)': False, 'bigram(able to)': False, 'bigram(all .)': False, 'bigram(and that)': False, 'bigram(entertainment .)': False, 'bigram(films .)': False, 'bigram(how to)': False, 'bigram(like this)': False, 'bigram(lots of)': False, 'bigram(make the)': False, 'bigram(makes it)': False, 'bigram(movies ,)': False, 'bigram(movies .)': False, 'bigram(much more)': False, 'bigram(not be)': False, 'bigram(one that)': False, 'bigram(out the)': False, 'bigram(performances ,)': False, 'bigram(series of)': False, 'bigram(that are)': False, 'bigram(to give)': False, 'bigram(up .)': False, 'bigram(up in)': False, 'bigram(way of)': False, 'bigram(work ,)': False, 'bigram(you might)': False, 'bigram(, yet)': False, \"bigram(, you'll)\": False, 'bigram(. nothing)': False, 'bigram(a compelling)': False, 'bigram(and in)': False, 'bigram(as its)': False, 'bigram(care about)': False, 'bigram(each other)': False, 'bigram(examination of)': False, 'bigram(for this)': False, 'bigram(heart .)': False, 'bigram(humor and)': False, 'bigram(in all)': False, 'bigram(likely to)': False, 'bigram(little more)': False, 'bigram(long ,)': False, 'bigram(looking for)': False, 'bigram(of love)': False, 'bigram(of movie)': False, 'bigram(or the)': False, 'bigram(so many)': False, 'bigram(story of)': False, 'bigram(story that)': False, 'bigram(that this)': False, 'bigram(the material)': False, 'bigram(the title)': False, 'bigram(to go)': False}\n"
     ]
    }
   ],
   "source": [
    "# use this function to create feature sets for all sentences\n",
    "bigram_featuresets = [(bigram_document_features(d, word_features, bigram_features), c) for (d, c) in documents]\n",
    "\n",
    "# number of features for document 0\n",
    "print(len(bigram_featuresets[0][0].keys()))\n",
    "\n",
    "# features in document 0\n",
    "print(bigram_featuresets[0][0])"
   ]
  },
  {
   "cell_type": "code",
   "execution_count": 19,
   "metadata": {
    "button": false,
    "collapsed": false,
    "deletable": true,
    "new_sheet": false,
    "run_control": {
     "read_only": false
    }
   },
   "outputs": [
    {
     "data": {
      "text/plain": [
       "0.754"
      ]
     },
     "execution_count": 19,
     "metadata": {},
     "output_type": "execute_result"
    }
   ],
   "source": [
    "# train a classifier and report accuracy\n",
    "train_set, test_set = bigram_featuresets[1000:], bigram_featuresets[:1000]\n",
    "classifier = nltk.NaiveBayesClassifier.train(train_set)\n",
    "nltk.classify.accuracy(classifier, test_set)"
   ]
  },
  {
   "cell_type": "code",
   "execution_count": 20,
   "metadata": {
    "button": false,
    "collapsed": false,
    "deletable": true,
    "new_sheet": false,
    "run_control": {
     "read_only": false
    }
   },
   "outputs": [
    {
     "name": "stdout",
     "output_type": "stream",
     "text": [
      "['Arthur', 'carefully', 'rode', 'the', 'brown', 'horse', 'around', 'the', 'castle']\n",
      "[('Arthur', 'NNP'), ('carefully', 'RB'), ('rode', 'VBD'), ('the', 'DT'), ('brown', 'JJ'), ('horse', 'NN'), ('around', 'IN'), ('the', 'DT'), ('castle', 'NN')]\n"
     ]
    }
   ],
   "source": [
    "###  POS (part-of-speech) tag counts\n",
    "# using the default pos tagger in NLTK (the Stanford tagger)\n",
    "print(sent)\n",
    "print(nltk.pos_tag(sent))"
   ]
  },
  {
   "cell_type": "code",
   "execution_count": 21,
   "metadata": {
    "button": false,
    "collapsed": true,
    "deletable": true,
    "new_sheet": false,
    "run_control": {
     "read_only": false
    }
   },
   "outputs": [],
   "source": [
    "# this function takes a document list of words and returns a feature dictionary\n",
    "# it runs the default pos tagger (the Stanford tagger) on the document\n",
    "#   and counts 4 types of pos tags to use as features\n",
    "def POS_features(document, word_features):\n",
    "    document_words = set(document)\n",
    "    tagged_words = nltk.pos_tag(document)\n",
    "    features = {}\n",
    "    for word in word_features:\n",
    "        features['contains({})'.format(word)] = (word in document_words)\n",
    "    numNoun = 0\n",
    "    numVerb = 0\n",
    "    numAdj = 0\n",
    "    numAdverb = 0\n",
    "    for (word, tag) in tagged_words:\n",
    "        if tag.startswith('N'): numNoun += 1\n",
    "        if tag.startswith('V'): numVerb += 1\n",
    "        if tag.startswith('J'): numAdj += 1\n",
    "        if tag.startswith('R'): numAdverb += 1\n",
    "    features['nouns'] = numNoun\n",
    "    features['verbs'] = numVerb\n",
    "    features['adjectives'] = numAdj\n",
    "    features['adverbs'] = numAdverb\n",
    "    return features"
   ]
  },
  {
   "cell_type": "code",
   "execution_count": 22,
   "metadata": {
    "button": false,
    "collapsed": false,
    "deletable": true,
    "new_sheet": false,
    "run_control": {
     "read_only": false
    }
   },
   "outputs": [
    {
     "name": "stdout",
     "output_type": "stream",
     "text": [
      "1504\n"
     ]
    }
   ],
   "source": [
    "# define feature sets using this function\n",
    "POS_featuresets = [(POS_features(d, word_features), c) for (d, c) in documents]\n",
    "# number of features for document 0\n",
    "print(len(POS_featuresets[0][0].keys()))"
   ]
  },
  {
   "cell_type": "code",
   "execution_count": 23,
   "metadata": {
    "button": false,
    "collapsed": false,
    "deletable": true,
    "new_sheet": false,
    "run_control": {
     "read_only": false
    }
   },
   "outputs": [
    {
     "name": "stdout",
     "output_type": "stream",
     "text": [
      "(['an', 'amalgam', 'of', 'the', 'fugitive', ',', 'blade', 'runner', ',', 'and', 'total', 'recall', ',', 'only', 'without', 'much', 'energy', 'or', 'tension', '.'], 'neg')\n",
      "num nouns 5\n",
      "num verbs 0\n",
      "num adjectives 4\n",
      "num adverbs 1\n"
     ]
    }
   ],
   "source": [
    "# the first sentence\n",
    "print(documents[0])\n",
    "# the pos tag features for this sentence\n",
    "print('num nouns', POS_featuresets[0][0]['nouns'])\n",
    "print('num verbs', POS_featuresets[0][0]['verbs'])\n",
    "print('num adjectives', POS_featuresets[0][0]['adjectives'])\n",
    "print('num adverbs', POS_featuresets[0][0]['adverbs'])"
   ]
  },
  {
   "cell_type": "code",
   "execution_count": 24,
   "metadata": {
    "button": false,
    "collapsed": false,
    "deletable": true,
    "new_sheet": false,
    "run_control": {
     "read_only": false
    }
   },
   "outputs": [
    {
     "data": {
      "text/plain": [
       "0.748"
      ]
     },
     "execution_count": 24,
     "metadata": {},
     "output_type": "execute_result"
    }
   ],
   "source": [
    "# train and test the classifier\n",
    "train_set, test_set = POS_featuresets[1000:], POS_featuresets[:1000]\n",
    "classifier = nltk.NaiveBayesClassifier.train(train_set)\n",
    "nltk.classify.accuracy(classifier, test_set)"
   ]
  },
  {
   "cell_type": "code",
   "execution_count": 15,
   "metadata": {
    "button": false,
    "collapsed": true,
    "deletable": true,
    "new_sheet": false,
    "run_control": {
     "read_only": false
    }
   },
   "outputs": [],
   "source": [
    "## cross-validation ##\n",
    "# this function takes the number of folds, the feature sets\n",
    "# it iterates over the folds, using different sections for training and testing in turn\n",
    "#   it prints the accuracy for each fold and the average accuracy at the end\n",
    "def cross_validation_accuracy(num_folds, featuresets):\n",
    "    subset_size = int(len(featuresets)/num_folds)\n",
    "    accuracy_list = []\n",
    "    # iterate over the folds\n",
    "    for i in range(num_folds):\n",
    "        test_this_round = featuresets[(i*subset_size):][:subset_size]\n",
    "        train_this_round = featuresets[:(i*subset_size)] + featuresets[((i+1)*subset_size):]\n",
    "        # train using train_this_round\n",
    "        classifier = nltk.NaiveBayesClassifier.train(train_this_round)\n",
    "        # evaluate against test_this_round and save accuracy\n",
    "        accuracy_this_round = nltk.classify.accuracy(classifier, test_this_round)\n",
    "        print (i, accuracy_this_round)\n",
    "        accuracy_list.append(accuracy_this_round)\n",
    "    # find mean accuracy over all rounds\n",
    "    print ('mean accuracy', sum(accuracy_list) / num_folds)"
   ]
  },
  {
   "cell_type": "code",
   "execution_count": 29,
   "metadata": {
    "button": false,
    "collapsed": false,
    "deletable": true,
    "new_sheet": false,
    "run_control": {
     "read_only": false
    }
   },
   "outputs": [
    {
     "name": "stdout",
     "output_type": "stream",
     "text": [
      "0 0.7401500938086304\n",
      "1 0.7382739212007504\n",
      "2 0.7335834896810507\n",
      "3 0.7237335834896811\n",
      "4 0.7387429643527205\n",
      "mean accuracy 0.7348968105065666\n"
     ]
    }
   ],
   "source": [
    "# perform the cross-validation on the featuresets with word features and generate accuracy\n",
    "num_folds = 5\n",
    "cross_validation_accuracy(num_folds, featuresets)"
   ]
  },
  {
   "cell_type": "markdown",
   "metadata": {
    "button": false,
    "collapsed": true,
    "deletable": true,
    "new_sheet": false,
    "run_control": {
     "read_only": false
    }
   },
   "source": [
    "## Exercise  \n",
    "In lab, we ran the cross_validation function on the variable feature_sets, which gave\n",
    "the average accuracy for the word feature sets. For your exercise, run the crossvalidation\n",
    "function for the bigram feature sets and for the POS feature sets.\n",
    "\n",
    "\n",
    "\n",
    "If you have time, run at least one of them for 10 folds instead of 5.\n",
    "\n",
    "\n",
    "For each type of feature function definition, [ost into the discussion forum the original\n",
    "accuracy that we got with just one train/test split and compare it with cross-validation\n",
    "accuracy that you get for 5 folds. If you have time to run 10 fold cross-validation(s),\n",
    "post that as well."
   ]
  },
  {
   "cell_type": "code",
   "execution_count": 27,
   "metadata": {
    "button": false,
    "collapsed": false,
    "deletable": true,
    "new_sheet": false,
    "run_control": {
     "read_only": false
    }
   },
   "outputs": [
    {
     "name": "stdout",
     "output_type": "stream",
     "text": [
      "0 0.7396810506566605\n",
      "1 0.7387429643527205\n",
      "2 0.7340525328330206\n",
      "3 0.723264540337711\n",
      "4 0.7387429643527205\n",
      "mean accuracy 0.7348968105065665\n",
      "None\n"
     ]
    }
   ],
   "source": [
    "#run the cross-validation function for the bigram feature sets \n",
    "num_folds=5\n",
    "print(cross_validation_accuracy(num_folds, bigram_featuresets))\n",
    "\n"
   ]
  },
  {
   "cell_type": "code",
   "execution_count": 28,
   "metadata": {
    "button": false,
    "collapsed": false,
    "deletable": true,
    "new_sheet": false,
    "run_control": {
     "read_only": false
    }
   },
   "outputs": [
    {
     "name": "stdout",
     "output_type": "stream",
     "text": [
      "0 0.7340525328330206\n",
      "1 0.7373358348968105\n",
      "2 0.7387429643527205\n",
      "3 0.725609756097561\n",
      "4 0.7359287054409006\n",
      "mean accuracy 0.7343339587242027\n",
      "None\n"
     ]
    }
   ],
   "source": [
    "#run the cross-validation function for for the POS feature sets.\n",
    "print(cross_validation_accuracy(num_folds, POS_featuresets))\n"
   ]
  },
  {
   "cell_type": "code",
   "execution_count": 30,
   "metadata": {
    "button": false,
    "collapsed": false,
    "deletable": true,
    "new_sheet": false,
    "run_control": {
     "read_only": false
    }
   },
   "outputs": [
    {
     "name": "stdout",
     "output_type": "stream",
     "text": [
      "0 0.7495309568480301\n",
      "1 0.7317073170731707\n",
      "2 0.7345215759849906\n",
      "3 0.7467166979362101\n",
      "4 0.7392120075046904\n",
      "5 0.7382739212007504\n",
      "6 0.7467166979362101\n",
      "7 0.7045028142589118\n",
      "8 0.7448405253283302\n",
      "9 0.7354596622889306\n",
      "mean accuracy 0.7371482176360226\n",
      "None\n"
     ]
    }
   ],
   "source": [
    "#run 10 folds CV on both\n",
    "num_folds=10\n",
    "#run the cross-validation function for the bigram feature sets \n",
    "print(cross_validation_accuracy(num_folds, bigram_featuresets))\n"
   ]
  },
  {
   "cell_type": "code",
   "execution_count": null,
   "metadata": {
    "button": false,
    "collapsed": true,
    "deletable": true,
    "new_sheet": false,
    "run_control": {
     "read_only": false
    }
   },
   "outputs": [],
   "source": [
    "#run the cross-validation function for for the POS feature sets.\n",
    "print(cross_validation_accuracy(num_folds, POS_featuresets))\n",
    "\n"
   ]
  }
 ],
 "metadata": {
  "kernelspec": {
   "display_name": "Python 3",
   "language": "python",
   "name": "python3"
  },
  "language_info": {
   "codemirror_mode": {
    "name": "ipython",
    "version": 3
   },
   "file_extension": ".py",
   "mimetype": "text/x-python",
   "name": "python",
   "nbconvert_exporter": "python",
   "pygments_lexer": "ipython3",
   "version": "3.5.0"
  },
  "toc": {
   "nav_menu": {},
   "number_sections": true,
   "sideBar": true,
   "skip_h1_title": false,
   "toc_cell": false,
   "toc_position": {},
   "toc_section_display": "block",
   "toc_window_display": false
  },
  "varInspector": {
   "cols": {
    "lenName": 16,
    "lenType": 16,
    "lenVar": 40
   },
   "kernels_config": {
    "python": {
     "delete_cmd_postfix": "",
     "delete_cmd_prefix": "del ",
     "library": "var_list.py",
     "varRefreshCmd": "print(var_dic_list())"
    },
    "r": {
     "delete_cmd_postfix": ") ",
     "delete_cmd_prefix": "rm(",
     "library": "var_list.r",
     "varRefreshCmd": "cat(var_dic_list()) "
    }
   },
   "types_to_exclude": [
    "module",
    "function",
    "builtin_function_or_method",
    "instance",
    "_Feature"
   ],
   "window_display": false
  }
 },
 "nbformat": 4,
 "nbformat_minor": 2
}
