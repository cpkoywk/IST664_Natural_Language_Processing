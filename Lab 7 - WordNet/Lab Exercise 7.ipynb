{
 "cells": [
  {
   "cell_type": "code",
   "execution_count": 19,
   "metadata": {},
   "outputs": [],
   "source": [
    "import nltk\n",
    "# import wordnet and shorten its name to wn\n",
    "from nltk.corpus import wordnet as wn\n"
   ]
  },
  {
   "cell_type": "code",
   "execution_count": 11,
   "metadata": {},
   "outputs": [
    {
     "data": {
      "text/plain": [
       "[Synset('american_bison.n.01'),\n",
       " Synset('buffalo.n.02'),\n",
       " Synset('buffalo.n.03'),\n",
       " Synset('old_world_buffalo.n.01'),\n",
       " Synset('buffalo.v.01')]"
      ]
     },
     "execution_count": 11,
     "metadata": {},
     "output_type": "execute_result"
    }
   ],
   "source": [
    "#pick a word: buffalo\n",
    "wn.synsets('buffalo')"
   ]
  },
  {
   "cell_type": "code",
   "execution_count": 17,
   "metadata": {},
   "outputs": [
    {
     "name": "stdout",
     "output_type": "stream",
     "text": [
      "Synset('american_bison.n.01') :  \n",
      "    ['American_bison', 'American_buffalo', 'buffalo', 'Bison_bison']\n",
      "      large shaggy-haired brown bison of North American plains\n",
      "    []\n",
      "Synset('buffalo.n.02') :  \n",
      "    ['Buffalo']\n",
      "      a city on Lake Erie in western New York (near Niagara Falls)\n",
      "    []\n",
      "Synset('buffalo.n.03') :  \n",
      "    ['buffalo']\n",
      "      meat from an American bison\n",
      "    []\n",
      "Synset('old_world_buffalo.n.01') :  \n",
      "    ['Old_World_buffalo', 'buffalo']\n",
      "      any of several Old World animals resembling oxen including, e.g., water buffalo; Cape buffalo\n",
      "    []\n",
      "Synset('buffalo.v.01') :  \n",
      "    ['buffalo']\n",
      "      intimidate or overawe\n",
      "    []\n"
     ]
    }
   ],
   "source": [
    "# 1. find lemma names, definitions, and examples for all senses of buffalo\n",
    "for synset in wn.synsets('buffalo'):\n",
    "\tprint (synset, \":  \")\n",
    "\tprint ('   ', synset.lemma_names())\n",
    "\tprint ('     ', synset.definition())\n",
    "\tprint ('   ', synset.examples())"
   ]
  },
  {
   "cell_type": "code",
   "execution_count": 36,
   "metadata": {},
   "outputs": [
    {
     "name": "stdout",
     "output_type": "stream",
     "text": [
      "[Synset('bison.n.01')]\n"
     ]
    }
   ],
   "source": [
    "#2. Pick one synset of the word and show all of its direct hypernyms\n",
    "buffalo1=wn.synset('american_bison.n.01')\n",
    "print(buffalo1.hypernyms())\n"
   ]
  },
  {
   "cell_type": "code",
   "execution_count": 37,
   "metadata": {
    "scrolled": true
   },
   "outputs": [
    {
     "name": "stdout",
     "output_type": "stream",
     "text": [
      "1\n"
     ]
    },
    {
     "data": {
      "text/plain": [
       "['entity.n.01',\n",
       " 'physical_entity.n.01',\n",
       " 'object.n.01',\n",
       " 'whole.n.02',\n",
       " 'living_thing.n.01',\n",
       " 'organism.n.01',\n",
       " 'animal.n.01',\n",
       " 'chordate.n.01',\n",
       " 'vertebrate.n.01',\n",
       " 'mammal.n.01',\n",
       " 'placental.n.01',\n",
       " 'ungulate.n.01',\n",
       " 'even-toed_ungulate.n.01',\n",
       " 'ruminant.n.01',\n",
       " 'bovid.n.01',\n",
       " 'bison.n.01',\n",
       " 'american_bison.n.01']"
      ]
     },
     "execution_count": 37,
     "metadata": {},
     "output_type": "execute_result"
    }
   ],
   "source": [
    "#3. Show the hypernym paths between the top of the hierarchy and that word sense.\n",
    "paths=wn.synset('american_bison.n.01').hypernym_paths()\n",
    "print(len(paths))\n",
    "[synset.name() for synset in paths[0]]\n"
   ]
  },
  {
   "cell_type": "code",
   "execution_count": 39,
   "metadata": {},
   "outputs": [
    {
     "name": "stdout",
     "output_type": "stream",
     "text": [
      "[Synset('buffalo.n.03')]\n",
      "[Synset('genus_bison.n.01')]\n"
     ]
    }
   ],
   "source": [
    "#4. See what other relations are defined for your word and show one or more of them using NLTK functions.\n",
    "#for synset('american_bison.n.01'), it also has part meronym and member holonym according to WordNet Search\n",
    "print(buffalo1.part_meronyms())\n",
    "print(buffalo1.member_holonyms())\n"
   ]
  },
  {
   "cell_type": "code",
   "execution_count": 49,
   "metadata": {},
   "outputs": [
    {
     "name": "stdout",
     "output_type": "stream",
     "text": [
      "positive score: 0.0\n",
      "negative score: 0.0\n",
      "objective sentiment  score: 1.0\n"
     ]
    }
   ],
   "source": [
    "#5 5. Use SentiWordNet to get the senti_synset of the sense of the word that you picked in part 2. \n",
    "#Show the positive, negative and objective sentiment scores for that word, if any.\n",
    "from nltk.corpus import sentiwordnet as swn\n",
    "buffalo2 = swn.senti_synset('american_bison.n.01')\n",
    "print('positive score: {}\\nnegative score: {}\\nobjective sentiment  score: {}'.format(buffalo2.pos_score(),\n",
    "                                                                                 buffalo2.neg_score(),\n",
    "                                                                                 buffalo2.obj_score()))\n"
   ]
  },
  {
   "cell_type": "code",
   "execution_count": null,
   "metadata": {
    "collapsed": true
   },
   "outputs": [],
   "source": []
  }
 ],
 "metadata": {
  "kernelspec": {
   "display_name": "Python 3",
   "language": "python",
   "name": "python3"
  },
  "language_info": {
   "codemirror_mode": {
    "name": "ipython",
    "version": 3
   },
   "file_extension": ".py",
   "mimetype": "text/x-python",
   "name": "python",
   "nbconvert_exporter": "python",
   "pygments_lexer": "ipython3",
   "version": "3.6.1"
  },
  "toc": {
   "nav_menu": {},
   "number_sections": true,
   "sideBar": true,
   "skip_h1_title": false,
   "toc_cell": false,
   "toc_position": {},
   "toc_section_display": "block",
   "toc_window_display": false
  },
  "varInspector": {
   "cols": {
    "lenName": 16,
    "lenType": 16,
    "lenVar": 40
   },
   "kernels_config": {
    "python": {
     "delete_cmd_postfix": "",
     "delete_cmd_prefix": "del ",
     "library": "var_list.py",
     "varRefreshCmd": "print(var_dic_list())"
    },
    "r": {
     "delete_cmd_postfix": ") ",
     "delete_cmd_prefix": "rm(",
     "library": "var_list.r",
     "varRefreshCmd": "cat(var_dic_list()) "
    }
   },
   "types_to_exclude": [
    "module",
    "function",
    "builtin_function_or_method",
    "instance",
    "_Feature"
   ],
   "window_display": false
  }
 },
 "nbformat": 4,
 "nbformat_minor": 2
}
