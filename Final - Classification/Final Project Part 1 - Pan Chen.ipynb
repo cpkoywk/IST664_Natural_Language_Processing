{
 "cells": [
  {
   "cell_type": "markdown",
   "metadata": {},
   "source": [
    "# Simple Sentiment Classification \n"
   ]
  },
  {
   "cell_type": "code",
   "execution_count": 38,
   "metadata": {
    "collapsed": true
   },
   "outputs": [],
   "source": [
    "## Sentiment Classification on Sentences from the Movie Reviews\n",
    "## import some packages\n",
    "import nltk\n",
    "from nltk.corpus import sentence_polarity\n",
    "import random\n",
    "import numpy as np\n",
    "import liwc"
   ]
  },
  {
   "cell_type": "code",
   "execution_count": 39,
   "metadata": {
    "collapsed": true
   },
   "outputs": [],
   "source": [
    "# get the sentence corpus and look at some sentences, sentences are already tokenized\n",
    "sentences = sentence_polarity.sents()"
   ]
  },
  {
   "cell_type": "code",
   "execution_count": 40,
   "metadata": {},
   "outputs": [
    {
     "name": "stdout",
     "output_type": "stream",
     "text": [
      "5331\n",
      "5331\n"
     ]
    }
   ],
   "source": [
    "# look at the sentences by category to see how many positive and negative\n",
    "pos_sents = sentence_polarity.sents(categories='pos')\n",
    "print(len(pos_sents))\n",
    "neg_sents = sentence_polarity.sents(categories='neg')\n",
    "print(len(neg_sents))"
   ]
  },
  {
   "cell_type": "code",
   "execution_count": 41,
   "metadata": {
    "collapsed": true
   },
   "outputs": [],
   "source": [
    "## setup the movie reviews sentences for classification\n",
    "# create a list of documents, each document is one sentence as a list of words paired with category\n",
    "documents = [(sent, cat) for cat in sentence_polarity.categories() \n",
    "\tfor sent in sentence_polarity.sents(categories=cat)]\n",
    "\n",
    "#each item of documents is a tuple (list of tokens, neg/pos)"
   ]
  },
  {
   "cell_type": "code",
   "execution_count": 42,
   "metadata": {},
   "outputs": [
    {
     "name": "stdout",
     "output_type": "stream",
     "text": [
      "['.', 'the', ',', 'a', 'and', 'of', 'to', 'is', 'in', 'that', 'it', 'as', 'but', 'with', 'film', 'this', 'for', 'its', 'an', 'movie', \"it's\", 'be', 'on', 'you', 'not', 'by', 'about', 'more', 'one', 'like', 'has', 'are', 'at', 'from', 'than', '\"', 'all', '--', 'his', 'have', 'so', 'if', 'or', 'story', 'i', 'too', 'just', 'who', 'into', 'what']\n"
     ]
    }
   ],
   "source": [
    "# get all words from all movie_reviews and put into a frequency distribution\n",
    "#  note lowercase, but no stemming or stopwords\n",
    "all_words_list = [word for (sent,cat) in documents for word in sent]\n",
    "all_words = nltk.FreqDist(all_words_list)\n",
    "# get the 2000 most frequently appearing keywords in the corpus\n",
    "word_items = all_words.most_common(2000)\n",
    "word_features = [word for (word,count) in word_items]\n",
    "#word_features=[word for (word,count) in all_words]\n",
    "print(word_features[0:50])\n",
    "#print(word_items[0:50])"
   ]
  },
  {
   "cell_type": "markdown",
   "metadata": {},
   "source": [
    "## Unigram Featureset (baseline)\n",
    "Now we can define the features for each document, using just the words, sometimes\n",
    "called the BOW or unigram features. The feature label will be ‘contains(keyword)’\n",
    "for each keyword (aka word) in the word_features set, and the value of the feature\n",
    "will be Boolean, according to whether the word is contained in that document.\n"
   ]
  },
  {
   "cell_type": "code",
   "execution_count": 43,
   "metadata": {
    "collapsed": true
   },
   "outputs": [],
   "source": [
    "# define features (keywords) of a document for a BOW/unigram baseline\n",
    "# each feature is 'contains(keyword)' and is true or false depending\n",
    "# on whether that keyword is in the document\n",
    "def document_features(document, word_features):\n",
    "    document_words = set(document)\n",
    "    features = {}\n",
    "    for word in word_features:\n",
    "        features['contains({})'.format(word)] = (word in document_words)\n",
    "    return features"
   ]
  },
  {
   "cell_type": "code",
   "execution_count": 44,
   "metadata": {
    "collapsed": true
   },
   "outputs": [],
   "source": [
    "# get features sets for a document, including keyword features and category feature\n",
    "featuresets = [(document_features(d, word_features), c) for (d, c) in documents]\n",
    "# the feature sets are 2000 words long so you may not want to look at one\n",
    "#featuresets[0]\n"
   ]
  },
  {
   "cell_type": "markdown",
   "metadata": {},
   "source": [
    "### Cross validation"
   ]
  },
  {
   "cell_type": "code",
   "execution_count": 12,
   "metadata": {
    "collapsed": true
   },
   "outputs": [],
   "source": [
    "## cross-validation\n",
    "# this function takes the number of folds, the feature sets\n",
    "# it iterates over the folds, using different sections for training and testing in turn\n",
    "#   it prints the accuracy for each fold and the average accuracy at the end\n",
    "def cross_validation_accuracy(num_folds, featuresets):\n",
    "    subset_size = int(len(featuresets)/num_folds)\n",
    "    accuracy_list = []\n",
    "    # iterate over the folds\n",
    "    for i in range(num_folds):\n",
    "        test_this_round = featuresets[(i*subset_size):][:subset_size]\n",
    "        train_this_round = featuresets[:(i*subset_size)] + featuresets[((i+1)*subset_size):]\n",
    "        # train using train_this_round\n",
    "        classifier = nltk.NaiveBayesClassifier.train(train_this_round)\n",
    "        # evaluate against test_this_round and save accuracy\n",
    "        accuracy_this_round = nltk.classify.accuracy(classifier, test_this_round)\n",
    "        print (i, accuracy_this_round)\n",
    "        accuracy_list.append(accuracy_this_round)\n",
    "    # find mean accuracy over all rounds\n",
    "    print ('mean accuracy', sum(accuracy_list) / num_folds)"
   ]
  },
  {
   "cell_type": "code",
   "execution_count": 53,
   "metadata": {},
   "outputs": [
    {
     "name": "stdout",
     "output_type": "stream",
     "text": [
      "0 0.7514071294559099\n",
      "1 0.75\n",
      "2 0.7420262664165104\n",
      "3 0.7434333958724203\n",
      "4 0.7424953095684803\n",
      "mean accuracy 0.7458724202626641\n"
     ]
    }
   ],
   "source": [
    "# training using naive Baysian classifier, training set is approximately 90% of data\n",
    "random.shuffle(featuresets)\n",
    "train_set, test_set = featuresets[1000:], featuresets[:1000]\n",
    "cross_validation_accuracy(5,featuresets)"
   ]
  },
  {
   "cell_type": "code",
   "execution_count": 45,
   "metadata": {},
   "outputs": [
    {
     "name": "stdout",
     "output_type": "stream",
     "text": [
      "0 0.75093808630394\n",
      "1 0.7415572232645403\n",
      "2 0.75\n",
      "3 0.7471857410881801\n",
      "4 0.7415572232645403\n",
      "mean accuracy 0.7462476547842402\n"
     ]
    }
   ],
   "source": [
    "random.shuffle(featuresets)\n",
    "train_set, test_set = featuresets[1000:], featuresets[:1000]\n",
    "cross_validation_accuracy(5,featuresets)"
   ]
  },
  {
   "cell_type": "code",
   "execution_count": 46,
   "metadata": {},
   "outputs": [
    {
     "name": "stdout",
     "output_type": "stream",
     "text": [
      "0 0.7307692307692307\n",
      "1 0.7406191369606003\n",
      "2 0.7645403377110694\n",
      "3 0.7528142589118199\n",
      "4 0.7495309568480301\n",
      "mean accuracy 0.7476547842401502\n"
     ]
    }
   ],
   "source": [
    "random.shuffle(featuresets)\n",
    "train_set, test_set = featuresets[1000:], featuresets[:1000]\n",
    "cross_validation_accuracy(5,featuresets)"
   ]
  },
  {
   "cell_type": "markdown",
   "metadata": {},
   "source": []
  },
  {
   "cell_type": "code",
   "execution_count": 56,
   "metadata": {},
   "outputs": [
    {
     "data": {
      "text/plain": [
       "0.7465916197623516"
      ]
     },
     "execution_count": 56,
     "metadata": {},
     "output_type": "execute_result"
    }
   ],
   "source": [
    "(0.7458724202626641+0.7462476547842402+0.7476547842401502)/3"
   ]
  },
  {
   "cell_type": "markdown",
   "metadata": {},
   "source": [
    "## Bigrams + unigram Features"
   ]
  },
  {
   "cell_type": "code",
   "execution_count": 8,
   "metadata": {},
   "outputs": [
    {
     "name": "stdout",
     "output_type": "stream",
     "text": [
      "['simplistic', ',', 'silly', 'and', 'tedious', '.', \"it's\", 'so', 'laddish', 'and', 'juvenile', ',', 'only', 'teenage', 'boys', 'could', 'possibly', 'find', 'it', 'funny', '.', 'exploitative', 'and', 'largely', 'devoid', 'of', 'the', 'depth', 'or', 'sophistication', 'that', 'would', 'make', 'watching', 'such', 'a', 'graphic', 'treatment', 'of', 'the', 'crimes', 'bearable', '.', '[garbus]', 'discards', 'the', 'potential', 'for', 'pathological', 'study']\n",
      "[('.', '.'), ('.', 'the'), ('.', 'a'), ('of', 'the'), (',', 'but'), (',', 'and'), ('in', 'the'), ('the', 'film'), ('is', 'a'), ('.', \"it's\"), (',', 'the'), ('of', 'a'), ('to', 'the'), ('and', 'the'), ('to', 'be'), ('the', 'movie'), ('.', 'this'), ('.', 'it'), ('for', 'the'), ('it', 'is'), ('with', 'a'), ('.', 'an'), ('as', 'a'), ('in', 'a'), ('on', 'the'), ('one', 'of'), ('and', 'a'), ('this', 'is'), ('a', 'movie'), (\"it's\", 'a'), (',', 'it'), ('.', 'if'), ('with', 'the'), ('film', 'is'), ('like', 'a'), ('it', '.'), (',', 'a'), ('for', 'a'), ('the', 'most'), ('.', 'but'), ('but', 'it'), ('film', '.'), ('of', 'its'), ('movie', '.'), (',', \"it's\"), ('.', 'i'), (',', 'this'), ('a', 'film'), ('as', 'the'), ('from', 'the')]\n"
     ]
    }
   ],
   "source": [
    "#adding Bigram features\n",
    "#set up for using bigrams\n",
    "from nltk.collocations import *\n",
    "bigram_measures = nltk.collocations.BigramAssocMeasures()\n",
    "# create the bigram finder on all the words in sequence\n",
    "print(all_words_list[:50])\n",
    "finder = BigramCollocationFinder.from_words(all_words_list)\n",
    "# define the top 500 bigrams using the chi squared measure\n",
    "bigram_features = finder.nbest(bigram_measures.raw_freq, 500)\n",
    "print(bigram_features[:50])\n",
    "# examples to demonstrate the bigram feature function definition\n",
    "#sent = ['Arthur','carefully','rode','the','brown','horse','around','the','castle']\n",
    "#sentbigrams = list(nltk.bigrams(sent))\n",
    "#print(sentbigrams)\n",
    "# for a single bigram, test if it's in the sentence bigrams and format the feature name\n",
    "#bigram = ('brown','horse')\n",
    "#print(bigram in sentbigrams)\n",
    "#print('bigram({} {})'.format(bigram[0], bigram[1]))"
   ]
  },
  {
   "cell_type": "code",
   "execution_count": 10,
   "metadata": {},
   "outputs": [
    {
     "data": {
      "text/plain": [
       "2500"
      ]
     },
     "execution_count": 10,
     "metadata": {},
     "output_type": "execute_result"
    }
   ],
   "source": [
    "# define features that include words as before \n",
    "# add the most frequent significant bigrams\n",
    "# this function takes the list of words in a document as an argument and returns a feature dictionary\n",
    "# it depends on the variables word_features and bigram_features\n",
    "def bigram_document_features(document, word_features, bigram_features):\n",
    "    document_words = set(document)\n",
    "    document_bigrams = nltk.bigrams(document)\n",
    "    features = {}\n",
    "    for word in word_features:\n",
    "        features['contains({})'.format(word)] = (word in document_words)\n",
    "    for bigram in bigram_features:\n",
    "        features['bigram({} {})'.format(bigram[0], bigram[1])] = (bigram in document_bigrams)    \n",
    "    return features\n",
    "\n",
    "# use this function to create feature sets for all sentences\n",
    "bigram_featuresets = [(bigram_document_features(d, word_features, bigram_features), c) for (d, c) in documents]\n",
    "#There should be 2500 features: 2000 word features and 500 bigram features\n",
    "len(bigram_featuresets[0][0].keys())"
   ]
  },
  {
   "cell_type": "code",
   "execution_count": 32,
   "metadata": {},
   "outputs": [
    {
     "data": {
      "text/plain": [
       "10662"
      ]
     },
     "execution_count": 32,
     "metadata": {},
     "output_type": "execute_result"
    }
   ],
   "source": [
    "len(bigram_featuresets)"
   ]
  },
  {
   "cell_type": "markdown",
   "metadata": {},
   "source": [
    "### Cross-Validation"
   ]
  },
  {
   "cell_type": "code",
   "execution_count": 13,
   "metadata": {},
   "outputs": [
    {
     "name": "stdout",
     "output_type": "stream",
     "text": [
      "0 0.7467166979362101\n",
      "1 0.74906191369606\n",
      "2 0.7401500938086304\n",
      "3 0.74906191369606\n",
      "4 0.7560975609756098\n",
      "mean accuracy 0.7482176360225141\n"
     ]
    }
   ],
   "source": [
    "# train a classifier and report accuracy\n",
    "random.shuffle(bigram_featuresets)\n",
    "train_set, test_set = bigram_featuresets[1000:], bigram_featuresets[:1000]\n",
    "# perform the cross-validation on the featuresets with word features and generate accuracy\n",
    "cross_validation_accuracy(5, bigram_featuresets)"
   ]
  },
  {
   "cell_type": "code",
   "execution_count": 14,
   "metadata": {},
   "outputs": [
    {
     "name": "stdout",
     "output_type": "stream",
     "text": [
      "0 0.7462476547842402\n",
      "1 0.7406191369606003\n",
      "2 0.7363977485928705\n",
      "3 0.7410881801125704\n",
      "4 0.7485928705440901\n",
      "mean accuracy 0.7425891181988743\n"
     ]
    }
   ],
   "source": [
    "random.shuffle(bigram_featuresets)\n",
    "train_set, test_set = bigram_featuresets[1000:], bigram_featuresets[:1000]\n",
    "cross_validation_accuracy(5, bigram_featuresets)"
   ]
  },
  {
   "cell_type": "code",
   "execution_count": 15,
   "metadata": {},
   "outputs": [
    {
     "name": "stdout",
     "output_type": "stream",
     "text": [
      "0 0.7293621013133208\n",
      "1 0.7457786116322702\n",
      "2 0.7626641651031895\n",
      "3 0.7542213883677298\n",
      "4 0.74812382739212\n",
      "mean accuracy 0.748030018761726\n"
     ]
    }
   ],
   "source": [
    "random.shuffle(bigram_featuresets)\n",
    "train_set, test_set = bigram_featuresets[1000:], bigram_featuresets[:1000]\n",
    "cross_validation_accuracy(5, bigram_featuresets)"
   ]
  },
  {
   "cell_type": "code",
   "execution_count": 50,
   "metadata": {},
   "outputs": [
    {
     "data": {
      "text/plain": [
       "0.7462789243277048"
      ]
     },
     "execution_count": 50,
     "metadata": {},
     "output_type": "execute_result"
    }
   ],
   "source": [
    "(0.7482176360225141+0.7425891181988743+0.748030018761726)/3"
   ]
  },
  {
   "cell_type": "markdown",
   "metadata": {},
   "source": [
    "##  POS features+ Bigram features + unigram features"
   ]
  },
  {
   "cell_type": "code",
   "execution_count": 16,
   "metadata": {},
   "outputs": [
    {
     "data": {
      "text/plain": [
       "2504"
      ]
     },
     "execution_count": 16,
     "metadata": {},
     "output_type": "execute_result"
    }
   ],
   "source": [
    "###  POS (part-of-speech) tag counts\n",
    "# this function takes a document list of words and returns a feature dictionary\n",
    "# it runs the default pos tagger (the Stanford tagger) on the document\n",
    "#   and counts 4 types of pos tags to use as features\n",
    "def POS_features(document, word_features, bigram_features):\n",
    "    document_words = set(document)\n",
    "    tagged_words = nltk.pos_tag(document)\n",
    "    document_bigrams = nltk.bigrams(document)\n",
    "    features = {}\n",
    "    for word in word_features:\n",
    "        features['contains({})'.format(word)] = (word in document_words)\n",
    "    for bigram in bigram_features:\n",
    "        features['bigram({} {})'.format(bigram[0], bigram[1])] = (bigram in document_bigrams) \n",
    "    numNoun = 0\n",
    "    numVerb = 0\n",
    "    numAdj = 0\n",
    "    numAdverb = 0\n",
    "    for (word, tag) in tagged_words:\n",
    "        if tag.startswith('N'): numNoun += 1\n",
    "        if tag.startswith('V'): numVerb += 1\n",
    "        if tag.startswith('J'): numAdj += 1\n",
    "        if tag.startswith('R'): numAdverb += 1\n",
    "    features['nouns'] = numNoun\n",
    "    features['verbs'] = numVerb\n",
    "    features['adjectives'] = numAdj\n",
    "    features['adverbs'] = numAdverb\n",
    "    return features\n",
    "\n",
    "# define feature sets using this function\n",
    "POS_featuresets = [(POS_features(d, word_features,bigram_features), c) for (d, c) in documents]\n",
    "\n",
    "# number of features for document 0\n",
    "len(POS_featuresets[0][0].keys())"
   ]
  },
  {
   "cell_type": "code",
   "execution_count": 21,
   "metadata": {},
   "outputs": [
    {
     "name": "stdout",
     "output_type": "stream",
     "text": [
      "(['simplistic', ',', 'silly', 'and', 'tedious', '.'], 'neg')\n"
     ]
    }
   ],
   "source": [
    "print(documents[0])"
   ]
  },
  {
   "cell_type": "code",
   "execution_count": 23,
   "metadata": {},
   "outputs": [
    {
     "name": "stdout",
     "output_type": "stream",
     "text": [
      "num nouns 0\n",
      "num verbs 0\n",
      "num adjectives 2\n",
      "num adverbs 1\n"
     ]
    }
   ],
   "source": [
    "print('num nouns', POS_featuresets[0][0]['nouns'])\n",
    "print('num verbs', POS_featuresets[0][0]['verbs'])\n",
    "print('num adjectives', POS_featuresets[0][0]['adjectives'])\n",
    "print('num adverbs', POS_featuresets[0][0]['adverbs'])"
   ]
  },
  {
   "cell_type": "code",
   "execution_count": 34,
   "metadata": {},
   "outputs": [
    {
     "data": {
      "text/plain": [
       "10662"
      ]
     },
     "execution_count": 34,
     "metadata": {},
     "output_type": "execute_result"
    }
   ],
   "source": [
    "len(POS_featuresets)"
   ]
  },
  {
   "cell_type": "markdown",
   "metadata": {},
   "source": [
    "### Cross-Validation"
   ]
  },
  {
   "cell_type": "code",
   "execution_count": 24,
   "metadata": {},
   "outputs": [
    {
     "name": "stdout",
     "output_type": "stream",
     "text": [
      "0 0.7476547842401501\n",
      "1 0.7420262664165104\n",
      "2 0.7424953095684803\n",
      "3 0.7471857410881801\n",
      "4 0.724202626641651\n",
      "mean accuracy 0.7407129455909944\n"
     ]
    }
   ],
   "source": [
    "# perform the cross-validation on the featuresets with word features and generate accuracy\n",
    "random.shuffle(POS_featuresets)\n",
    "train_set, test_set = POS_featuresets[1000:], POS_featuresets[:1000]\n",
    "cross_validation_accuracy(5, POS_featuresets)"
   ]
  },
  {
   "cell_type": "code",
   "execution_count": 105,
   "metadata": {},
   "outputs": [
    {
     "name": "stdout",
     "output_type": "stream",
     "text": [
      "0 0.7467166979362101\n",
      "1 0.7476547842401501\n",
      "2 0.7303001876172608\n",
      "3 0.7424953095684803\n",
      "4 0.74812382739212\n",
      "mean accuracy 0.7430581613508442\n"
     ]
    }
   ],
   "source": [
    "random.shuffle(POS_featuresets)\n",
    "train_set, test_set = POS_featuresets[1000:], POS_featuresets[:1000]\n",
    "cross_validation_accuracy(5, POS_featuresets)"
   ]
  },
  {
   "cell_type": "code",
   "execution_count": 106,
   "metadata": {},
   "outputs": [
    {
     "name": "stdout",
     "output_type": "stream",
     "text": [
      "0 0.7359287054409006\n",
      "1 0.7514071294559099\n",
      "2 0.7565666041275797\n",
      "3 0.7387429643527205\n",
      "4 0.7326454033771107\n",
      "mean accuracy 0.7430581613508443\n"
     ]
    }
   ],
   "source": [
    "random.shuffle(POS_featuresets)\n",
    "train_set, test_set = POS_featuresets[1000:], POS_featuresets[:1000]\n",
    "cross_validation_accuracy(5, POS_featuresets)"
   ]
  },
  {
   "cell_type": "code",
   "execution_count": 51,
   "metadata": {},
   "outputs": [
    {
     "data": {
      "text/plain": [
       "0.7422764227642277"
      ]
     },
     "execution_count": 51,
     "metadata": {},
     "output_type": "execute_result"
    }
   ],
   "source": [
    "(0.7407129455909944+0.7430581613508442+0.7430581613508443)/3"
   ]
  },
  {
   "cell_type": "markdown",
   "metadata": {},
   "source": [
    "## liwc \n"
   ]
  },
  {
   "cell_type": "code",
   "execution_count": 25,
   "metadata": {},
   "outputs": [
    {
     "name": "stdout",
     "output_type": "stream",
     "text": [
      "10662\n",
      "{'contains(.)': True, 'contains(the)': False, 'contains(,)': True, 'contains(a)': False, 'contains(and)': True, 'contains(of)': False, 'contains(to)': False, 'contains(is)': False, 'contains(in)': False, 'contains(that)': False, 'contains(it)': True, 'contains(as)': False, 'contains(but)': False, 'contains(with)': False, 'contains(film)': False, 'contains(this)': False, 'contains(for)': False, 'contains(its)': False, 'contains(an)': False, 'contains(movie)': False, \"contains(it's)\": True, 'contains(be)': False, 'contains(on)': False, 'contains(you)': False, 'contains(not)': False, 'contains(by)': False, 'contains(about)': False, 'contains(more)': False, 'contains(one)': False, 'contains(like)': False, 'contains(has)': False, 'contains(are)': False, 'contains(at)': False, 'contains(from)': False, 'contains(than)': False, 'contains(\")': False, 'contains(all)': False, 'contains(--)': False, 'contains(his)': False, 'contains(have)': False, 'contains(so)': True, 'contains(if)': False, 'contains(or)': False, 'contains(story)': False, 'contains(i)': False, 'contains(too)': False, 'contains(just)': False, 'contains(who)': False, 'contains(into)': False, 'contains(what)': False, 'contains(most)': False, 'contains(out)': False, 'contains(no)': False, 'contains(much)': False, 'contains(even)': False, 'contains(good)': False, 'contains(up)': False, 'contains(will)': False, 'contains(comedy)': False, 'contains(time)': False, 'contains(can)': False, 'contains(some)': False, 'contains(characters)': False, 'contains(only)': True, 'contains(little)': False, 'contains(way)': False, 'contains(their)': False, 'contains(funny)': True, 'contains(make)': False, 'contains(enough)': False, 'contains(been)': False, 'contains(very)': False, 'contains(your)': False, 'contains(never)': False, 'contains(when)': False, 'contains(makes)': False, 'contains(there)': False, 'contains(may)': False, 'contains(us)': False, 'contains(which)': False, 'contains(work)': False, 'contains(best)': False, 'contains(he)': False, 'contains(bad)': False, 'contains(director)': False, \"contains(doesn't)\": False, 'contains())': False, 'contains(any)': False, 'contains(?)': False, 'contains(()': False, 'contains(love)': False, 'contains(would)': False, 'contains(life)': False, 'contains(they)': False, 'contains(while)': False, 'contains(:)': False, 'contains(we)': False, 'contains(was)': False, 'contains(movies)': False, \"contains(there's)\": False, 'contains(well)': False, 'contains(new)': False, 'contains(her)': False, 'contains(through)': False, 'contains(could)': True, 'contains(something)': False, 'contains(really)': False, 'contains(how)': False, 'contains(made)': False, 'contains(them)': False, 'contains(performances)': False, 'contains(own)': False, 'contains(does)': False, \"contains(that's)\": False, 'contains(many)': False, 'contains(drama)': False, 'contains(should)': False, 'contains(those)': False, 'contains(films)': False, 'contains(plot)': False, 'contains(look)': False, \"contains(isn't)\": False, 'contains(every)': False, 'contains(see)': False, 'contains(still)': False, 'contains(two)': False, 'contains(nothing)': False, 'contains(people)': False, 'contains(better)': False, 'contains(long)': False, 'contains(without)': False, 'contains(other)': False, 'contains(fun)': False, 'contains(get)': False, 'contains(off)': False, 'contains(being)': False, 'contains(action)': False, 'contains(both)': False, 'contains(great)': False, 'contains(though)': False, 'contains(might)': False, 'contains(big)': False, \"contains(')\": False, 'contains(also)': False, 'contains(another)': False, 'contains(cast)': False, 'contains(do)': False, 'contains(humor)': False, 'contains(first)': False, 'contains(between)': False, 'contains(audience)': False, 'contains(kind)': False, 'contains(sense)': False, 'contains(such)': False, 'contains(over)': False, 'contains(ever)': False, 'contains(character)': False, \"contains(don't)\": False, 'contains(performance)': False, 'contains(feels)': False, 'contains(;)': False, 'contains(few)': False, 'contains(script)': False, 'contains(because)': False, 'contains(here)': False, \"contains(film's)\": False, 'contains(far)': False, 'contains(often)': False, 'contains(thing)': False, 'contains(seems)': False, 'contains(less)': False, 'contains(minutes)': False, 'contains(real)': False, 'contains(feel)': False, 'contains(almost)': False, 'contains(thriller)': False, 'contains(picture)': False, 'contains(tale)': False, 'contains(world)': False, \"contains(can't)\": False, 'contains(down)': False, 'contains(documentary)': False, 'contains(quite)': False, 'contains(interesting)': False, 'contains(yet)': False, 'contains(!)': False, 'contains(these)': False, 'contains(entertaining)': False, 'contains(rather)': False, \"contains(you're)\": False, 'contains(screen)': False, 'contains(my)': False, 'contains(end)': False, 'contains(itself)': False, 'contains(watching)': False, 'contains(take)': False, 'contains(seen)': False, 'contains(hollywood)': False, 'contains(full)': False, 'contains(go)': False, 'contains(ultimately)': False, 'contains(hard)': False, 'contains(heart)': False, 'contains(de)': False, 'contains(comes)': False, 'contains(romantic)': False, 'contains(moments)': False, 'contains(despite)': False, 'contains(lot)': False, 'contains(american)': False, 'contains(were)': False, 'contains(after)': False, 'contains(where)': False, 'contains(me)': False, 'contains(before)': False, 'contains(family)': False, 'contains(acting)': False, 'contains(original)': False, 'contains(had)': False, 'contains(old)': False, 'contains(then)': False, 'contains(find)': True, 'contains(right)': False, 'contains(worth)': False, 'contains(gets)': False, 'contains(human)': False, 'contains(same)': False, 'contains(takes)': False, 'contains(come)': False, 'contains(times)': False, 'contains(things)': False, 'contains(dialogue)': False, 'contains(actors)': False, 'contains(scenes)': False, 'contains(back)': False, 'contains(watch)': False, 'contains(man)': False, 'contains(our)': False, 'contains(material)': False, 'contains(compelling)': False, 'contains(young)': False, 'contains(once)': False, 'contains(music)': False, 'contains(works)': False, 'contains(years)': False, 'contains(think)': False, 'contains(emotional)': False, 'contains(seem)': False, 'contains(anyone)': False, 'contains(want)': False, 'contains(gives)': False, 'contains(know)': False, 'contains(going)': False, 'contains(least)': False, 'contains(say)': False, 'contains(part)': False, 'contains(again)': False, 'contains(sometimes)': False, 'contains(piece)': False, 'contains(cinematic)': False, 'contains(entertainment)': False, 'contains(give)': False, 'contains(subject)': False, 'contains(last)': False, 'contains(pretty)': False, 'contains(point)': False, \"contains(you'll)\": False, 'contains(kids)': False, 'contains(special)': False, 'contains(making)': False, 'contains(bit)': False, 'contains(keep)': False, 'contains(dull)': False, 'contains(why)': False, 'contains(whole)': False, 'contains(cinema)': False, 'contains(together)': False, 'contains(fascinating)': False, 'contains(fans)': False, 'contains(anything)': False, 'contains(year)': False, 'contains(moving)': False, 'contains(-)': False, 'contains(since)': False, 'contains(away)': False, 'contains(style)': False, 'contains(need)': False, 'contains(manages)': False, 'contains(true)': False, 'contains(star)': False, 'contains(laughs)': False, 'contains(show)': False, 'contains(offers)': False, 'contains(history)': False, 'contains(sweet)': False, 'contains(experience)': False, 'contains(clever)': False, 'contains(always)': False, 'contains(high)': False, 'contains(direction)': False, 'contains(simply)': False, 'contains(mr)': False, 'contains(silly)': False, 'contains(instead)': False, 'contains(dark)': False, 'contains(care)': False, 'contains(actually)': False, 'contains(him)': False, 'contains(predictable)': False, 'contains(charm)': False, 'contains(whose)': False, 'contains(nearly)': False, 'contains(everything)': False, 'contains(visual)': False, 'contains(flick)': False, 'contains(art)': False, 'contains(around)': False, 'contains(title)': False, 'contains(series)': False, 'contains(matter)': False, 'contains(place)': False, 'contains(video)': False, 'contains(comic)': False, \"contains(he's)\": False, 'contains(narrative)': False, 'contains(idea)': False, 'contains(screenplay)': False, 'contains(goes)': False, 'contains(short)': False, 'contains(trying)': False, 'contains(war)': False, 'contains(done)': False, 'contains(probably)': False, 'contains(genre)': False, 'contains(women)': False, 'contains(now)': False, 'contains(premise)': False, \"contains(movie's)\": False, 'contains(plays)': False, 'contains(familiar)': False, 'contains(under)': False, 'contains(turns)': False, 'contains(enjoyable)': False, 'contains(horror)': False, 'contains(engaging)': False, 'contains(set)': False, 'contains(she)': False, 'contains(three)': False, 'contains(becomes)': False, 'contains(although)': False, 'contains(filmmakers)': False, 'contains(lacks)': False, 'contains(home)': False, 'contains(feature)': False, 'contains(worst)': False, 'contains(feeling)': False, 'contains(smart)': False, \"contains(won't)\": False, 'contains(effects)': False, 'contains(power)': False, 'contains(enjoy)': False, 'contains(study)': False, 'contains(effort)': False, 'contains(intelligent)': False, 'contains(charming)': False, 'contains(day)': False, 'contains(half)': False, 'contains(especially)': False, 'contains(amusing)': False, 'contains(ending)': False, 'contains(strong)': False, 'contains(lack)': False, 'contains(theater)': False, 'contains(likely)': False, 'contains(boring)': False, 'contains(debut)': False, 'contains(john)': False, 'contains(men)': False, 'contains(portrait)': False, 'contains(romance)': False, 'contains(each)': False, 'contains(mostly)': False, 'contains(sort)': False, 'contains(version)': False, \"contains(what's)\": False, 'contains(certainly)': False, 'contains(else)': False, 'contains(put)': False, 'contains(beautiful)': False, 'contains(become)': False, 'contains(easy)': False, 'contains(looking)': False, 'contains(problem)': False, 'contains(message)': False, 'contains(next)': False, 'contains(beautifully)': False, \"contains(you've)\": False, 'contains(level)': False, 'contains(surprisingly)': False, 'contains(exercise)': False, 'contains(along)': False, 'contains(mind)': False, 'contains(quirky)': False, 'contains(rare)': False, 'contains(play)': False, 'contains(wit)': False, 'contains(fine)': False, 'contains(hours)': False, 'contains(lives)': False, 'contains(solid)': False, 'contains(mess)': False, 'contains(leave)': False, 'contains(fresh)': False, 'contains(looks)': False, 'contains(sure)': False, 'contains(directed)': False, 'contains(ideas)': False, 'contains(whether)': False, 'contains(face)': False, 'contains(obvious)': False, 'contains(either)': False, 'contains(interest)': False, 'contains(completely)': False, 'contains(modern)': False, 'contains(energy)': False, 'contains(french)': False, 'contains(past)': False, 'contains(powerful)': False, 'contains(melodrama)': False, 'contains(fact)': False, 'contains(viewers)': False, 'contains(reason)': False, 'contains(dramatic)': False, 'contains(neither)': False, 'contains(classic)': False, 'contains(beyond)': False, 'contains(shot)': False, 'contains(shows)': False, \"contains(didn't)\": False, 'contains(recent)': False, 'contains(fails)': False, 'contains(suspense)': False, 'contains(stuff)': False, 'contains(tone)': False, 'contains(delivers)': False, 'contains(children)': False, 'contains(filmmaking)': False, 'contains(believe)': False, 'contains(culture)': False, 'contains(slow)': False, 'contains(left)': False, \"contains(i'm)\": False, 'contains(intriguing)': False, 'contains(truly)': False, 'contains(everyone)': False, 'contains(deeply)': False, 'contains(serious)': False, 'contains(death)': False, 'contains(himself)': False, 'contains(jokes)': False, 'contains(ends)': False, 'contains(actor)': False, 'contains(tries)': False, 'contains(book)': False, 'contains(black)': False, 'contains(ride)': False, 'contains(tv)': False, 'contains(production)': False, 'contains(light)': False, 'contains(occasionally)': False, 'contains(small)': False, 'contains(touching)': False, 'contains(audiences)': False, 'contains(sad)': False, 'contains(spirit)': False, 'contains(reality)': False, 'contains(opera)': False, 'contains(remains)': False, 'contains(terrific)': False, 'contains(exactly)': False, 'contains(hilarious)': False, 'contains(formula)': False, 'contains(adventure)': False, 'contains(storytelling)': False, 'contains(satisfying)': False, 'contains(dumb)': False, 'contains(role)': False, 'contains(camera)': False, 'contains(passion)': False, 'contains(proves)': False, 'contains(already)': False, 'contains(impossible)': False, 'contains(seeing)': False, 'contains(line)': False, 'contains(nor)': False, 'contains(different)': False, 'contains(project)': False, 'contains(talent)': False, 'contains(got)': False, 'contains(images)': False, 'contains(must)': False, 'contains(filmmaker)': False, 'contains(stories)': False, 'contains(scene)': False, 'contains(girl)': False, 'contains(above)': False, 'contains(attempt)': False, 'contains(perfect)': False, 'contains(gags)': False, 'contains(personal)': False, 'contains(easily)': False, 'contains(particularly)': False, 'contains(journey)': False, 'contains(simple)': False, 'contains(honest)': False, 'contains(pretentious)': False, 'contains(against)': False, 'contains(sex)': False, 'contains(turn)': False, 'contains(complex)': False, 'contains(animation)': False, 'contains(given)': False, 'contains(pleasure)': False, 'contains(psychological)': False, 'contains(close)': False, 'contains(summer)': False, 'contains(falls)': False, 'contains(did)': False, 'contains(flat)': False, 'contains(earnest)': False, 'contains(found)': False, 'contains(intelligence)': False, 'contains(hour)': False, 'contains(case)': False, 'contains(difficult)': False, 'contains(ways)': False, 'contains(michael)': False, 'contains(visually)': False, 'contains(political)': False, 'contains(getting)': False, 'contains(leaves)': False, 'contains(thought)': False, 'contains(head)': False, 'contains(sequel)': False, 'contains(social)': False, 'contains(mystery)': False, 'contains(coming-of-age)': False, 'contains(cliches)': False, 'contains(none)': False, 'contains(que)': False, 'contains(memorable)': False, 'contains(game)': False, 'contains(tell)': False, 'contains(violence)': False, 'contains(written)': False, 'contains(crime)': False, 'contains(writing)': False, 'contains(uses)': False, 'contains(satire)': False, 'contains(laugh)': False, 'contains(rich)': False, 'contains(job)': False, 'contains(side)': False, 'contains(told)': False, 'contains(finally)': False, 'contains(overall)': False, 'contains(gone)': False, 'contains(wrong)': False, 'contains(live)': False, 'contains(keeps)': False, 'contains(brilliant)': False, 'contains(help)': False, 'contains(lost)': False, 'contains(barely)': False, 'contains(cold)': False, 'contains(needs)': False, 'contains(rarely)': False, 'contains(spy)': False, 'contains(boy)': False, 'contains(novel)': False, 'contains(otherwise)': False, 'contains(elements)': False, 'contains(second)': False, 'contains(days)': False, 'contains(contrived)': False, 'contains(cool)': False, 'contains(having)': False, 'contains(entirely)': False, 'contains(imagine)': False, 'contains(final)': False, 'contains(taste)': False, 'contains(guys)': False, 'contains(acted)': False, 'contains(o)': False, 'contains(appeal)': False, 'contains(approach)': False, 'contains(during)': False, 'contains(starts)': False, 'contains(several)': False, 'contains(nature)': False, 'contains(possible)': False, 'contains(thoughtful)': False, 'contains(concept)': False, 'contains(mood)': False, 'contains(lead)': False, 'contains(surprising)': False, 'contains(insight)': False, 'contains(fairly)': False, 'contains(y)': False, 'contains(running)': False, 'contains(creepy)': False, 'contains(moral)': False, 'contains(tragedy)': False, 'contains(wild)': False, 'contains(act)': False, 'contains(excellent)': False, 'contains(perhaps)': False, 'contains(soap)': False, 'contains(eyes)': False, 'contains(warm)': False, 'contains(wonderful)': False, 'contains(truth)': False, 'contains(tedious)': False, 'contains(emotionally)': False, 'contains(viewer)': False, 'contains(result)': False, 'contains(others)': False, 'contains(expect)': False, 'contains(behind)': False, 'contains(thoroughly)': False, 'contains(hero)': False, 'contains(among)': False, 'contains(entire)': False, \"contains(they're)\": False, 'contains(remarkable)': False, 'contains(comedies)': False, 'contains(imagination)': False, 'contains(david)': False, 'contains(adults)': False, 'contains(quality)': False, 'contains(call)': False, 'contains(attention)': False, 'contains(bring)': False, 'contains(themselves)': False, 'contains(form)': False, 'contains(engrossing)': False, 'contains(remake)': False, \"contains(i've)\": False, 'contains(moment)': False, 'contains(start)': False, 'contains(sharp)': False, 'contains(bland)': False, 'contains(perfectly)': False, 'contains(four)': False, \"contains(you'd)\": False, 'contains(tired)': False, 'contains(disney)': False, 'contains(animated)': False, 'contains(usual)': False, 'contains(teen)': False, 'contains(\\x96)': False, 'contains(add)': False, 'contains(gorgeous)': False, 'contains(rock)': False, 'contains(sci-fi)': False, 'contains(genuine)': False, 'contains(latest)': False, 'contains(adaptation)': False, 'contains(change)': False, 'contains(witty)': False, 'contains(la)': False, 'contains(nice)': False, 'contains(knows)': False, 'contains(future)': False, 'contains(quiet)': False, 'contains(strange)': False, 'contains(epic)': False, 'contains(vision)': False, 'contains(depth)': False, 'contains(points)': False, 'contains(maybe)': False, 'contains(worse)': False, 'contains(offer)': False, 'contains(plenty)': False, 'contains(dead)': False, 'contains(gentle)': False, 'contains(taking)': False, 'contains(somewhat)': False, 'contains(appealing)': False, 'contains(begins)': False, 'contains(events)': False, 'contains(effective)': False, 'contains(thanks)': False, 'contains(hope)': False, 'contains(parents)': False, 'contains(until)': False, 'contains(impressive)': False, 'contains(deep)': False, 'contains(beauty)': False, 'contains(period)': False, 'contains(wonder)': False, 'contains(worthy)': False, 'contains(merely)': False, 'contains(unfortunately)': False, 'contains(guy)': False, 'contains(stupid)': False, \"contains(year's)\": False, 'contains(hit)': False, 'contains(decent)': False, 'contains(surprise)': False, 'contains(someone)': False, 'contains(provides)': False, 'contains(however)': False, 'contains(woman)': False, 'contains(sit)': False, 'contains(try)': False, 'contains(awful)': False, 'contains(ambitious)': False, 'contains(age)': False, 'contains(clear)': False, 'contains(definitely)': False, 'contains(emotions)': False, 'contains(lots)': False, 'contains(writer-director)': False, 'contains(fantasy)': False, 'contains(straight)': False, 'contains(pure)': False, 'contains(career)': False, 'contains(air)': False, 'contains(doing)': False, 'contains(important)': False, 'contains(captures)': False, 'contains(execution)': False, 'contains(exciting)': False, 'contains(sound)': False, 'contains(subtle)': False, 'contains(robert)': False, 'contains(pictures)': False, 'contains(suffers)': False, 'contains(view)': False, 'contains(able)': False, 'contains(highly)': False, 'contains(throughout)': False, 'contains(inside)': False, 'contains(run)': False, 'contains(scary)': False, 'contains(sequences)': False, 'contains(thin)': False, 'contains(utterly)': False, 'contains(historical)': False, 'contains(pace)': False, 'contains(welcome)': False, 'contains(ugly)': False, 'contains(school)': False, 'contains(magic)': False, 'contains(ii)': False, 'contains(brings)': False, 'contains(ensemble)': False, 'contains(process)': False, 'contains(examination)': False, 'contains(coming)': False, 'contains(alone)': False, 'contains(certain)': False, 'contains(deserves)': False, 'contains(read)': False, 'contains(based)': False, 'contains(cheap)': False, 'contains(provocative)': False, 'contains(sustain)': False, 'contains(lovely)': False, 'contains(sexual)': False, 'contains(female)': False, 'contains(creative)': False, 'contains(fire)': False, 'contains(relationship)': False, 'contains(potential)': False, 'contains(except)': False, 'contains(middle)': False, 'contains(chemistry)': False, 'contains(working)': False, 'contains(low)': False, 'contains(quickly)': False, 'contains(impact)': False, 'contains(cartoon)': False, 'contains(major)': False, 'contains(words)': False, 'contains(across)': False, 'contains(memory)': False, 'contains(wants)': False, 'contains(city)': False, 'contains(used)': False, 'contains(deal)': False, 'contains(hand)': False, 'contains(question)': False, 'contains(playing)': False, 'contains(felt)': False, 'contains(cute)': False, 'contains(single)': False, 'contains(tension)': False, 'contains(use)': False, 'contains(delightful)': False, 'contains(poignant)': False, 'contains(upon)': False, 'contains(flaws)': False, 'contains(situation)': False, 'contains(sentimental)': False, 'contains(cultural)': False, 'contains(master)': False, 'contains(rest)': False, 'contains(mediocre)': False, 'contains(stand)': False, 'contains(odd)': False, 'contains(puts)': False, 'contains(unfunny)': False, 'contains(touch)': False, 'contains(loud)': False, 'contains(waste)': False, 'contains(force)': False, 'contains(2)': False, 'contains(taken)': False, 'contains(winning)': False, 'contains(yes)': False, 'contains(actress)': False, 'contains(generic)': False, 'contains(sensitive)': False, 'contains(lacking)': False, 'contains(success)': False, 'contains(murder)': False, 'contains(unexpected)': False, 'contains(bond)': False, 'contains(filled)': False, 'contains(creates)': False, 'contains(talented)': False, 'contains(flawed)': False, 'contains(convincing)': False, 'contains(ability)': False, 'contains(issues)': False, 'contains(sincere)': False, 'contains(hardly)': False, 'contains(watchable)': False, 'contains(previous)': False, 'contains(country)': False, 'contains(weird)': False, 'contains(cut)': False, 'contains(house)': False, 'contains(ultimate)': False, 'contains(dog)': False, 'contains(heavy)': False, 'contains(class)': False, 'contains(giving)': False, 'contains(hell)': False, 'contains(slight)': False, 'contains(hold)': False, 'contains(remember)': False, 'contains(mildly)': False, 'contains(formulaic)': False, 'contains(extremely)': False, 'contains(saw)': False, 'contains(era)': False, 'contains(apart)': False, 'contains(ago)': False, 'contains(supposed)': False, 'contains(eye)': False, 'contains(routine)': False, 'contains(surprises)': False, 'contains(cannot)': False, 'contains(seriously)': False, 'contains(reveals)': False, 'contains(unsettling)': False, 'contains(mark)': False, 'contains(slightly)': False, 'contains(college)': False, 'contains(melodramatic)': False, 'contains(create)': False, 'contains(relationships)': False, 'contains(*)': False, 'contains(largely)': False, 'contains(attempts)': False, 'contains(involved)': False, 'contains(e)': False, 'contains(five)': False, 'contains(joke)': False, 'contains(contemporary)': False, 'contains(thinking)': False, 'contains(trouble)': False, \"contains(aren't)\": False, 'contains(course)': False, 'contains(money)': False, 'contains(date)': False, 'contains(fully)': False, 'contains(amount)': False, 'contains(george)': False, 'contains(finds)': False, 'contains(uneven)': False, 'contains(casting)': False, 'contains(leads)': False, 'contains(road)': False, 'contains(terms)': False, 'contains(plain)': False, 'contains(indeed)': False, 'contains(crazy)': False, 'contains(steven)': False, 'contains(focus)': False, 'contains(living)': False, 'contains(thrills)': False, 'contains(forgettable)': False, 'contains(sets)': False, 'contains(twists)': False, 'contains(pop)': False, 'contains(grace)': False, 'contains(grant)': False, 'contains(artist)': False, 'contains(crush)': False, 'contains(pleasant)': False, 'contains(episode)': False, 'contains(stars)': False, 'contains(mix)': False, 'contains(ones)': False, 'contains(tragic)': False, 'contains(pacing)': False, 'contains(extreme)': False, 'contains(stylish)': False, 'contains(old-fashioned)': False, 'contains(treat)': False, 'contains(succeeds)': False, 'contains(gripping)': False, 'contains(inventive)': False, 'contains(intimate)': False, 'contains(problems)': False, 'contains(unique)': False, 'contains(themes)': False, 'contains(badly)': False, 'contains(complete)': False, 'contains(soundtrack)': False, 'contains(goofy)': False, 'contains(substance)': False, \"contains(she's)\": False, 'contains(drag)': False, 'contains(es)': False, 'contains(york)': False, 'contains(promise)': False, 'contains(poetry)': False, 'contains(involving)': False, \"contains(we've)\": False, 'contains(water)': False, 'contains(runs)': False, 'contains(yourself)': False, 'contains(happens)': False, 'contains(business)': False, 'contains(heaven)': False, 'contains(painful)': False, 'contains(couple)': False, 'contains(successful)': False, 'contains(recommend)': False, 'contains(williams)': False, 'contains(considerable)': False, 'contains(presents)': False, 'contains(absolutely)': False, 'contains(appears)': False, 'contains(friendship)': False, 'contains(colorful)': False, 'contains(missing)': False, 'contains(called)': False, 'contains(masterpiece)': False, 'contains(disturbing)': False, 'contains(happy)': False, 'contains(typical)': False, 'contains(forced)': False, 'contains(wanted)': False, 'contains(forget)': False, 'contains(evil)': False, 'contains(effect)': False, 'contains(meditation)': False, 'contains(interested)': False, 'contains(target)': False, 'contains(share)': False, 'contains(terrible)': False, 'contains(viewing)': False, 'contains(oscar)': False, 'contains(strangely)': False, 'contains(situations)': False, 'contains(equally)': False, 'contains(mean)': False, 'contains([a])': False, 'contains(parts)': False, 'contains(gay)': False, 'contains(loses)': False, 'contains(british)': False, 'contains(tom)': False, \"contains(man's)\": False, 'contains(bizarre)': False, 'contains(flicks)': False, 'contains(pieces)': False, 'contains(person)': False, \"contains(couldn't)\": False, 'contains(blend)': False, 'contains(urban)': False, 'contains(politics)': False, 'contains(somehow)': False, 'contains(bright)': False, 'contains(manner)': False, 'contains(hits)': False, 'contains(played)': False, 'contains(triumph)': False, 'contains(absorbing)': False, 'contains(soul)': False, 'contains(sentimentality)': False, 'contains(originality)': False, 'contains(skin)': False, 'contains(imax)': False, 'contains(refreshing)': False, 'contains(somewhere)': False, 'contains(name)': False, 'contains(said)': False, 'contains(clichés)': False, 'contains(please)': False, 'contains(report)': False, 'contains(90)': False, \"contains(director's)\": False, 'contains(questions)': False, 'contains(battle)': False, 'contains(lame)': False, 'contains(well-acted)': False, 'contains(el)': False, 'contains(derivative)': False, 'contains(franchise)': False, 'contains(crafted)': False, 'contains(doubt)': False, 'contains(eventually)': False, 'contains(twist)': False, 'contains(standard)': False, 'contains(television)': False, 'contains(word)': False, 'contains(understand)': False, 'contains(sophisticated)': False, 'contains(company)': False, 'contains(conflict)': False, 'contains(night)': False, 'contains(monster)': False, 'contains(tells)': False, 'contains(setting)': False, 'contains(general)': False, 'contains(depressing)': False, 'contains(average)': False, 'contains(miss)': False, 'contains(whatever)': False, 'contains(poor)': False, 'contains(sexy)': False, 'contains(frame)': False, 'contains(virtually)': False, 'contains(hate)': False, 'contains(liked)': False, 'contains(means)': False, 'contains(central)': False, 'contains(dry)': False, 'contains(stunning)': False, 'contains(painfully)': False, 'contains(fast)': False, 'contains(fan)': False, 'contains(jackson)': False, 'contains(created)': False, 'contains(dream)': False, 'contains(energetic)': False, 'contains(alive)': False, 'contains(obviously)': False, 'contains(loss)': False, 'contains(fare)': False, 'contains(haunting)': False, 'contains(grief)': False, 'contains(boys)': True, 'contains(possibly)': True, 'contains(room)': False, 'contains(footage)': False, 'contains(deliver)': False, 'contains(finish)': False, 'contains(match)': False, 'contains(faith)': False, 'contains(heavy-handed)': False, 'contains(brain)': False, 'contains(sitting)': False, 'contains(huge)': False, 'contains(una)': False, 'contains(red)': False, 'contains(fat)': False, 'contains(wedding)': False, 'contains(holds)': False, 'contains(toward)': False, 'contains(niro)': False, 'contains(inspired)': False, 'contains(girls)': False, 'contains(opportunity)': False, 'contains(atmosphere)': False, 'contains(worthwhile)': False, 'contains(genuinely)': False, 'contains(price)': False, 'contains(weak)': False, 'contains(white)': False, 'contains(japanese)': False, 'contains(blue)': False, 'contains(allows)': False, 'contains(superficial)': False, 'contains(unlike)': False, 'contains(generally)': False, 'contains(edge)': False, 'contains(break)': False, 'contains(ms)': False, 'contains(remarkably)': False, 'contains(thought-provoking)': False, 'contains(clearly)': False, 'contains(essentially)': False, 'contains(excitement)': False, 'contains(slapstick)': False, 'contains(lines)': False, 'contains(let)': False, 'contains(lets)': False, 'contains(amazing)': False, 'contains(popcorn)': False, 'contains(treasure)': False, 'contains(tough)': False, 'contains(insightful)': False, 'contains(imaginative)': False, 'contains(vivid)': False, 'contains(conventional)': False, 'contains(refreshingly)': False, 'contains(places)': False, 'contains(affecting)': False, 'contains(warmth)': False, 'contains(riveting)': False, 'contains(simplistic)': False, 'contains(treatment)': False, \"contains(hasn't)\": False, 'contains(crowd)': False, 'contains(shallow)': False, 'contains(trip)': False, 'contains(large)': False, \"contains(we're)\": False, 'contains(pay)': False, 'contains(ice)': False, 'contains(filmed)': False, 'contains(2002)': False, 'contains(affair)': False, 'contains(green)': False, 'contains(murphy)': False, 'contains(core)': False, 'contains(powers)': False, 'contains(wildly)': False, 'contains(believable)': False, 'contains(balance)': False, 'contains(spielberg)': False, 'contains(peter)': False, 'contains(usually)': False, 'contains(needed)': False, 'contains(damned)': False, 'contains(wait)': False, 'contains(wish)': False, 'contains(guilty)': False, 'contains(fit)': False, 'contains(kid)': False, 'contains(purpose)': False, 'contains(car)': False, 'contains(spectacle)': False, 'contains(particular)': False, 'contains(aside)': False, 'contains(lazy)': False, 'contains(x)': False, 'contains(s)': False, 'contains(writer)': False, 'contains(slice)': False, 'contains(within)': False, 'contains(fiction)': False, 'contains(unusual)': False, 'contains(charisma)': False, 'contains(humanity)': False, 'contains(equivalent)': False, 'contains(efforts)': False, 'contains(heartfelt)': False, 'contains(america)': False, 'contains(minor)': False, 'contains(intended)': False, 'contains(delicate)': False, 'contains(devoid)': False, \"contains(i'd)\": False, 'contains(stale)': False, 'contains(vehicle)': False, 'contains(party)': False, 'contains(sports)': False, 'contains(revenge)': False, 'contains(editing)': False, 'contains(spiritual)': False, 'contains(empty)': False, 'contains(bears)': False, 'contains(festival)': False, 'contains(directors)': False, 'contains(space)': False, 'contains(telling)': False, 'contains(mesmerizing)': False, 'contains(sequence)': False, \"contains(wouldn't)\": False, 'contains(offering)': False, 'contains(fear)': False, 'contains(talk)': False, 'contains(spectacular)': False, 'contains(longer)': False, 'contains(poorly)': False, 'contains(combination)': False, 'contains(ridiculous)': False, 'contains(score)': False, 'contains(promising)': False, 'contains(motion)': False, 'contains(theme)': False, 'contains(sum)': False, 'contains(sea)': False, 'contains(directorial)': False, 'contains(decades)': False, 'contains(universal)': False, 'contains(gangster)': False, 'contains(sounds)': False, \"contains(wasn't)\": False, 'contains(detail)': False, 'contains(open)': False, 'contains(mindless)': False, 'contains(funnier)': False, 'contains(figure)': False, \"contains(who's)\": False, 'contains(greatest)': False, 'contains(meaning)': False, 'contains(dreams)': False, 'contains(indie)': False, 'contains(stay)': False, 'contains(skill)': False, 'contains(credits)': False, 'contains(quietly)': False, 'contains(fashion)': False, 'contains(extraordinary)': False, 'contains(further)': False, 'contains(wife)': False, 'contains(god)': False, 'contains(deeper)': False, 'contains(exhilarating)': False, 'contains(natural)': False, 'contains(deftly)': False, 'contains(delight)': False, 'contains(realistic)': False, 'contains(crimes)': False, 'contains(count)': False, 'contains(farce)': False, 'contains(\\x97)': False, 'contains(results)': False, 'contains(poetic)': False, 'contains(shots)': False, 'contains(roger)': False, 'contains(desire)': False, 'contains(pointless)': False, 'contains(oddly)': False, 'contains(j)': False, 'contains(credit)': False, 'contains(members)': False, 'contains(value)': False, 'contains(avoid)': False, 'contains(chase)': False, 'contains(move)': False, 'contains(behavior)': False, 'contains(win)': False, 'contains(stunts)': False, 'contains(kevin)': False, 'contains(century)': False, 'contains(affection)': False, 'contains(dreary)': False, 'contains(reading)': False, 'contains(strength)': False, 'contains(society)': False, 'contains(cinematography)': False, 'contains(turned)': False, 'contains(free)': False, 'contains(martin)': False, 'contains(repetitive)': False, 'contains(consider)': False, \"contains(haven't)\": False, 'contains(justice)': False, 'contains(visuals)': False, 'contains(expected)': False, 'contains(public)': False, 'contains(sight)': False, 'contains(allen)': False, 'contains(irritating)': False, 'contains(paced)': False, 'contains(endearing)': False, 'contains(talking)': False, 'contains(achieves)': False, 'contains(release)': False, 'contains(disguise)': False, 'contains(blade)': False, 'contains(represents)': False, 'contains(number)': False, 'contains(striking)': False, 'contains(holes)': False, 'contains(king)': False, 'contains(manipulative)': False, 'contains(identity)': False, 'contains(frequently)': False, 'contains(profound)': False, 'contains(exploration)': False, 'contains(complicated)': False, 'contains(daring)': False, 'contains(awkward)': False, 'contains(values)': False, 'contains(performers)': False, 'contains(10)': False, 'contains(generation)': False, 'contains(shame)': False, 'contains(surface)': False, 'contains(provide)': False, 'contains(overly)': False, 'contains(development)': False, 'contains(gross-out)': False, 'contains(intense)': False, 'contains(stage)': False, 'contains(constructed)': False, 'contains(accessible)': False, 'contains(james)': False, 'contains(pleasures)': False, 'contains(perspective)': False, 'contains(prove)': False, 'contains(gem)': False, 'contains(numbers)': False, 'contains(frustrating)': False, 'contains(courage)': False, 'contains(top)': False, 'contains(trifle)': False, 'contains(buy)': False, 'contains(tiresome)': False, 'contains(failure)': False, 'contains(waiting)': False, 'contains(happen)': False, 'contains(tribute)': False, 'contains(produced)': False, 'contains(adam)': False, 'contains(clumsy)': False, 'contains(offensive)': False, 'contains(incredibly)': False, 'contains(shake)': False, 'contains(intentions)': False, 'contains(ground)': False, 'contains(predecessor)': False, 'contains(beat)': False, \"contains(story's)\": False, 'contains(voice)': False, 'contains(yarn)': False, 'contains(machine)': False, 'contains(save)': False, 'contains(wise)': False, 'contains(struggle)': False, 'contains(using)': False, 'contains(hackneyed)': False, 'contains(emerges)': False, 'contains(presence)': False, 'contains(glimpse)': False, 'contains(walk)': False, 'contains(killer)': False, 'contains(weight)': False, 'contains(friday)': False, 'contains(designed)': False, 'contains(songs)': False, 'contains(delivered)': False, 'contains(subjects)': False, 'contains(giant)': False, 'contains(hot)': False, 'contains(friends)': False, 'contains(ghost)': False, 'contains(blood)': False, 'contains(nowhere)': False, 'contains(concerned)': False, 'contains(enjoyed)': False, 'contains(levels)': False, 'contains(thinks)': False, 'contains(musical)': False, 'contains(main)': False, 'contains(fears)': False, 'contains(overcome)': False, 'contains(bits)': False, 'contains(commercial)': False, 'contains(damn)': False, 'contains(diverting)': False, 'contains(admirable)': False, 'contains(return)': False, 'contains(necessary)': False, 'contains(attraction)': False, 'contains(unless)': False, 'contains(nicely)': False, 'contains(moviemaking)': False, 'contains(stands)': False, 'contains(games)': False, 'contains(chilling)': False, 'contains(intrigue)': False, 'contains(nonsense)': False, 'contains(structure)': False, 'contains(example)': False, 'contains(del)': False, 'contains(follow)': False, 'contains(folks)': False, 'contains(artistic)': False, 'contains(group)': False, 'contains(imagery)': False, 'contains(raw)': False, 'contains(determined)': False, 'contains(ring)': False, 'contains(community)': False, 'contains(beneath)': False, 'contains(screenwriter)': False, 'contains(serves)': False, 'contains(brown)': False, 'contains(um)': False, 'contains(pulls)': False, 'contains(loved)': False, 'contains(chance)': False, 'contains(marks)': False, 'contains(ages)': False, 'contains(challenging)': False, 'contains(stock)': False, 'contains(excuse)': False, 'contains(vs)': False, 'contains(annoying)': False, 'contains(desperate)': False, 'contains(reach)': False, 'contains(studio)': False, 'contains(deserve)': False, 'contains(present)': False, 'contains(standards)': False, 'contains(humorous)': False, 'contains(team)': False, 'contains(queen)': False, 'contains(budget)': False, 'contains(eight)': False, 'contains(twice)': False, 'contains(funniest)': False, 'contains(mike)': False, 'contains(mainstream)': False, 'contains(parker)': False, 'contains(sheer)': False, 'contains(sappy)': False, 'contains(b-movie)': False, 'contains(seat)': False, 'contains(winds)': False, 'contains(meandering)': False, 'contains(type)': False, \"contains(characters')\": False, 'contains(spend)': False, 'contains(cause)': False, 'contains(first-time)': False, 'contains(jones)': False, 'contains(flair)': False, 'contains(talents)': False, 'contains(unpleasant)': False, 'contains(emotion)': False, 'contains(comedic)': False, 'contains(grows)': False, 'contains(today)': False, 'contains(monty)': False, 'contains(national)': False, 'contains(adolescent)': False, 'contains(adult)': False, 'contains(fair)': False, 'contains(superior)': False, 'contains(hip-hop)': False, 'contains(un)': False, 'contains(apparently)': False, 'contains(maudlin)': False, 'contains(bore)': False, 'contains(authentic)': False, 'contains(inspiring)': False, 'contains(favor)': False, 'contains(delivery)': False, 'contains(bunch)': False, 'contains(body)': False, 'contains(dance)': False, \"contains(i'll)\": False, 'contains(chris)': False, 'contains(well-made)': False, 'contains(search)': False, \"contains('the)\": False, 'contains(damage)': False, 'contains(overwrought)': False, 'contains(jason)': False, 'contains(surely)': False, 'contains(industry)': False, 'contains(precious)': False, 'contains(violent)': False, 'contains(moviegoers)': False, 'contains(storyline)': False, 'contains(modest)': False, 'contains(realism)': False, 'contains(fall)': False, 'contains(document)': False, 'contains(early)': False, 'contains(broad)': False, \"contains(world's)\": False, 'contains(accomplished)': False, 'contains(disappointing)': False, 'contains(chinese)': False, 'contains(creating)': False, 'contains(outrageous)': False, 'contains(dazzling)': False, 'contains(directing)': False, 'contains(matters)': False, 'contains(vibrant)': False, 'contains(list)': False, 'contains(grand)': False, 'contains(scenario)': False, 'contains(roles)': False, 'contains(land)': False, 'contains(digital)': False, 'contains(bittersweet)': False, 'contains(wry)': False, 'contains(father)': False, 'contains(tender)': False, 'contains(wonderfully)': False, 'contains(served)': False, 'contains(relatively)': False, 'contains(worked)': False, 'contains(lies)': False, 'contains(starring)': False, 'contains(common)': False, 'contains(cynical)': False, 'contains(sloppy)': False, 'contains(pass)': False, 'contains(conclusion)': False, 'contains(frank)': False, 'contains(holiday)': False, 'contains(respect)': False, 'contains(thrilling)': False, 'contains(escape)': False, 'contains(foreign)': False, 'contains(greek)': False, 'contains(growing)': False, 'contains(territory)': False, 'contains(soon)': False, 'contains(sign)': False, 'contains(harvard)': False, 'contains(wears)': False, 'contains(secrets)': False, 'contains(empathy)': False, \"contains(here's)\": False, 'contains(sitcom)': False, 'contains(pain)': False, 'contains(feel-good)': False, 'contains(mention)': False, 'contains(mild)': False, 'contains(plotting)': False, 'contains(disaster)': False, 'contains(die)': False, 'contains(source)': False, 'contains(fable)': False, 'contains(ryan)': False, 'contains(joy)': False, 'contains(roll)': False, 'contains(confusing)': False, 'contains(mayhem)': False, 'contains(self-indulgent)': False, 'contains(cliche)': False, 'contains(mile)': False, 'contains(pokemon)': False, 'contains(mistake)': False, 'contains(male)': False, 'contains(notion)': False, 'contains(increasingly)': False, 'contains(featuring)': False, 'contains(woody)': False, 'contains(stays)': False, 'contains(morality)': False, 'contains(late)': False, 'contains(dangerous)': False, \"contains(woman's)\": False, 'contains(philosophical)': False, 'contains(unfolds)': False, 'contains(chan)': False, 'contains(features)': False, 'contains(bullock)': False, 'contains(zone)': False, 'contains(trick)': False, 'contains(forgotten)': False, 'contains(choices)': False, 'contains(showing)': False, 'contains(personality)': False, 'contains(romp)': False, 'contains(lesson)': False, 'contains(paid)': False, 'contains(fight)': False, 'contains(beginning)': False, 'contains(song)': False, 'contains(retread)': False, 'contains(reasonably)': False, 'contains(aspects)': False, 'contains(&)': False, 'contains(check)': False, 'contains(slick)': False, 'contains(low-budget)': False, 'contains(metaphor)': False, 'contains(xxx)': False, 'contains(experiences)': False, 'contains(gritty)': False, 'contains(cautionary)': False, 'contains(moves)': False, 'contains(arnold)': False, 'contains(surreal)': False, 'contains(addition)': False, 'contains(state)': False, 'contains(faithful)': False, 'contains(becoming)': False, 'contains(eccentric)': False, 'contains(brothers)': False, 'contains(compassion)': False, 'contains(carries)': False, 'contains(harmless)': False, 'contains(reign)': False, 'contains(consistently)': False, 'contains(angst)': False, 'contains(depiction)': False, 'contains(including)': False, 'contains(mother)': False, 'contains(writer/director)': False, 'contains(son)': False, 'contains(italian)': False, 'contains(near)': False, 'contains(revolution)': False, 'contains(complexity)': False, 'contains(fantastic)': False, 'contains(brought)': False, 'contains(playful)': False, 'contains(lively)': False, 'contains(vividly)': False, 'contains(heartwarming)': False, 'contains(collection)': False, 'contains(unlikely)': False, 'contains(product)': False, 'contains(rises)': False, 'contains(over-the-top)': False, 'contains(amateurish)': False, 'contains(reno)': False, 'contains(brutal)': False, 'contains(ordinary)': False, 'contains(pity)': False, 'contains(banal)': False, 'contains(sick)': False, 'contains(took)': False, 'contains(hey)': False, 'contains(biggest)': False, 'contains(older)': False, 'contains(punch)': False, 'contains(brother)': False, 'contains(rhythms)': False, 'contains(laughter)': False, 'contains(mixed)': False, 'contains(iranian)': False, 'contains(plodding)': False, 'contains(resonance)': False, 'contains(vampire)': False, 'contains(makers)': False, 'contains(van)': False, 'contains(wasted)': False, 'contains(capable)': False, 'contains(acts)': False, 'contains(cheesy)': False, 'contains(myself)': False, 'contains(sequels)': False, 'contains(vulgar)': False, 'contains(demands)': False, 'contains(speaking)': False, 'contains(stuck)': False, 'contains(cloying)': False, 'contains(leaving)': False, 'contains(suspenseful)': False, 'contains(cliché)': False, 'contains(desperately)': False, 'contains(intellectual)': False, 'contains(austin)': False, 'contains(front)': False, 'contains(spoof)': False, 'contains(snow)': False, 'contains(spark)': False, 'contains(downright)': False, 'contains(christmas)': False, 'contains(likable)': False, 'contains(appreciate)': False, 'contains(potentially)': False, 'contains(length)': False, 'contains(willing)': False, 'contains(third)': False, 'contains(fisher)': False, 'contains(creativity)': False, 'contains(asks)': False, 'contains(horrible)': False, 'contains(logic)': False, 'contains(totally)': False, 'contains(conviction)': False, \"contains(children's)\": False, 'contains(details)': False, 'contains(technical)': False, 'contains(sade)': False, 'contains(drawn)': False, 'contains(south)': False, 'contains(stomach)': False, 'contains(families)': False, 'contains(constantly)': False, 'contains(sympathy)': False, 'contains(belongs)': False, 'contains(child)': False, 'contains(teacher)': False, 'contains(step)': False, 'contains(real-life)': False, 'contains(literally)': False, 'contains(strictly)': False, 'contains(solondz)': False, 'contains(persona)': False, 'contains(pinocchio)': False, 'contains(center)': False, 'contains(caper)': False, 'contains(visceral)': False, 'contains(captivating)': False, 'contains(went)': False, 'contains(utter)': False, 'contains(preposterous)': False, 'contains(following)': False, 'contains(protagonist)': False, 'contains(sides)': False, 'contains(sandler)': False, 'contains(20)': False, 'contains(science)': False, 'contains(revealing)': False, 'contains(t)': False, 'contains(bored)': False, 'contains(stirring)': False, 'contains(nasty)': False, 'contains(due)': False, 'contains(band)': False, 'contains(intensity)': False, 'contains(patience)': False, 'contains(messages)': False, 'contains(assured)': False, 'contains(manage)': False, 'contains(event)': False, 'contains(safe)': False, 'contains(literary)': False, 'contains(capture)': False, 'contains(hearts)': False, 'contains(spooky)': False, 'contains(elegant)': False, 'contains(low-key)': False, 'contains(finding)': False, 'contains(martha)': False, 'contains(resonant)': False, 'contains(detailed)': False, 'contains(spare)': False, 'contains(polished)': False, 'contains(teenage)': True, 'contains(flashy)': False, 'contains(loose)': False, 'contains(screenwriting)': False, 'contains(commentary)': False, 'contains(homage)': False, 'contains(catch)': False, 'contains(seagal)': False, 'contains(spent)': False, 'contains(quest)': False, 'contains(understanding)': False, 'contains(entertain)': False, 'contains(camp)': False, 'contains(expectations)': False, 'contains(ask)': False, 'contains(memories)': False, 'contains(fly)': False, 'contains(actresses)': False, 'contains(sentiment)': False, 'contains(skip)': False, 'contains(glass)': False, 'contains(bag)': False, 'contains(pull)': False, 'contains(offbeat)': False, 'contains(touches)': False, 'contains(realize)': False, 'contains(wow)': False, 'contains(whom)': False, 'contains(poignancy)': False, 'contains(trek)': False, 'contains(trite)': False, 'contains(realized)': False, 'contains(lousy)': False, 'contains(knowing)': False, 'contains(content)': False, 'contains(finale)': False, 'contains(inept)': False, 'contains(predictably)': False, 'contains(rent)': False, 'contains(clarity)': False, 'contains(pathetic)': False, 'contains(showtime)': False, 'contains(tales)': False, 'contains(ludicrous)': False, 'contains(cult)': False, 'contains(basic)': False, 'contains(charms)': False, 'contains(nostalgia)': False, 'contains(hybrid)': False, 'contains(preachy)': False, 'contains(birthday)': False, 'contains(southern)': False, 'contains(dealing)': False, 'contains(fatal)': False, 'contains(predecessors)': False, 'contains(sugar)': False, 'contains(hip)': False, 'contains(lifeless)': False, 'contains(issue)': False, 'contains(rewarding)': False, 'contains(lady)': False, 'contains(rap)': False, 'contains(released)': False, 'contains(reminds)': False, 'contains(uninspired)': False, 'contains(embarrassment)': False, 'contains(self-conscious)': False, 'contains(closer)': False, 'contains(suggests)': False, 'contains(animal)': False, 'contains(afraid)': False, 'contains(signs)': False, 'contains(pretension)': False, 'contains(learn)': False, 'contains(guns)': False, 'contains(mainly)': False, 'contains(race)': False, 'contains(design)': False, 'contains(food)': False, 'contains(sadly)': False, 'contains(opening)': False, 'contains(kiss)': False, 'contains(grow)': False, 'contains(bottom)': False, 'contains(teens)': False, 'contains(bitter)': False, 'contains(quick)': False, 'contains(timely)': False, 'contains(brilliantly)': False, 'contains(harry)': False, 'contains(costumes)': False, 'contains(theaters)': False, 'contains(wacky)': False, 'contains(hill)': False, 'contains(slowly)': False, \"contains(one's)\": False, 'contains(control)': False, 'contains(frontal)': False, 'contains(traditional)': False, 'contains(dragon)': False, 'contains(wars)': False, 'contains(b)': False, 'contains(test)': False, 'contains(admire)': False, 'contains(account)': False, 'contains(silliness)': False, \"contains('70s)\": False, 'contains(false)': False, 'contains(bold)': False, 'contains(degree)': False, 'contains(onto)': False, 'contains(credibility)': False, 'contains(shock)': False, 'contains(helps)': False, 'contains(minute)': False, 'contains(stereotypes)': False, 'contains(bite)': False, 'contains(inner)': False, 'contains(winner)': False, 'contains(observations)': False, 'contains(happened)': False, 'contains(frida)': False, 'contains(insights)': False, 'contains(outside)': False, 'contains(barbershop)': False, 'contains(tasty)': False, 'contains(blair)': False, 'contains([the)': False, 'contains(required)': False, 'contains(seemingly)': False, 'contains(directs)': False, 'contains(packed)': False, 'contains(tears)': False, 'contains(marriage)': False, 'contains(miller)': False, 'contains(evocative)': False, 'contains(channel)': False, 'contains(artists)': False, 'contains(supporting)': False, 'contains(subversive)': False, 'contains(bigger)': False, 'contains(current)': False, 'contains(key)': False, 'contains(transcends)': False, 'contains(honesty)': False, \"contains(filmmaker's)\": False, 'contains(record)': False, 'contains(twisted)': False, 'contains(books)': False, 'contains(lyrical)': False, 'contains(graphic)': False, 'contains(notice)': False, 'contains(parody)': False, 'contains(mere)': False, 'contains(smile)': False, 'contains(incoherent)': False, 'contains(achievement)': False, 'contains(prison)': False, 'contains(pat)': False, 'contains(after-school)': False, 'contains(trapped)': False, 'contains(rhythm)': False, 'contains(shocking)': False, 'contains(appear)': False, 'contains(saying)': False, 'contains(subtlety)': False, 'contains(disappointed)': False, 'contains(unfaithful)': False, 'contains(rip-off)': False, 'contains(engage)': False, 'contains(importance)': False, 'contains(inspire)': False, 'contains(victims)': False, 'contains(artificial)': False, 'contains(parable)': False, 'contains(humour)': False, 'contains(crude)': False, 'contains(stealing)': False, 'contains(drags)': False, 'contains(santa)': False, 'contains(nightmare)': False, 'contains(park)': False, 'contains(proceedings)': False, 'contains(language)': False, 'contains(missed)': False, 'contains(teenagers)': False, 'contains(monsters)': False, 'contains(impression)': False, 'contains(astonishing)': False, 'contains(computer)': False, 'contains(context)': False, 'contains(saving)': False, 'contains(distinctive)': False, 'contains(rush)': False, 'contains(bother)': False, 'contains(pathos)': False, 'contains(ingredients)': False, 'contains(revelatory)': False, 'contains(c)': False, 'contains(trappings)': False, 'contains(absurd)': False, 'contains(lawrence)': False, 'contains(hong)': False, 'contains(windtalkers)': False, 'contains(holocaust)': False, 'contains(kung)': False, 'contains(trash)': False, 'contains(total)': False, 'contains(background)': False, 'contains(dramatically)': False, 'contains(cliched)': False, \"contains(soderbergh's)\": False, 'contains(broken)': False, 'contains(davis)': False, 'contains(em)': False, 'contains(service)': False, 'contains(inoffensive)': False, 'contains(hugh)': False, 'contains(drugs)': False, 'contains(madonna)': False, 'contains(saturday)': False, 'contains(meant)': False, 'contains(contains)': False, 'contains(endeavor)': False, 'contains(comfort)': False, 'contains(heard)': False, 'contains(escapism)': False, 'contains(filme)': False, 'contains(noir)': False, 'contains(husband)': False, 'contains(seven)': False, 'contains(characterizations)': False, 'contains(unintentional)': False, 'contains(superb)': False, 'contains(earlier)': False, 'contains(earth)': False, 'contains(drive)': False, 'contains(innocence)': False, 'contains(excess)': False, 'contains(turning)': False, 'contains(smarter)': False, 'contains(fill)': False, 'contains(uplifting)': False, 'contains(season)': False, 'contains(string)': False, 'contains(relentless)': False, 'contains(apparent)': False, 'poscount': 0, 'negcount': 0}\n"
     ]
    }
   ],
   "source": [
    "def read_words():\n",
    "  poslist = []\n",
    "  neglist = []\n",
    "  flexicon = open('SentimentLexicons/liwcdic2007.dic', encoding='latin1')\n",
    "  # read all LIWC words from file\n",
    "  wordlines = [line.strip() for line in flexicon]\n",
    "  # each line has a word or a stem followed by * and numbers of the word classes it is in\n",
    "  # word class 126 is positive emotion and 127 is negative emotion\n",
    "  for line in wordlines:\n",
    "    if not line == '':\n",
    "      items = line.split()\n",
    "      word = items[0]\n",
    "      classes = items[1:]\n",
    "      for c in classes:\n",
    "        if c == '126':\n",
    "          poslist.append( word )\n",
    "        if c == '127':\n",
    "          neglist.append( word )\n",
    "  return (poslist, neglist)\n",
    "\n",
    "poslist, neglist = read_words()\n",
    "\n",
    "def liwc_features(document, word_features):\n",
    "    document_words = set(document)\n",
    "    features = {}\n",
    "    for word in word_features:\n",
    "        features['contains({})'.format(word)] = (word in document_words)\n",
    "    # count variables for the 2 classes of subjectivity\n",
    "    Pos = 0\n",
    "    Neg = 0\n",
    "    for word in document_words:\n",
    "        if word in poslist:\n",
    "                Pos += 1\n",
    "        if word in neglist:\n",
    "                Neg += 1\n",
    "        features['poscount'] = Pos\n",
    "        features['negcount'] = Neg    \n",
    "    return features\n",
    "\n",
    "liwc_featureset= [(liwc_features(d,word_features), c) for (d, c) in documents]\n",
    "print(len(liwc_featureset))\n",
    "# each feature is 'contains(keyword)' and is true or false depending\n",
    "# on whether that keyword is in the document\n",
    "print(liwc_featureset[1][0])"
   ]
  },
  {
   "cell_type": "markdown",
   "metadata": {},
   "source": [
    "### Cross-validation"
   ]
  },
  {
   "cell_type": "code",
   "execution_count": 113,
   "metadata": {},
   "outputs": [
    {
     "name": "stdout",
     "output_type": "stream",
     "text": [
      "0 0.75\n",
      "1 0.7560975609756098\n",
      "2 0.7467166979362101\n",
      "3 0.74812382739212\n",
      "4 0.7340525328330206\n",
      "mean accuracy 0.7469981238273921\n"
     ]
    }
   ],
   "source": [
    "random.shuffle(liwc_featureset)\n",
    "train_set, test_set = liwc_featureset[1000:], liwc_featureset[:1000]\n",
    "cross_validation_accuracy(5, liwc_featureset)"
   ]
  },
  {
   "cell_type": "code",
   "execution_count": 47,
   "metadata": {},
   "outputs": [
    {
     "name": "stdout",
     "output_type": "stream",
     "text": [
      "0 0.7570356472795498\n",
      "1 0.7448405253283302\n",
      "2 0.7439024390243902\n",
      "3 0.7392120075046904\n",
      "4 0.7382739212007504\n",
      "mean accuracy 0.7446529080675421\n"
     ]
    }
   ],
   "source": [
    "random.shuffle(liwc_featureset)\n",
    "train_set, test_set = liwc_featureset[1000:], liwc_featureset[:1000]\n",
    "cross_validation_accuracy(5, liwc_featureset)"
   ]
  },
  {
   "cell_type": "code",
   "execution_count": 48,
   "metadata": {},
   "outputs": [
    {
     "name": "stdout",
     "output_type": "stream",
     "text": [
      "0 0.7387429643527205\n",
      "1 0.7401500938086304\n",
      "2 0.7593808630393997\n",
      "3 0.7453095684803002\n",
      "4 0.7467166979362101\n",
      "mean accuracy 0.7460600375234522\n"
     ]
    }
   ],
   "source": [
    "random.shuffle(liwc_featureset)\n",
    "train_set, test_set = liwc_featureset[1000:], liwc_featureset[:1000]\n",
    "cross_validation_accuracy(5, liwc_featureset)"
   ]
  },
  {
   "cell_type": "code",
   "execution_count": 52,
   "metadata": {},
   "outputs": [
    {
     "data": {
      "text/plain": [
       "0.7459036898061289"
      ]
     },
     "execution_count": 52,
     "metadata": {},
     "output_type": "execute_result"
    }
   ],
   "source": [
    "(0.7469981238273921+0.7446529080675421+0.7460600375234522)/3"
   ]
  },
  {
   "cell_type": "markdown",
   "metadata": {},
   "source": [
    "## Sentiment Lexicon"
   ]
  },
  {
   "cell_type": "code",
   "execution_count": 27,
   "metadata": {},
   "outputs": [
    {
     "data": {
      "text/plain": [
       "['weaksubj', 'adj', False, 'negative']"
      ]
     },
     "execution_count": 27,
     "metadata": {},
     "output_type": "execute_result"
    }
   ],
   "source": [
    "####   adding features from a sentiment lexicon   ####\n",
    "# First look at the program in the file Subjectivity.py to load the subjectivity lexicon\n",
    "# copy and paste the definition of the readSubjectivity function\n",
    "\n",
    "# This function returns a dictionary where you can look up words and get back \n",
    "#     the four items of subjectivity information described above\n",
    "def readSubjectivity(path):\n",
    "    flexicon = open(path, 'r')\n",
    "    # initialize an empty dictionary\n",
    "    sldict = { }\n",
    "    for line in flexicon:\n",
    "        fields = line.split()   # default is to split on whitespace\n",
    "        # split each field on the '=' and keep the second part as the value\n",
    "        strength = fields[0].split(\"=\")[1]\n",
    "        word = fields[2].split(\"=\")[1]\n",
    "        posTag = fields[3].split(\"=\")[1]\n",
    "        stemmed = fields[4].split(\"=\")[1]\n",
    "        polarity = fields[5].split(\"=\")[1]\n",
    "        if (stemmed == 'y'):\n",
    "            isStemmed = True\n",
    "        else:\n",
    "            isStemmed = False\n",
    "        # put a dictionary entry with the word as the keyword\n",
    "        #     and a list of the other values\n",
    "        sldict[word] = [strength, posTag, isStemmed, polarity]\n",
    "    return sldict\n",
    "\n",
    "# create a path to where the subjectivity file resides on your disk\n",
    "\n",
    "SLpath = \"subjclueslen1-HLTEMNLP05.tff\"\n",
    "SL = readSubjectivity(SLpath)\n",
    "\n",
    "# how many words are in the dictionary:6885\n",
    "#len(SL.keys())\n",
    "\n",
    "SL.keys()\n",
    "SL['abandoned']"
   ]
  },
  {
   "cell_type": "code",
   "execution_count": 28,
   "metadata": {
    "collapsed": true
   },
   "outputs": [],
   "source": [
    "# define features that include word counts of subjectivity words\n",
    "# negative feature will have number of weakly negative words +\n",
    "#    2 * number of strongly negative words\n",
    "# positive feature has similar definition\n",
    "#    not counting neutral words\n",
    "def SL_features(document, word_features, SL):\n",
    "    document_words = set(document)\n",
    "    features = {}\n",
    "    for word in word_features:\n",
    "        features['contains({})'.format(word)] = (word in document_words)\n",
    "    # count variables for the 4 classes of subjectivity\n",
    "    weakPos = 0\n",
    "    strongPos = 0\n",
    "    weakNeg = 0\n",
    "    strongNeg = 0\n",
    "    for word in document_words:\n",
    "        if word in SL:\n",
    "            strength, posTag, isStemmed, polarity = SL[word]\n",
    "            if strength == 'weaksubj' and polarity == 'positive':\n",
    "                weakPos += 1\n",
    "            if strength == 'strongsubj' and polarity == 'positive':\n",
    "                strongPos += 1\n",
    "            if strength == 'weaksubj' and polarity == 'negative':\n",
    "                weakNeg += 1\n",
    "            if strength == 'strongsubj' and polarity == 'negative':\n",
    "                strongNeg += 1\n",
    "            features['positivecount'] = weakPos + (2 * strongPos)\n",
    "            features['negativecount'] = weakNeg + (2 * strongNeg)      \n",
    "    return features"
   ]
  },
  {
   "cell_type": "code",
   "execution_count": 29,
   "metadata": {},
   "outputs": [
    {
     "name": "stdout",
     "output_type": "stream",
     "text": [
      "0\n",
      "6\n"
     ]
    }
   ],
   "source": [
    "SL_featuresets = [(SL_features(d, word_features, SL), c) for (d, c) in documents]\n",
    "\n",
    "# show just the two sentiment lexicon features in document 0\n",
    "print(SL_featuresets[0][0]['positivecount'])\n",
    "print(SL_featuresets[0][0]['negativecount'])"
   ]
  },
  {
   "cell_type": "markdown",
   "metadata": {},
   "source": [
    "### Cross-Validation"
   ]
  },
  {
   "cell_type": "code",
   "execution_count": 36,
   "metadata": {},
   "outputs": [
    {
     "name": "stdout",
     "output_type": "stream",
     "text": [
      "0 0.7514071294559099\n",
      "1 0.7640712945590994\n",
      "2 0.7640712945590994\n",
      "3 0.7696998123827392\n",
      "4 0.7542213883677298\n",
      "mean accuracy 0.7606941838649155\n"
     ]
    }
   ],
   "source": [
    "random.shuffle(SL_featuresets)\n",
    "train_set, test_set = SL_featuresets[1000:], SL_featuresets[:1000]\n",
    "cross_validation_accuracy(5,SL_featuresets)"
   ]
  },
  {
   "cell_type": "code",
   "execution_count": 54,
   "metadata": {},
   "outputs": [
    {
     "name": "stdout",
     "output_type": "stream",
     "text": [
      "0 0.7560975609756098\n",
      "1 0.7589118198874296\n",
      "2 0.7556285178236398\n",
      "3 0.7673545966228893\n",
      "4 0.7673545966228893\n",
      "mean accuracy 0.7610694183864916\n"
     ]
    }
   ],
   "source": [
    "random.shuffle(SL_featuresets)\n",
    "train_set, test_set = SL_featuresets[1000:], SL_featuresets[:1000]\n",
    "cross_validation_accuracy(5,SL_featuresets)"
   ]
  },
  {
   "cell_type": "code",
   "execution_count": 55,
   "metadata": {},
   "outputs": [
    {
     "name": "stdout",
     "output_type": "stream",
     "text": [
      "0 0.7617260787992496\n",
      "1 0.7584427767354597\n",
      "2 0.7528142589118199\n",
      "3 0.7668855534709194\n",
      "4 0.7626641651031895\n",
      "mean accuracy 0.7605065666041276\n"
     ]
    }
   ],
   "source": [
    "random.shuffle(SL_featuresets)\n",
    "train_set, test_set = SL_featuresets[1000:], SL_featuresets[:1000]\n",
    "cross_validation_accuracy(5,SL_featuresets)"
   ]
  },
  {
   "cell_type": "code",
   "execution_count": 57,
   "metadata": {},
   "outputs": [
    {
     "data": {
      "text/plain": [
       "0.7607567229518448"
      ]
     },
     "execution_count": 57,
     "metadata": {},
     "output_type": "execute_result"
    }
   ],
   "source": [
    "(0.7606941838649155+0.7610694183864916+0.7605065666041276)/3"
   ]
  },
  {
   "cell_type": "markdown",
   "metadata": {
    "collapsed": true
   },
   "source": [
    "baseline=0.74659161976\n",
    "\n",
    "bigram=0.74627892432\n",
    "\n",
    "pos=0.74227642276\n",
    "\n",
    "liwc=0.7459036898061289\n",
    "\n",
    "sl=0.7607567229518448\n",
    "\n"
   ]
  }
 ],
 "metadata": {
  "kernelspec": {
   "display_name": "Python 3",
   "language": "python",
   "name": "python3"
  },
  "language_info": {
   "codemirror_mode": {
    "name": "ipython",
    "version": 3
   },
   "file_extension": ".py",
   "mimetype": "text/x-python",
   "name": "python",
   "nbconvert_exporter": "python",
   "pygments_lexer": "ipython3",
   "version": "3.6.1"
  },
  "toc": {
   "nav_menu": {},
   "number_sections": true,
   "sideBar": true,
   "skip_h1_title": false,
   "toc_cell": false,
   "toc_position": {
    "height": "529px",
    "left": "0px",
    "right": "944px",
    "top": "107px",
    "width": "212px"
   },
   "toc_section_display": "block",
   "toc_window_display": true
  },
  "varInspector": {
   "cols": {
    "lenName": 16,
    "lenType": 16,
    "lenVar": 40
   },
   "kernels_config": {
    "python": {
     "delete_cmd_postfix": "",
     "delete_cmd_prefix": "del ",
     "library": "var_list.py",
     "varRefreshCmd": "print(var_dic_list())"
    },
    "r": {
     "delete_cmd_postfix": ") ",
     "delete_cmd_prefix": "rm(",
     "library": "var_list.r",
     "varRefreshCmd": "cat(var_dic_list()) "
    }
   },
   "types_to_exclude": [
    "module",
    "function",
    "builtin_function_or_method",
    "instance",
    "_Feature"
   ],
   "window_display": false
  }
 },
 "nbformat": 4,
 "nbformat_minor": 2
}
