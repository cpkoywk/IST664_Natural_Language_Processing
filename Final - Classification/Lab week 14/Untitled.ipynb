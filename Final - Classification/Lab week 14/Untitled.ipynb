{
 "cells": [
  {
   "cell_type": "code",
   "execution_count": 1,
   "metadata": {
    "button": false,
    "collapsed": true,
    "deletable": true,
    "new_sheet": false,
    "run_control": {
     "read_only": false
    }
   },
   "outputs": [],
   "source": [
    "'''\n",
    "    This file contains functions to report on cross-validation in the NLTK.\n",
    "    The main function to call is cross_validate_evaluate(num_folds, featuresets, label_list)\n",
    "    Usage:  given previously defined featuresets and list of labels   \n",
    "        num_folds = 10  # or 5\n",
    "        label_list = ['pos','neg']\n",
    "        cross_validate_evaluate(num_folds, featuresets, label_list)\n",
    "'''\n",
    "from nltk.metrics import *\n",
    "# use NLTK to compute evaluation measures from a reflist of gold labels\n",
    "#    and a testlist of predicted labels for all labels in a list\n",
    "# returns lists of precision and recall for each label\n",
    "def eval_measures(reflist, testlist, label_list):\n",
    "    #initialize sets\n",
    "    # for each label in the label list, make a set of the indexes of the ref and test items\n",
    "    #   store them in sets for each label, stored in dictionaries\n",
    "    # first create dictionaries\n",
    "    ref_sets = {}\n",
    "    test_sets = {}\n",
    "    # create empty sets for each label\n",
    "    for lab in label_list:\n",
    "        ref_sets[lab] = set()\n",
    "        test_sets[lab] = set()\n",
    "\n",
    "    # get gold labels\n",
    "    for j, label in enumerate(reflist):\n",
    "        ref_sets[label].add(j)\n",
    "    # get predicted labels\n",
    "    for k, label in enumerate(testlist):\n",
    "        test_sets[label].add(k)\n",
    "\n",
    "    # lists to return precision and recall for all labels\n",
    "    precision_list = []\n",
    "    recall_list = []\n",
    "    #compute precision and recall for all labels using the NLTK functions\n",
    "    for lab in label_list:\n",
    "        precision_list.append ( precision(ref_sets[lab], test_sets[lab]))\n",
    "        recall_list.append ( recall(ref_sets[lab], test_sets[lab]))\n",
    "\n",
    "    return (precision_list, recall_list)\n"
   ]
  },
  {
   "cell_type": "code",
   "execution_count": null,
   "metadata": {
    "button": false,
    "collapsed": true,
    "deletable": true,
    "new_sheet": false,
    "run_control": {
     "read_only": false
    }
   },
   "outputs": [],
   "source": []
  }
 ],
 "metadata": {
  "kernelspec": {
   "display_name": "Python 3",
   "language": "python",
   "name": "python3"
  },
  "language_info": {
   "codemirror_mode": {
    "name": "ipython",
    "version": 3
   },
   "file_extension": ".py",
   "mimetype": "text/x-python",
   "name": "python",
   "nbconvert_exporter": "python",
   "pygments_lexer": "ipython3",
   "version": "3.5.0"
  },
  "toc": {
   "nav_menu": {},
   "number_sections": true,
   "sideBar": true,
   "skip_h1_title": false,
   "toc_cell": false,
   "toc_position": {},
   "toc_section_display": "block",
   "toc_window_display": false
  },
  "varInspector": {
   "cols": {
    "lenName": 16,
    "lenType": 16,
    "lenVar": 40
   },
   "kernels_config": {
    "python": {
     "delete_cmd_postfix": "",
     "delete_cmd_prefix": "del ",
     "library": "var_list.py",
     "varRefreshCmd": "print(var_dic_list())"
    },
    "r": {
     "delete_cmd_postfix": ") ",
     "delete_cmd_prefix": "rm(",
     "library": "var_list.r",
     "varRefreshCmd": "cat(var_dic_list()) "
    }
   },
   "types_to_exclude": [
    "module",
    "function",
    "builtin_function_or_method",
    "instance",
    "_Feature"
   ],
   "window_display": false
  }
 },
 "nbformat": 4,
 "nbformat_minor": 2
}
